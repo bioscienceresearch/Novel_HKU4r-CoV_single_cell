{
 "cells": [
  {
   "cell_type": "code",
   "execution_count": 68,
   "id": "lesbian-moral",
   "metadata": {},
   "outputs": [
    {
     "name": "stdout",
     "output_type": "stream",
     "text": [
      "blastasm/bin/python\n"
     ]
    }
   ],
   "source": [
    "import pathlib\n",
    "import pylab as plt\n",
    "\n",
    "#from matplotlib import pyplot as plt\n",
    "import numpy as np\n",
    "from numpy import unique\n",
    "from numpy import where\n",
    "import pandas as pd\n",
    "import matplotlib\n",
    "import seaborn as sns\n",
    "import sys\n",
    "print(sys.executable.split('miniconda3/envs/')[1])"
   ]
  },
  {
   "cell_type": "code",
   "execution_count": 69,
   "id": "initial-audit",
   "metadata": {},
   "outputs": [],
   "source": [
    "sns.set_style('white')"
   ]
  },
  {
   "cell_type": "code",
   "execution_count": 70,
   "id": "scenic-preparation",
   "metadata": {},
   "outputs": [],
   "source": [
    "PRJ='PRJNA747757'\n",
    "BASE_PATH='/mnt/8TB_1/Data/Assembly/'\n",
    "DATA_PATH=f'{BASE_PATH}{PRJ}/'\n",
    "PLOT_PATH=DATA_PATH+'general_plots/'\n",
    "PLOT_DATA_FILE='kraken2_minimap2_alignments_extended.csv'\n",
    "ITERATION=4\n",
    "PARAMS='sr'\n",
    "#PARAMS='default'"
   ]
  },
  {
   "cell_type": "code",
   "execution_count": 71,
   "id": "indie-while",
   "metadata": {},
   "outputs": [],
   "source": [
    "df_accessions=pd.read_csv(PLOT_PATH+'accessions_kraken2.csv')"
   ]
  },
  {
   "cell_type": "code",
   "execution_count": 72,
   "id": "corporate-vegetation",
   "metadata": {},
   "outputs": [
    {
     "data": {
      "text/html": [
       "<div>\n",
       "<style scoped>\n",
       "    .dataframe tbody tr th:only-of-type {\n",
       "        vertical-align: middle;\n",
       "    }\n",
       "\n",
       "    .dataframe tbody tr th {\n",
       "        vertical-align: top;\n",
       "    }\n",
       "\n",
       "    .dataframe thead th {\n",
       "        text-align: right;\n",
       "    }\n",
       "</style>\n",
       "<table border=\"1\" class=\"dataframe\">\n",
       "  <thead>\n",
       "    <tr style=\"text-align: right;\">\n",
       "      <th></th>\n",
       "      <th>Accession</th>\n",
       "      <th>Code</th>\n",
       "      <th>Description</th>\n",
       "    </tr>\n",
       "  </thead>\n",
       "  <tbody>\n",
       "    <tr>\n",
       "      <th>0</th>\n",
       "      <td>NC_009889.1</td>\n",
       "      <td>RD114</td>\n",
       "      <td>RD114 retrovirus</td>\n",
       "    </tr>\n",
       "    <tr>\n",
       "      <th>1</th>\n",
       "      <td>OM009282r</td>\n",
       "      <td>P251T/pangolin/2018</td>\n",
       "      <td>'Pangolin coronavirus strain P251T/pangolin/20...</td>\n",
       "    </tr>\n",
       "    <tr>\n",
       "      <th>2</th>\n",
       "      <td>MK636875.1</td>\n",
       "      <td>Dongyang pangolin virus</td>\n",
       "      <td>Dongyang pangolin virus isolate DYCS</td>\n",
       "    </tr>\n",
       "    <tr>\n",
       "      <th>3</th>\n",
       "      <td>NC_001403.1</td>\n",
       "      <td>Fujinami sarcoma virus</td>\n",
       "      <td>Fujinami sarcoma virus</td>\n",
       "    </tr>\n",
       "    <tr>\n",
       "      <th>4</th>\n",
       "      <td>NC_001494.1</td>\n",
       "      <td>Jaagsiekte sheep retrovirus</td>\n",
       "      <td>Jaagsiekte sheep retrovirus complete genome</td>\n",
       "    </tr>\n",
       "  </tbody>\n",
       "</table>\n",
       "</div>"
      ],
      "text/plain": [
       "     Accession                         Code  \\\n",
       "0  NC_009889.1                       RD114    \n",
       "1    OM009282r          P251T/pangolin/2018   \n",
       "2   MK636875.1      Dongyang pangolin virus   \n",
       "3  NC_001403.1       Fujinami sarcoma virus   \n",
       "4  NC_001494.1  Jaagsiekte sheep retrovirus   \n",
       "\n",
       "                                         Description  \n",
       "0                                   RD114 retrovirus  \n",
       "1  'Pangolin coronavirus strain P251T/pangolin/20...  \n",
       "2               Dongyang pangolin virus isolate DYCS  \n",
       "3                             Fujinami sarcoma virus  \n",
       "4        Jaagsiekte sheep retrovirus complete genome  "
      ]
     },
     "execution_count": 72,
     "metadata": {},
     "output_type": "execute_result"
    }
   ],
   "source": [
    "df_accessions.head()"
   ]
  },
  {
   "cell_type": "code",
   "execution_count": 73,
   "id": "chubby-moment",
   "metadata": {},
   "outputs": [],
   "source": [
    "df_accessions['Accession']=df_accessions['Accession'].str.strip()"
   ]
  },
  {
   "cell_type": "markdown",
   "id": "1782706e",
   "metadata": {},
   "source": [
    "## Read in CoV alignments"
   ]
  },
  {
   "cell_type": "code",
   "execution_count": 74,
   "id": "c1779104",
   "metadata": {},
   "outputs": [],
   "source": [
    "def get_virus_df(prj, base_path, plot_data_file):\n",
    "    data_path=f'{base_path}{prj}/'\n",
    "    plot_path=data_path+'general_plots/'\n",
    "    df=pd.read_csv(plot_path+plot_data_file)\n",
    "    df['Accession']=df['Accession'].str.strip()\n",
    "    return df"
   ]
  },
  {
   "cell_type": "code",
   "execution_count": 75,
   "id": "f24acded",
   "metadata": {},
   "outputs": [],
   "source": [
    "prjs=['PRJNA573298', 'PRJNA606875', 'PRJNA610466', 'PRJNA686836', 'PRJNA607174']\n",
    "base_paths=['/mnt/1TB_0/Data/Assembly/']*(len(prjs)-1)\n",
    "base_paths.append('/mnt/8TB_0/Data/Assembly/')"
   ]
  },
  {
   "cell_type": "code",
   "execution_count": 76,
   "id": "surface-cornwall",
   "metadata": {},
   "outputs": [],
   "source": [
    "\n",
    "df=get_virus_df(PRJ, BASE_PATH, PLOT_DATA_FILE)\n",
    "df=df.rename(columns=lambda x: x.strip())\n"
   ]
  },
  {
   "cell_type": "code",
   "execution_count": null,
   "id": "e11b7534",
   "metadata": {},
   "outputs": [],
   "source": []
  },
  {
   "cell_type": "code",
   "execution_count": 77,
   "id": "6bd35883",
   "metadata": {},
   "outputs": [],
   "source": [
    "def get_df_all(df):\n",
    "    df_all=df\n",
    "    df_all=df_all.rename(columns=lambda x: x.strip())\n",
    "    df_all.rename(columns = {'Accession':'Virus'}, inplace = True)\n",
    "    df_all['N'] = df_all['N'].astype(int)\n",
    "    return df_all"
   ]
  },
  {
   "cell_type": "code",
   "execution_count": 78,
   "id": "7862d821",
   "metadata": {},
   "outputs": [
    {
     "data": {
      "text/plain": [
       "(256, 15)"
      ]
     },
     "execution_count": 78,
     "metadata": {},
     "output_type": "execute_result"
    }
   ],
   "source": [
    "df_all=get_df_all(df)\n",
    "df_all.shape"
   ]
  },
  {
   "cell_type": "code",
   "execution_count": 79,
   "id": "b6f1e34f",
   "metadata": {},
   "outputs": [],
   "source": [
    "### filter to => 10%"
   ]
  },
  {
   "cell_type": "code",
   "execution_count": 80,
   "id": "1ed830a2",
   "metadata": {},
   "outputs": [],
   "source": [
    "df_all = df_all.loc[df_all['Coverage%'] >=10]\n"
   ]
  },
  {
   "cell_type": "code",
   "execution_count": 81,
   "id": "9ecae846",
   "metadata": {},
   "outputs": [],
   "source": [
    "df_pivot=df_all.pivot(index='Sample name', columns='Virus', values='N')"
   ]
  },
  {
   "cell_type": "code",
   "execution_count": 82,
   "id": "60997009",
   "metadata": {},
   "outputs": [
    {
     "data": {
      "text/html": [
       "<div>\n",
       "<style scoped>\n",
       "    .dataframe tbody tr th:only-of-type {\n",
       "        vertical-align: middle;\n",
       "    }\n",
       "\n",
       "    .dataframe tbody tr th {\n",
       "        vertical-align: top;\n",
       "    }\n",
       "\n",
       "    .dataframe thead th {\n",
       "        text-align: right;\n",
       "    }\n",
       "</style>\n",
       "<table border=\"1\" class=\"dataframe\">\n",
       "  <thead>\n",
       "    <tr style=\"text-align: right;\">\n",
       "      <th>Virus</th>\n",
       "      <th>NC_001403.1</th>\n",
       "      <th>NC_001494.1</th>\n",
       "      <th>NC_001940.1</th>\n",
       "      <th>NC_004994.2</th>\n",
       "      <th>NC_009889.1</th>\n",
       "      <th>NC_038668.1</th>\n",
       "      <th>NC_038923.1</th>\n",
       "      <th>NC_043382.1</th>\n",
       "      <th>OM009282r</th>\n",
       "    </tr>\n",
       "    <tr>\n",
       "      <th>Sample name</th>\n",
       "      <th></th>\n",
       "      <th></th>\n",
       "      <th></th>\n",
       "      <th></th>\n",
       "      <th></th>\n",
       "      <th></th>\n",
       "      <th></th>\n",
       "      <th></th>\n",
       "      <th></th>\n",
       "    </tr>\n",
       "  </thead>\n",
       "  <tbody>\n",
       "    <tr>\n",
       "      <th>CT_ED</th>\n",
       "      <td>NaN</td>\n",
       "      <td>NaN</td>\n",
       "      <td>1355.0</td>\n",
       "      <td>NaN</td>\n",
       "      <td>69410.0</td>\n",
       "      <td>NaN</td>\n",
       "      <td>1690.0</td>\n",
       "      <td>709.0</td>\n",
       "      <td>NaN</td>\n",
       "    </tr>\n",
       "    <tr>\n",
       "      <th>CT_ES</th>\n",
       "      <td>NaN</td>\n",
       "      <td>NaN</td>\n",
       "      <td>1084.0</td>\n",
       "      <td>NaN</td>\n",
       "      <td>51202.0</td>\n",
       "      <td>NaN</td>\n",
       "      <td>266.0</td>\n",
       "      <td>1086.0</td>\n",
       "      <td>NaN</td>\n",
       "    </tr>\n",
       "    <tr>\n",
       "      <th>CT_HT</th>\n",
       "      <td>NaN</td>\n",
       "      <td>NaN</td>\n",
       "      <td>2793.0</td>\n",
       "      <td>NaN</td>\n",
       "      <td>162134.0</td>\n",
       "      <td>NaN</td>\n",
       "      <td>1032.0</td>\n",
       "      <td>4466.0</td>\n",
       "      <td>NaN</td>\n",
       "    </tr>\n",
       "    <tr>\n",
       "      <th>CT_KY</th>\n",
       "      <td>NaN</td>\n",
       "      <td>NaN</td>\n",
       "      <td>5800.0</td>\n",
       "      <td>NaN</td>\n",
       "      <td>24006.0</td>\n",
       "      <td>NaN</td>\n",
       "      <td>674.0</td>\n",
       "      <td>2315.0</td>\n",
       "      <td>NaN</td>\n",
       "    </tr>\n",
       "    <tr>\n",
       "      <th>CT_LG</th>\n",
       "      <td>NaN</td>\n",
       "      <td>419.0</td>\n",
       "      <td>6251.0</td>\n",
       "      <td>739.0</td>\n",
       "      <td>284212.0</td>\n",
       "      <td>NaN</td>\n",
       "      <td>585.0</td>\n",
       "      <td>13285.0</td>\n",
       "      <td>NaN</td>\n",
       "    </tr>\n",
       "  </tbody>\n",
       "</table>\n",
       "</div>"
      ],
      "text/plain": [
       "Virus        NC_001403.1  NC_001494.1  NC_001940.1  NC_004994.2  NC_009889.1  \\\n",
       "Sample name                                                                    \n",
       "CT_ED                NaN          NaN       1355.0          NaN      69410.0   \n",
       "CT_ES                NaN          NaN       1084.0          NaN      51202.0   \n",
       "CT_HT                NaN          NaN       2793.0          NaN     162134.0   \n",
       "CT_KY                NaN          NaN       5800.0          NaN      24006.0   \n",
       "CT_LG                NaN        419.0       6251.0        739.0     284212.0   \n",
       "\n",
       "Virus        NC_038668.1  NC_038923.1  NC_043382.1  OM009282r  \n",
       "Sample name                                                    \n",
       "CT_ED                NaN       1690.0        709.0        NaN  \n",
       "CT_ES                NaN        266.0       1086.0        NaN  \n",
       "CT_HT                NaN       1032.0       4466.0        NaN  \n",
       "CT_KY                NaN        674.0       2315.0        NaN  \n",
       "CT_LG                NaN        585.0      13285.0        NaN  "
      ]
     },
     "execution_count": 82,
     "metadata": {},
     "output_type": "execute_result"
    }
   ],
   "source": [
    "df_pivot.head()"
   ]
  },
  {
   "cell_type": "markdown",
   "id": "97a069ca",
   "metadata": {},
   "source": [
    "Order ~ by host"
   ]
  },
  {
   "cell_type": "code",
   "execution_count": 83,
   "id": "a614fe4a",
   "metadata": {},
   "outputs": [],
   "source": [
    "order_by=df_accessions['Accession'].tolist()\n",
    "cols=df_pivot.columns.tolist()\n",
    "reorder_cols=[]\n",
    "for o in order_by:\n",
    "    for c in cols:\n",
    "        if o.strip()==c.strip(): \n",
    "            reorder_cols.append(c)\n",
    "assert len(cols)==len(reorder_cols)"
   ]
  },
  {
   "cell_type": "code",
   "execution_count": 84,
   "id": "069a6c00",
   "metadata": {},
   "outputs": [],
   "source": [
    "df_pivot=df_pivot.reindex(columns= reorder_cols)"
   ]
  },
  {
   "cell_type": "code",
   "execution_count": 85,
   "id": "b76f31d9",
   "metadata": {},
   "outputs": [
    {
     "data": {
      "text/plain": [
       "Index(['NC_009889.1', 'OM009282r', 'NC_001403.1', 'NC_001494.1', 'NC_001940.1',\n",
       "       'NC_004994.2', 'NC_038923.1', 'NC_043382.1', 'NC_038668.1'],\n",
       "      dtype='object', name='Virus')"
      ]
     },
     "execution_count": 85,
     "metadata": {},
     "output_type": "execute_result"
    }
   ],
   "source": [
    "df_pivot.columns"
   ]
  },
  {
   "cell_type": "code",
   "execution_count": 86,
   "id": "fe0e83f0",
   "metadata": {},
   "outputs": [],
   "source": [
    "def get_samples(y_labels, df_datasets):\n",
    "    y_names=[]\n",
    "    for sra in y_labels:\n",
    "        y_names.append(df_datasets.loc[df_datasets['SRA'] == sra.strip(), 'Name'].values[0])\n",
    "    return y_names"
   ]
  },
  {
   "cell_type": "code",
   "execution_count": 87,
   "id": "4f12d2d9",
   "metadata": {},
   "outputs": [],
   "source": [
    "def get_accessions(x_labels, df_accessions):\n",
    "    x_codes=[]\n",
    "    for accession in x_labels:\n",
    "        x_codes.append(df_accessions.loc[df_accessions['Accession'] == accession.strip(), 'Code'].values[0])\n",
    "    return x_codes"
   ]
  },
  {
   "cell_type": "code",
   "execution_count": 88,
   "id": "8874d1b6",
   "metadata": {},
   "outputs": [
    {
     "data": {
      "text/html": [
       "<div>\n",
       "<style scoped>\n",
       "    .dataframe tbody tr th:only-of-type {\n",
       "        vertical-align: middle;\n",
       "    }\n",
       "\n",
       "    .dataframe tbody tr th {\n",
       "        vertical-align: top;\n",
       "    }\n",
       "\n",
       "    .dataframe thead th {\n",
       "        text-align: right;\n",
       "    }\n",
       "</style>\n",
       "<table border=\"1\" class=\"dataframe\">\n",
       "  <thead>\n",
       "    <tr style=\"text-align: right;\">\n",
       "      <th>Virus</th>\n",
       "      <th>NC_009889.1</th>\n",
       "      <th>OM009282r</th>\n",
       "      <th>NC_001403.1</th>\n",
       "      <th>NC_001494.1</th>\n",
       "      <th>NC_001940.1</th>\n",
       "      <th>NC_004994.2</th>\n",
       "      <th>NC_038923.1</th>\n",
       "      <th>NC_043382.1</th>\n",
       "      <th>NC_038668.1</th>\n",
       "    </tr>\n",
       "    <tr>\n",
       "      <th>Sample name</th>\n",
       "      <th></th>\n",
       "      <th></th>\n",
       "      <th></th>\n",
       "      <th></th>\n",
       "      <th></th>\n",
       "      <th></th>\n",
       "      <th></th>\n",
       "      <th></th>\n",
       "      <th></th>\n",
       "    </tr>\n",
       "  </thead>\n",
       "  <tbody>\n",
       "    <tr>\n",
       "      <th>CT_ED</th>\n",
       "      <td>69410.0</td>\n",
       "      <td>NaN</td>\n",
       "      <td>NaN</td>\n",
       "      <td>NaN</td>\n",
       "      <td>1355.0</td>\n",
       "      <td>NaN</td>\n",
       "      <td>1690.0</td>\n",
       "      <td>709.0</td>\n",
       "      <td>NaN</td>\n",
       "    </tr>\n",
       "    <tr>\n",
       "      <th>CT_ES</th>\n",
       "      <td>51202.0</td>\n",
       "      <td>NaN</td>\n",
       "      <td>NaN</td>\n",
       "      <td>NaN</td>\n",
       "      <td>1084.0</td>\n",
       "      <td>NaN</td>\n",
       "      <td>266.0</td>\n",
       "      <td>1086.0</td>\n",
       "      <td>NaN</td>\n",
       "    </tr>\n",
       "    <tr>\n",
       "      <th>CT_HT</th>\n",
       "      <td>162134.0</td>\n",
       "      <td>NaN</td>\n",
       "      <td>NaN</td>\n",
       "      <td>NaN</td>\n",
       "      <td>2793.0</td>\n",
       "      <td>NaN</td>\n",
       "      <td>1032.0</td>\n",
       "      <td>4466.0</td>\n",
       "      <td>NaN</td>\n",
       "    </tr>\n",
       "    <tr>\n",
       "      <th>CT_KY</th>\n",
       "      <td>24006.0</td>\n",
       "      <td>NaN</td>\n",
       "      <td>NaN</td>\n",
       "      <td>NaN</td>\n",
       "      <td>5800.0</td>\n",
       "      <td>NaN</td>\n",
       "      <td>674.0</td>\n",
       "      <td>2315.0</td>\n",
       "      <td>NaN</td>\n",
       "    </tr>\n",
       "    <tr>\n",
       "      <th>CT_LG</th>\n",
       "      <td>284212.0</td>\n",
       "      <td>NaN</td>\n",
       "      <td>NaN</td>\n",
       "      <td>419.0</td>\n",
       "      <td>6251.0</td>\n",
       "      <td>739.0</td>\n",
       "      <td>585.0</td>\n",
       "      <td>13285.0</td>\n",
       "      <td>NaN</td>\n",
       "    </tr>\n",
       "  </tbody>\n",
       "</table>\n",
       "</div>"
      ],
      "text/plain": [
       "Virus        NC_009889.1  OM009282r  NC_001403.1  NC_001494.1  NC_001940.1  \\\n",
       "Sample name                                                                  \n",
       "CT_ED            69410.0        NaN          NaN          NaN       1355.0   \n",
       "CT_ES            51202.0        NaN          NaN          NaN       1084.0   \n",
       "CT_HT           162134.0        NaN          NaN          NaN       2793.0   \n",
       "CT_KY            24006.0        NaN          NaN          NaN       5800.0   \n",
       "CT_LG           284212.0        NaN          NaN        419.0       6251.0   \n",
       "\n",
       "Virus        NC_004994.2  NC_038923.1  NC_043382.1  NC_038668.1  \n",
       "Sample name                                                      \n",
       "CT_ED                NaN       1690.0        709.0          NaN  \n",
       "CT_ES                NaN        266.0       1086.0          NaN  \n",
       "CT_HT                NaN       1032.0       4466.0          NaN  \n",
       "CT_KY                NaN        674.0       2315.0          NaN  \n",
       "CT_LG              739.0        585.0      13285.0          NaN  "
      ]
     },
     "execution_count": 88,
     "metadata": {},
     "output_type": "execute_result"
    }
   ],
   "source": [
    "df_pivot.head()"
   ]
  },
  {
   "cell_type": "code",
   "execution_count": 89,
   "id": "f91c8346",
   "metadata": {},
   "outputs": [],
   "source": [
    "df_pivot=df_pivot.T\n",
    "data=df_pivot.to_numpy()\n",
    "\n",
    "y_labels=df_pivot.index.tolist()\n",
    "x_labels=list(df_pivot.columns.values)"
   ]
  },
  {
   "cell_type": "code",
   "execution_count": 90,
   "id": "70033f9c",
   "metadata": {},
   "outputs": [
    {
     "data": {
      "text/plain": [
       "['CT_ED',\n",
       " 'CT_ES',\n",
       " 'CT_HT',\n",
       " 'CT_KY',\n",
       " 'CT_LG',\n",
       " 'CT_LR',\n",
       " 'CT_RM',\n",
       " 'DK_LG',\n",
       " 'HR_LG',\n",
       " 'PGN_DM',\n",
       " 'PGN_ES',\n",
       " 'PGN_HT',\n",
       " 'PGN_KY',\n",
       " 'PGN_LG',\n",
       " 'PGN_LI',\n",
       " 'PGN_LR',\n",
       " 'PGN_SH',\n",
       " 'PGN_SN',\n",
       " 'PN_LG']"
      ]
     },
     "execution_count": 90,
     "metadata": {},
     "output_type": "execute_result"
    }
   ],
   "source": [
    "x_labels"
   ]
  },
  {
   "cell_type": "code",
   "execution_count": 91,
   "id": "ede96d43",
   "metadata": {},
   "outputs": [],
   "source": [
    "y_names=get_accessions(y_labels, df_accessions)\n",
    "x_codes=x_labels"
   ]
  },
  {
   "cell_type": "code",
   "execution_count": 92,
   "id": "3806788d",
   "metadata": {},
   "outputs": [],
   "source": [
    "plot_data = np.ma.masked_equal(data[:,:], 0)"
   ]
  },
  {
   "cell_type": "code",
   "execution_count": 94,
   "id": "09e47d13",
   "metadata": {
    "scrolled": true
   },
   "outputs": [
    {
     "data": {
      "image/png": "[encoded data removed]",
      "text/plain": [
       "<Figure size 720x360 with 2 Axes>"
      ]
     },
     "metadata": {},
     "output_type": "display_data"
    }
   ],
   "source": [
    "sns.set_style('white')\n",
    "fig, ax = plt.subplots(figsize=(10,5))\n",
    "img=ax.imshow(plot_data, cmap=plt.cm.get_cmap(\"Reds\"), interpolation=\"nearest\", aspect='auto',norm=matplotlib.colors.LogNorm())\n",
    "ax.set_xticks(list(range(len(x_codes))))\n",
    "ax.set_xticklabels(x_codes,rotation=90)\n",
    "ax.set_yticks(list(range(len(y_names))))\n",
    "ax.set_yticklabels(y_names)\n",
    "fig.colorbar(img)\n",
    "plt.tight_layout()\n",
    "fig.savefig(PLOT_PATH+f\"kraken2_minimap2_counts_log_scale_{PARAMS}_extended1_T.png\", bbox_inches='tight')"
   ]
  },
  {
   "cell_type": "markdown",
   "id": "17a01800",
   "metadata": {},
   "source": [
    "## Coverage"
   ]
  },
  {
   "cell_type": "code",
   "execution_count": 101,
   "id": "d1b07160",
   "metadata": {},
   "outputs": [],
   "source": [
    "df_cov=df_all.pivot(index='Sample name', columns='Virus', values='Coverage%')\n",
    "order_by=df_accessions['Accession'].tolist()"
   ]
  },
  {
   "cell_type": "code",
   "execution_count": 102,
   "id": "ddd99aa5",
   "metadata": {},
   "outputs": [],
   "source": [
    "cols=df_cov.columns.tolist()\n",
    "reorder_cols=[]\n",
    "for o in order_by:\n",
    "    for c in cols:\n",
    "        if o.strip()==c.strip(): \n",
    "            reorder_cols.append(c)\n",
    "assert len(cols)==len(reorder_cols)\n",
    "df_cov=df_cov.reindex(columns= reorder_cols)"
   ]
  },
  {
   "cell_type": "code",
   "execution_count": 103,
   "id": "81f22058",
   "metadata": {},
   "outputs": [],
   "source": [
    "df_cov=df_cov.T\n",
    "data_cov=df_cov.to_numpy()\n",
    "plot_data_cov = np.ma.masked_equal(data_cov[:,:], 0)\n",
    "\n",
    "\n",
    "y_labels=df_pivot.index.tolist()\n",
    "x_labels=list(df_pivot.columns.values)\n",
    "y_names=get_accessions(y_labels, df_accessions)\n",
    "x_codes=x_labels"
   ]
  },
  {
   "cell_type": "code",
   "execution_count": 104,
   "id": "695188cd",
   "metadata": {},
   "outputs": [],
   "source": [
    "#x_labels=list(df_cov.columns.values)\n",
    "#x_codes=get_accessions(x_labels, df_accessions)\n",
    "#y_labels=df_cov.index.tolist()\n",
    "#y_names=get_samples(y_labels, df_datasets)"
   ]
  },
  {
   "cell_type": "code",
   "execution_count": 105,
   "id": "3992decf",
   "metadata": {},
   "outputs": [
    {
     "data": {
      "image/png": "[encoded data removed]",
      "text/plain": [
       "<Figure size 720x360 with 2 Axes>"
      ]
     },
     "metadata": {},
     "output_type": "display_data"
    }
   ],
   "source": [
    "sns.set_style('white')\n",
    "fig, ax = plt.subplots(figsize=(10,5))\n",
    "img=ax.imshow(plot_data_cov, cmap=plt.cm.get_cmap(\"Blues\"), interpolation=\"nearest\", aspect='auto')\n",
    "ax.set_xticks(list(range(len(x_codes))))\n",
    "ax.set_xticklabels(x_codes,rotation=90)\n",
    "ax.set_yticks(list(range(len(y_names))))\n",
    "ax.set_yticklabels(y_names)\n",
    "fig.colorbar(img)\n",
    "plt.tight_layout()\n",
    "fig.savefig(PLOT_PATH+f\"kraken2_minimap2_pct_cov_linear_scale_{PARAMS}_extended1_T.png\", bbox_inches='tight')"
   ]
  },
  {
   "cell_type": "code",
   "execution_count": null,
   "id": "164709d7",
   "metadata": {},
   "outputs": [],
   "source": []
  },
  {
   "cell_type": "markdown",
   "id": "lonely-favorite",
   "metadata": {},
   "source": [
    "## Box plots"
   ]
  },
  {
   "cell_type": "code",
   "execution_count": 129,
   "id": "6d1a56da",
   "metadata": {},
   "outputs": [],
   "source": [
    "### use 5% cutoff"
   ]
  },
  {
   "cell_type": "code",
   "execution_count": 130,
   "id": "774e4956",
   "metadata": {},
   "outputs": [
    {
     "data": {
      "text/plain": [
       "(125, 15)"
      ]
     },
     "execution_count": 130,
     "metadata": {},
     "output_type": "execute_result"
    }
   ],
   "source": [
    "df_all=get_df_all(df)\n",
    "df_all.shape"
   ]
  },
  {
   "cell_type": "code",
   "execution_count": 131,
   "id": "46c1e08b",
   "metadata": {},
   "outputs": [],
   "source": [
    "### filter to => 10%"
   ]
  },
  {
   "cell_type": "code",
   "execution_count": 132,
   "id": "db9de4ba",
   "metadata": {},
   "outputs": [],
   "source": [
    "df_all = df_all.loc[df_all['Coverage%'] >=5]\n"
   ]
  },
  {
   "cell_type": "code",
   "execution_count": 133,
   "id": "1d7add5c",
   "metadata": {},
   "outputs": [],
   "source": [
    "df_pivot=df_all.pivot(index='Sample name', columns='Virus', values='N')"
   ]
  },
  {
   "cell_type": "code",
   "execution_count": 136,
   "id": "61a0dfbe",
   "metadata": {},
   "outputs": [
    {
     "data": {
      "text/html": [
       "<div>\n",
       "<style scoped>\n",
       "    .dataframe tbody tr th:only-of-type {\n",
       "        vertical-align: middle;\n",
       "    }\n",
       "\n",
       "    .dataframe tbody tr th {\n",
       "        vertical-align: top;\n",
       "    }\n",
       "\n",
       "    .dataframe thead th {\n",
       "        text-align: right;\n",
       "    }\n",
       "</style>\n",
       "<table border=\"1\" class=\"dataframe\">\n",
       "  <thead>\n",
       "    <tr style=\"text-align: right;\">\n",
       "      <th>Virus</th>\n",
       "      <th>MK636875.1</th>\n",
       "      <th>NC_001403.1</th>\n",
       "      <th>NC_001494.1</th>\n",
       "      <th>NC_001940.1</th>\n",
       "      <th>NC_004994.2</th>\n",
       "      <th>NC_009889.1</th>\n",
       "      <th>NC_038923.1</th>\n",
       "      <th>NC_043382.1</th>\n",
       "      <th>OM009282r</th>\n",
       "    </tr>\n",
       "    <tr>\n",
       "      <th>Sample name</th>\n",
       "      <th></th>\n",
       "      <th></th>\n",
       "      <th></th>\n",
       "      <th></th>\n",
       "      <th></th>\n",
       "      <th></th>\n",
       "      <th></th>\n",
       "      <th></th>\n",
       "      <th></th>\n",
       "    </tr>\n",
       "  </thead>\n",
       "  <tbody>\n",
       "    <tr>\n",
       "      <th>CT_ED</th>\n",
       "      <td>NaN</td>\n",
       "      <td>NaN</td>\n",
       "      <td>NaN</td>\n",
       "      <td>1355.0</td>\n",
       "      <td>NaN</td>\n",
       "      <td>69410.0</td>\n",
       "      <td>1690.0</td>\n",
       "      <td>709.0</td>\n",
       "      <td>NaN</td>\n",
       "    </tr>\n",
       "    <tr>\n",
       "      <th>CT_HT</th>\n",
       "      <td>NaN</td>\n",
       "      <td>NaN</td>\n",
       "      <td>NaN</td>\n",
       "      <td>2793.0</td>\n",
       "      <td>NaN</td>\n",
       "      <td>162134.0</td>\n",
       "      <td>1032.0</td>\n",
       "      <td>4466.0</td>\n",
       "      <td>NaN</td>\n",
       "    </tr>\n",
       "    <tr>\n",
       "      <th>CT_KY</th>\n",
       "      <td>NaN</td>\n",
       "      <td>NaN</td>\n",
       "      <td>NaN</td>\n",
       "      <td>5800.0</td>\n",
       "      <td>NaN</td>\n",
       "      <td>24006.0</td>\n",
       "      <td>674.0</td>\n",
       "      <td>2315.0</td>\n",
       "      <td>NaN</td>\n",
       "    </tr>\n",
       "    <tr>\n",
       "      <th>DG_LG</th>\n",
       "      <td>NaN</td>\n",
       "      <td>NaN</td>\n",
       "      <td>NaN</td>\n",
       "      <td>NaN</td>\n",
       "      <td>NaN</td>\n",
       "      <td>NaN</td>\n",
       "      <td>NaN</td>\n",
       "      <td>1044.0</td>\n",
       "      <td>NaN</td>\n",
       "    </tr>\n",
       "    <tr>\n",
       "      <th>PGN_ES</th>\n",
       "      <td>NaN</td>\n",
       "      <td>NaN</td>\n",
       "      <td>NaN</td>\n",
       "      <td>NaN</td>\n",
       "      <td>NaN</td>\n",
       "      <td>136.0</td>\n",
       "      <td>3.0</td>\n",
       "      <td>6.0</td>\n",
       "      <td>621.0</td>\n",
       "    </tr>\n",
       "  </tbody>\n",
       "</table>\n",
       "</div>"
      ],
      "text/plain": [
       "Virus        MK636875.1  NC_001403.1  NC_001494.1  NC_001940.1  NC_004994.2  \\\n",
       "Sample name                                                                   \n",
       "CT_ED               NaN          NaN          NaN       1355.0          NaN   \n",
       "CT_HT               NaN          NaN          NaN       2793.0          NaN   \n",
       "CT_KY               NaN          NaN          NaN       5800.0          NaN   \n",
       "DG_LG               NaN          NaN          NaN          NaN          NaN   \n",
       "PGN_ES              NaN          NaN          NaN          NaN          NaN   \n",
       "\n",
       "Virus        NC_009889.1  NC_038923.1  NC_043382.1  OM009282r  \n",
       "Sample name                                                    \n",
       "CT_ED            69410.0       1690.0        709.0        NaN  \n",
       "CT_HT           162134.0       1032.0       4466.0        NaN  \n",
       "CT_KY            24006.0        674.0       2315.0        NaN  \n",
       "DG_LG                NaN          NaN       1044.0        NaN  \n",
       "PGN_ES             136.0          3.0          6.0      621.0  "
      ]
     },
     "execution_count": 136,
     "metadata": {},
     "output_type": "execute_result"
    }
   ],
   "source": [
    "df_pivot.head()"
   ]
  },
  {
   "cell_type": "code",
   "execution_count": 137,
   "id": "69b34407",
   "metadata": {},
   "outputs": [
    {
     "data": {
      "text/html": [
       "<div>\n",
       "<style scoped>\n",
       "    .dataframe tbody tr th:only-of-type {\n",
       "        vertical-align: middle;\n",
       "    }\n",
       "\n",
       "    .dataframe tbody tr th {\n",
       "        vertical-align: top;\n",
       "    }\n",
       "\n",
       "    .dataframe thead th {\n",
       "        text-align: right;\n",
       "    }\n",
       "</style>\n",
       "<table border=\"1\" class=\"dataframe\">\n",
       "  <thead>\n",
       "    <tr style=\"text-align: right;\">\n",
       "      <th>Sample name</th>\n",
       "      <th>CT_ED</th>\n",
       "      <th>CT_HT</th>\n",
       "      <th>CT_KY</th>\n",
       "      <th>DG_LG</th>\n",
       "      <th>PGN_ES</th>\n",
       "      <th>PGN_KY</th>\n",
       "      <th>PGN_LG</th>\n",
       "      <th>PGN_LI</th>\n",
       "      <th>PGN_SN</th>\n",
       "      <th>PN_LG</th>\n",
       "    </tr>\n",
       "    <tr>\n",
       "      <th>Virus</th>\n",
       "      <th></th>\n",
       "      <th></th>\n",
       "      <th></th>\n",
       "      <th></th>\n",
       "      <th></th>\n",
       "      <th></th>\n",
       "      <th></th>\n",
       "      <th></th>\n",
       "      <th></th>\n",
       "      <th></th>\n",
       "    </tr>\n",
       "  </thead>\n",
       "  <tbody>\n",
       "    <tr>\n",
       "      <th>MK636875.1</th>\n",
       "      <td>NaN</td>\n",
       "      <td>NaN</td>\n",
       "      <td>NaN</td>\n",
       "      <td>NaN</td>\n",
       "      <td>NaN</td>\n",
       "      <td>NaN</td>\n",
       "      <td>1513.0</td>\n",
       "      <td>NaN</td>\n",
       "      <td>NaN</td>\n",
       "      <td>NaN</td>\n",
       "    </tr>\n",
       "    <tr>\n",
       "      <th>NC_001403.1</th>\n",
       "      <td>NaN</td>\n",
       "      <td>NaN</td>\n",
       "      <td>NaN</td>\n",
       "      <td>NaN</td>\n",
       "      <td>NaN</td>\n",
       "      <td>NaN</td>\n",
       "      <td>NaN</td>\n",
       "      <td>NaN</td>\n",
       "      <td>NaN</td>\n",
       "      <td>305.0</td>\n",
       "    </tr>\n",
       "    <tr>\n",
       "      <th>NC_001494.1</th>\n",
       "      <td>NaN</td>\n",
       "      <td>NaN</td>\n",
       "      <td>NaN</td>\n",
       "      <td>NaN</td>\n",
       "      <td>NaN</td>\n",
       "      <td>NaN</td>\n",
       "      <td>518.0</td>\n",
       "      <td>NaN</td>\n",
       "      <td>NaN</td>\n",
       "      <td>NaN</td>\n",
       "    </tr>\n",
       "    <tr>\n",
       "      <th>NC_001940.1</th>\n",
       "      <td>1355.0</td>\n",
       "      <td>2793.0</td>\n",
       "      <td>5800.0</td>\n",
       "      <td>NaN</td>\n",
       "      <td>NaN</td>\n",
       "      <td>NaN</td>\n",
       "      <td>NaN</td>\n",
       "      <td>55.0</td>\n",
       "      <td>20.0</td>\n",
       "      <td>NaN</td>\n",
       "    </tr>\n",
       "    <tr>\n",
       "      <th>NC_004994.2</th>\n",
       "      <td>NaN</td>\n",
       "      <td>NaN</td>\n",
       "      <td>NaN</td>\n",
       "      <td>NaN</td>\n",
       "      <td>NaN</td>\n",
       "      <td>NaN</td>\n",
       "      <td>1051.0</td>\n",
       "      <td>NaN</td>\n",
       "      <td>NaN</td>\n",
       "      <td>NaN</td>\n",
       "    </tr>\n",
       "  </tbody>\n",
       "</table>\n",
       "</div>"
      ],
      "text/plain": [
       "Sample name   CT_ED   CT_HT   CT_KY  DG_LG  PGN_ES  PGN_KY  PGN_LG  PGN_LI  \\\n",
       "Virus                                                                        \n",
       "MK636875.1      NaN     NaN     NaN    NaN     NaN     NaN  1513.0     NaN   \n",
       "NC_001403.1     NaN     NaN     NaN    NaN     NaN     NaN     NaN     NaN   \n",
       "NC_001494.1     NaN     NaN     NaN    NaN     NaN     NaN   518.0     NaN   \n",
       "NC_001940.1  1355.0  2793.0  5800.0    NaN     NaN     NaN     NaN    55.0   \n",
       "NC_004994.2     NaN     NaN     NaN    NaN     NaN     NaN  1051.0     NaN   \n",
       "\n",
       "Sample name  PGN_SN  PN_LG  \n",
       "Virus                       \n",
       "MK636875.1      NaN    NaN  \n",
       "NC_001403.1     NaN  305.0  \n",
       "NC_001494.1     NaN    NaN  \n",
       "NC_001940.1    20.0    NaN  \n",
       "NC_004994.2     NaN    NaN  "
      ]
     },
     "execution_count": 137,
     "metadata": {},
     "output_type": "execute_result"
    }
   ],
   "source": [
    "df_corr=df_pivot.T.copy()\n",
    "df_corr.head()"
   ]
  },
  {
   "cell_type": "code",
   "execution_count": 138,
   "id": "c61e8351",
   "metadata": {},
   "outputs": [],
   "source": [
    "\n",
    "meds = df_corr.median()\n",
    "meds.sort_values(ascending=False, inplace=True)\n",
    "df_corr = df_corr[meds.index]"
   ]
  },
  {
   "cell_type": "code",
   "execution_count": 139,
   "id": "92d0f686",
   "metadata": {},
   "outputs": [
    {
     "data": {
      "text/html": [
       "<div>\n",
       "<style scoped>\n",
       "    .dataframe tbody tr th:only-of-type {\n",
       "        vertical-align: middle;\n",
       "    }\n",
       "\n",
       "    .dataframe tbody tr th {\n",
       "        vertical-align: top;\n",
       "    }\n",
       "\n",
       "    .dataframe thead th {\n",
       "        text-align: right;\n",
       "    }\n",
       "</style>\n",
       "<table border=\"1\" class=\"dataframe\">\n",
       "  <thead>\n",
       "    <tr style=\"text-align: right;\">\n",
       "      <th>Sample name</th>\n",
       "      <th>CT_KY</th>\n",
       "      <th>CT_HT</th>\n",
       "      <th>CT_ED</th>\n",
       "      <th>DG_LG</th>\n",
       "      <th>PGN_LI</th>\n",
       "      <th>PGN_LG</th>\n",
       "      <th>PN_LG</th>\n",
       "      <th>PGN_ES</th>\n",
       "      <th>PGN_SN</th>\n",
       "      <th>PGN_KY</th>\n",
       "    </tr>\n",
       "    <tr>\n",
       "      <th>Virus</th>\n",
       "      <th></th>\n",
       "      <th></th>\n",
       "      <th></th>\n",
       "      <th></th>\n",
       "      <th></th>\n",
       "      <th></th>\n",
       "      <th></th>\n",
       "      <th></th>\n",
       "      <th></th>\n",
       "      <th></th>\n",
       "    </tr>\n",
       "  </thead>\n",
       "  <tbody>\n",
       "    <tr>\n",
       "      <th>MK636875.1</th>\n",
       "      <td>NaN</td>\n",
       "      <td>NaN</td>\n",
       "      <td>NaN</td>\n",
       "      <td>NaN</td>\n",
       "      <td>NaN</td>\n",
       "      <td>1513.0</td>\n",
       "      <td>NaN</td>\n",
       "      <td>NaN</td>\n",
       "      <td>NaN</td>\n",
       "      <td>NaN</td>\n",
       "    </tr>\n",
       "    <tr>\n",
       "      <th>NC_001403.1</th>\n",
       "      <td>NaN</td>\n",
       "      <td>NaN</td>\n",
       "      <td>NaN</td>\n",
       "      <td>NaN</td>\n",
       "      <td>NaN</td>\n",
       "      <td>NaN</td>\n",
       "      <td>305.0</td>\n",
       "      <td>NaN</td>\n",
       "      <td>NaN</td>\n",
       "      <td>NaN</td>\n",
       "    </tr>\n",
       "    <tr>\n",
       "      <th>NC_001494.1</th>\n",
       "      <td>NaN</td>\n",
       "      <td>NaN</td>\n",
       "      <td>NaN</td>\n",
       "      <td>NaN</td>\n",
       "      <td>NaN</td>\n",
       "      <td>518.0</td>\n",
       "      <td>NaN</td>\n",
       "      <td>NaN</td>\n",
       "      <td>NaN</td>\n",
       "      <td>NaN</td>\n",
       "    </tr>\n",
       "    <tr>\n",
       "      <th>NC_001940.1</th>\n",
       "      <td>5800.0</td>\n",
       "      <td>2793.0</td>\n",
       "      <td>1355.0</td>\n",
       "      <td>NaN</td>\n",
       "      <td>55.0</td>\n",
       "      <td>NaN</td>\n",
       "      <td>NaN</td>\n",
       "      <td>NaN</td>\n",
       "      <td>20.0</td>\n",
       "      <td>NaN</td>\n",
       "    </tr>\n",
       "    <tr>\n",
       "      <th>NC_004994.2</th>\n",
       "      <td>NaN</td>\n",
       "      <td>NaN</td>\n",
       "      <td>NaN</td>\n",
       "      <td>NaN</td>\n",
       "      <td>NaN</td>\n",
       "      <td>1051.0</td>\n",
       "      <td>NaN</td>\n",
       "      <td>NaN</td>\n",
       "      <td>NaN</td>\n",
       "      <td>NaN</td>\n",
       "    </tr>\n",
       "  </tbody>\n",
       "</table>\n",
       "</div>"
      ],
      "text/plain": [
       "Sample name   CT_KY   CT_HT   CT_ED  DG_LG  PGN_LI  PGN_LG  PN_LG  PGN_ES  \\\n",
       "Virus                                                                       \n",
       "MK636875.1      NaN     NaN     NaN    NaN     NaN  1513.0    NaN     NaN   \n",
       "NC_001403.1     NaN     NaN     NaN    NaN     NaN     NaN  305.0     NaN   \n",
       "NC_001494.1     NaN     NaN     NaN    NaN     NaN   518.0    NaN     NaN   \n",
       "NC_001940.1  5800.0  2793.0  1355.0    NaN    55.0     NaN    NaN     NaN   \n",
       "NC_004994.2     NaN     NaN     NaN    NaN     NaN  1051.0    NaN     NaN   \n",
       "\n",
       "Sample name  PGN_SN  PGN_KY  \n",
       "Virus                        \n",
       "MK636875.1      NaN     NaN  \n",
       "NC_001403.1     NaN     NaN  \n",
       "NC_001494.1     NaN     NaN  \n",
       "NC_001940.1    20.0     NaN  \n",
       "NC_004994.2     NaN     NaN  "
      ]
     },
     "execution_count": 139,
     "metadata": {},
     "output_type": "execute_result"
    }
   ],
   "source": [
    "df_corr.head()"
   ]
  },
  {
   "cell_type": "code",
   "execution_count": 135,
   "id": "72d4ec6b",
   "metadata": {},
   "outputs": [
    {
     "data": {
      "text/plain": [
       "['CT_KY',\n",
       " 'CT_HT',\n",
       " 'CT_ED',\n",
       " 'DG_LG',\n",
       " 'PGN_LI',\n",
       " 'PGN_LG',\n",
       " 'PN_LG',\n",
       " 'PGN_ES',\n",
       " 'PGN_SN',\n",
       " 'PGN_KY']"
      ]
     },
     "execution_count": 135,
     "metadata": {},
     "output_type": "execute_result"
    }
   ],
   "source": [
    "x_labels=list(df_corr.columns.values)\n",
    "x_labels"
   ]
  },
  {
   "cell_type": "code",
   "execution_count": null,
   "id": "aac795a1",
   "metadata": {},
   "outputs": [],
   "source": [
    "\n",
    "x_codes=get_accessions(x_labels, df_accessions)\n",
    "y_labels=df_corr.index.tolist()\n",
    "y_names=y_labels"
   ]
  },
  {
   "cell_type": "code",
   "execution_count": null,
   "id": "9fc0d394",
   "metadata": {},
   "outputs": [],
   "source": [
    "# Draw Plot\n",
    "#plt.figure(figsize=(13,10), dpi= 200)\n",
    "\n",
    "fig, ax = plt.subplots(1,1, figsize=(13,10), dpi= 80)\n",
    "sns.boxplot(data=df_corr)\n",
    "sns.stripplot(data=df_corr, color='black', size=2, jitter=1)\n",
    "ax.set_xticks(list(range(len(x_codes))))\n",
    "ax.set_xticklabels(x_codes,rotation=90)\n",
    "ax.tick_params(which='major', labelrotation=90)\n",
    "ax.set_yscale(\"log\") \n",
    "plt.tight_layout()\n",
    "fig.savefig(PLOT_PATH+f\"kraken2_minipan2_box_plot_log_scale_{PARAMS}_sorted.png\", bbox_inches='tight')"
   ]
  },
  {
   "cell_type": "code",
   "execution_count": null,
   "id": "e0586bc9",
   "metadata": {},
   "outputs": [],
   "source": []
  },
  {
   "cell_type": "code",
   "execution_count": null,
   "id": "8e6380cb",
   "metadata": {},
   "outputs": [],
   "source": []
  }
 ],
 "metadata": {
  "kernelspec": {
   "display_name": "Python 3",
   "language": "python",
   "name": "python3"
  },
  "language_info": {
   "codemirror_mode": {
    "name": "ipython",
    "version": 3
   },
   "file_extension": ".py",
   "mimetype": "text/x-python",
   "name": "python",
   "nbconvert_exporter": "python",
   "pygments_lexer": "ipython3",
   "version": "3.6.15"
  }
 },
 "nbformat": 4,
 "nbformat_minor": 5
}
