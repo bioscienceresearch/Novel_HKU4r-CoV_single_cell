{
 "cells": [
  {
   "cell_type": "code",
   "execution_count": 1,
   "id": "generic-tsunami",
   "metadata": {},
   "outputs": [],
   "source": [
    "import pathlib\n",
    "import subprocess\n",
    "import os"
   ]
  },
  {
   "cell_type": "code",
   "execution_count": 2,
   "id": "casual-spring",
   "metadata": {},
   "outputs": [
    {
     "data": {
      "text/html": [
       "<style>.container { width:95% !important; }</style>"
      ],
      "text/plain": [
       "<IPython.core.display.HTML object>"
      ]
     },
     "metadata": {},
     "output_type": "display_data"
    }
   ],
   "source": [
    "from IPython.core.display import display, HTML\n",
    "display(HTML(\"<style>.container { width:95% !important; }</style>\"))"
   ]
  },
  {
   "cell_type": "code",
   "execution_count": 3,
   "id": "artificial-syndication",
   "metadata": {},
   "outputs": [],
   "source": [
    "def create_fq(contigs_path):\n",
    "    try:\n",
    "        if DE_NOVO=='MEGAHIT':\n",
    "            cmd= f\"{BBMAP_PATH}reformat.sh in={contigs_path}{CONTIG_MER}.contigs.fa out={contigs_path}{CONTIG_MER}.contigs.fq\"\n",
    "        elif DE_NOVO=='coronaspades':\n",
    "            cmd= f\"{BBMAP_PATH}reformat.sh in={contigs_path}{coronaspades_name}.fasta out={contigs_path}{coronaspades_name}.fq\"\n",
    "        subprocess.check_call(cmd, shell=True)\n",
    "    except subprocess.CalledProcessError as e:\n",
    "        raise RuntimeError(\"command '{}' return with error (code {}): {}\".format(e.cmd, e.returncode, e.output))"
   ]
  },
  {
   "cell_type": "code",
   "execution_count": 4,
   "id": "portable-continent",
   "metadata": {},
   "outputs": [],
   "source": [
    "def run_bwa(contigs, bwa_path, sra):\n",
    "    ref=REF_NAME.split('.fa')[0]\n",
    "    if DE_NOVO=='MEGAHIT':\n",
    "        out_file= f\"{bwa_path}{sra}_{CONTIGS_BASE_FOLDER}_{CONTIG_MER}_{ref}_{ALIGNER}.sam\"\n",
    "    elif DE_NOVO=='coronaspades':\n",
    "        out_file= f\"{bwa_path}{sra}_coronaspades_{coronaspades_code}_{ref}_{ALIGNER}.sam\"\n",
    "    try:\n",
    "        cmd = f\"{BWA_MEM} mem -t {NUM_THREADS} {REF_PATH+REF_NAME} {contigs} > {out_file}\"\n",
    "        subprocess.check_call(cmd, shell=True)\n",
    "    except subprocess.CalledProcessError as e:\n",
    "        raise RuntimeError(\"command '{}' return with error (code {}): {}\".format(e.cmd, e.returncode, e.output))\n",
    "    return out_file"
   ]
  },
  {
   "cell_type": "code",
   "execution_count": 5,
   "id": "fitted-function",
   "metadata": {},
   "outputs": [],
   "source": [
    "def gatk_sort(bwa_mem_out):\n",
    "    out_file=bwa_mem_out.split('.sam')[0]\n",
    "    out_file=out_file+'_gatk_sorted.sam'\n",
    "    try:\n",
    "        cmd=f\"java -jar {GATK_JAR} SortSam INPUT={bwa_mem_out} OUTPUT={out_file} SORT_ORDER=coordinate VALIDATION_STRINGENCY=SILENT\"\n",
    "        subprocess.check_call(cmd, shell=True)\n",
    "    except subprocess.CalledProcessError as e:\n",
    "        raise RuntimeError(\"command '{}' return with error (code {}): {}\".format(e.cmd, e.returncode, e.output))\n",
    "    return out_file"
   ]
  },
  {
   "cell_type": "code",
   "execution_count": 6,
   "id": "welcome-catch",
   "metadata": {},
   "outputs": [],
   "source": [
    "def gatk_metrics(gatk_out):\n",
    "    gatk_file=gatk_out.split('.sam')[0]\n",
    "    out_file=gatk_file+'_marked.bam'\n",
    "    metrics_file=gatk_file+'_metrics.txt'\n",
    "    try:\n",
    "        cmd=f\"java -Xmx64G -jar {GATK_JAR} MarkDuplicates INPUT={gatk_out} OUTPUT={out_file} METRICS_FILE={metrics_file} ASSUME_SORTED=true VALIDATION_STRINGENCY=SILENT\"\n",
    "        subprocess.check_call(cmd, shell=True)\n",
    "    except subprocess.CalledProcessError as e:\n",
    "        raise RuntimeError(\"command '{}' return with error (code {}): {}\".format(e.cmd, e.returncode, e.output))\n",
    "    return out_file"
   ]
  },
  {
   "cell_type": "code",
   "execution_count": 7,
   "id": "welsh-development",
   "metadata": {},
   "outputs": [],
   "source": [
    "def index_bam(gatk_bam_file):\n",
    "    try:\n",
    "        cmd=f\"{SAMTOOLS_PATH}samtools index {gatk_bam_file}\"\n",
    "        subprocess.check_call(cmd, shell=True)\n",
    "    except subprocess.CalledProcessError as e:\n",
    "        raise RuntimeError(\"command '{}' return with error (code {}): {}\".format(e.cmd, e.returncode, e.output))"
   ]
  },
  {
   "cell_type": "code",
   "execution_count": 8,
   "id": "blond-arthur",
   "metadata": {},
   "outputs": [],
   "source": [
    "def remove_file(file_to_del):\n",
    "    cmd = f\"rm {file_to_del}\"\n",
    "    subprocess.check_call(cmd, shell=True)"
   ]
  },
  {
   "cell_type": "code",
   "execution_count": 9,
   "id": "unauthorized-croatia",
   "metadata": {},
   "outputs": [],
   "source": [
    "def run_bamstats(bam_file, stats_out):\n",
    "    cmd=f'java -jar {BAMSTATS_JAR} -i {bam_file} -m -q -o {stats_out}'\n",
    "    subprocess.check_call(cmd, shell=True)"
   ]
  },
  {
   "cell_type": "code",
   "execution_count": 10,
   "id": "communist-nudist",
   "metadata": {},
   "outputs": [],
   "source": [
    "def create_bed(fasta_file, bed_file):\n",
    "    cmd=f'faidx --transform bed {fasta_file} > {bed_file}'\n",
    "    subprocess.check_call(cmd, shell=True)"
   ]
  },
  {
   "cell_type": "code",
   "execution_count": 11,
   "id": "spanish-exploration",
   "metadata": {},
   "outputs": [],
   "source": [
    "def prep_bed():\n",
    "    fasta_file=REF_PATH+REF_NAME\n",
    "    bed_file=REF_PATH+'bed/'+REF_NAME.split('.fa')[0]+'.bed'\n",
    "    pathlib.Path(REF_PATH+'bed/').mkdir(exist_ok=True)\n",
    "    create_bed(fasta_file, bed_file)\n",
    "    return bed_file"
   ]
  },
  {
   "cell_type": "code",
   "execution_count": 12,
   "id": "choice-pickup",
   "metadata": {},
   "outputs": [],
   "source": [
    "def run_bamdst(bed_file, out_path, bam_in):\n",
    "    cmd=f'{BAMDST_PATH}bamdst -p {bed_file} -o {out_path} {bam_in}'\n",
    "    subprocess.check_call(cmd, shell=True)"
   ]
  },
  {
   "cell_type": "code",
   "execution_count": 13,
   "id": "moral-victor",
   "metadata": {},
   "outputs": [],
   "source": [
    "def workflow(bed_file=None):\n",
    "    for sra in SRAs:\n",
    "        print(f'{sra}')\n",
    "        if DE_NOVO=='MEGAHIT':\n",
    "            data_path=PRJ_OUT_PATH+sra+f'/{CONTIGS_BASE_FOLDER}/'\n",
    "            #data_path=PRJ_OUT_PATH+sra+f'/{contigs_base_folder}/intermediate_contigs/'\n",
    "            contigs=data_path+f'{CONTIG_MER}.contigs.fq'\n",
    "            \n",
    "            contigsfa=data_path+f'{CONTIG_MER}.contigs.fa'\n",
    "        elif DE_NOVO=='coronaspades':\n",
    "            data_path=PRJ_OUT_PATH+sra+'/coronaspades_default/'\n",
    "            contigs=data_path+f'{coronaspades_name}.fq'\n",
    "            contigsfa=data_path+f'{coronaspades_name}.fasta'\n",
    "        if not os.path.isfile(contigsfa):\n",
    "            print(f'Contigs file: {contigsfa} doesnt exist')\n",
    "            raise Exception\n",
    "        if not os.path.isfile(contigs):\n",
    "            create_fq(data_path) \n",
    "        bwa_path=PRJ_OUT_PATH+sra+f'/{ALIGNER}/'\n",
    "        if not os.path.isfile(bwa_path):\n",
    "            pathlib.Path(bwa_path).mkdir(exist_ok=True)\n",
    "        pathlib.Path(bwa_path).mkdir(exist_ok=True)\n",
    "        bwa_mem_out=run_bwa(contigs, bwa_path, sra)\n",
    "        \n",
    "        gatk_out=gatk_sort(bwa_mem_out)\n",
    "        gatk_bam_file=gatk_metrics(gatk_out)\n",
    "        index_bam(gatk_bam_file)\n",
    "        remove_file(bwa_mem_out)\n",
    "        remove_file(gatk_out)\n",
    "        \n",
    "        out_path=bwa_path+'bamstats/'\n",
    "        if not os.path.isfile(out_path):\n",
    "            pathlib.Path(out_path).mkdir(exist_ok=True)\n",
    "        stats_out=out_path+sra+BAMSTATS_POST\n",
    "        run_bamstats(gatk_bam_file, stats_out)\n",
    "        if bed_file:\n",
    "            out_path=bwa_path+'bamdst/'\n",
    "            if not os.path.isfile(out_path):\n",
    "                pathlib.Path(out_path).mkdir(exist_ok=True)\n",
    "            run_bamdst(bed_file, out_path, gatk_bam_file)"
   ]
  },
  {
   "cell_type": "code",
   "execution_count": 14,
   "id": "83ba1f9b",
   "metadata": {},
   "outputs": [],
   "source": [
    "BWA_MEM=\"~/apps/bwa-0.7.17/bwa\"\n",
    "BBMAP_PATH='~/apps/bbmap/'\n",
    "GATK_JAR='~/apps/gatk-4.1.9.0/gatk-package-4.1.9.0-local.jar'\n",
    "SAMTOOLS_PATH=''\n",
    "BAMSTATS_JAR='~/apps/BAMStats-1.25/BAMStats-1.25.jar'\n",
    "BAMDST_PATH='/mnt/1TB_0/Data/Code/external/bamdst/'\n",
    "BEDTOOLS_PATH='~/apps/bedtools/'\n",
    "GATK_TEMP='/mnt/1TB_0/temp/gatk'"
   ]
  },
  {
   "cell_type": "code",
   "execution_count": 15,
   "id": "20047bdf",
   "metadata": {},
   "outputs": [],
   "source": [
    "ALIGNER='bwa_mem'"
   ]
  },
  {
   "cell_type": "code",
   "execution_count": 16,
   "id": "a786be40",
   "metadata": {},
   "outputs": [],
   "source": [
    "PRJ='PRJCA002517'\n",
    "PRJ_OUT_PATH=f'/mnt/8TB_2/Data/Assembly/{PRJ}/'\n",
    "\n",
    "\n",
    "REF_NAME='YNU_ManJav_2.0.fna'\n",
    "REF_PATH='/mnt/1TB_0/Data/fasta/mammal_genomes/'\n",
    "ALIGN_NAME=REF_NAME.split('.fna')[0]\n",
    "\n",
    "NUM_THREADS=32\n",
    "DESCRIPTION='_default'\n",
    "OPTIONS=\"\"\n",
    "ALIGN_OPTS_NAME='default'\n",
    "\n",
    "RUN_FASTP=False\n",
    "\n",
    "BAMSTATS_POST=f'_{ALIGN_NAME}_bamstats.txt'\n",
    "BAM_POSTFIX='gatk_sorted_marked'\n",
    "UNIVEC_ALIGNED=False\n",
    "\n",
    "DE_NOVO='MEGAHIT'\n",
    "CONTIG_MER='final_min_len_300'\n",
    "CONTIGS_BASE_FOLDER='megahit_default'\n",
    "\n",
    "NUM_THREADS=32"
   ]
  },
  {
   "cell_type": "code",
   "execution_count": 17,
   "id": "862f8100",
   "metadata": {},
   "outputs": [],
   "source": [
    "SRAs=['CRR477154','CRR477155','CRR477156','CRR477157']"
   ]
  },
  {
   "cell_type": "code",
   "execution_count": 18,
   "id": "d108cdc0",
   "metadata": {},
   "outputs": [
    {
     "name": "stdout",
     "output_type": "stream",
     "text": [
      "CRR477154\n",
      "CRR477155\n",
      "CRR477156\n",
      "CRR477157\n"
     ]
    }
   ],
   "source": [
    "#bed_file=REF_PATH+'bed/'+REF_NAME.split('.fa')[0]+'.bed'\n",
    "workflow()"
   ]
  },
  {
   "cell_type": "code",
   "execution_count": 19,
   "id": "ee41ce2e",
   "metadata": {},
   "outputs": [],
   "source": [
    "REF_NAME='GRCh38.p13.fna'\n",
    "REF_PATH='/mnt/1TB_0/Data/fasta/mammal_genomes/'\n",
    "ALIGN_NAME=REF_NAME.split('.fna')[0]\n",
    "\n",
    "BAMSTATS_POST=f'_{ALIGN_NAME}_bamstats.txt'"
   ]
  },
  {
   "cell_type": "code",
   "execution_count": 20,
   "id": "5cd29b8c",
   "metadata": {},
   "outputs": [
    {
     "name": "stdout",
     "output_type": "stream",
     "text": [
      "CRR477154\n",
      "CRR477155\n",
      "CRR477156\n",
      "CRR477157\n"
     ]
    }
   ],
   "source": [
    "workflow()"
   ]
  },
  {
   "cell_type": "code",
   "execution_count": 21,
   "id": "f5ff6a78",
   "metadata": {},
   "outputs": [],
   "source": [
    "REF_NAME='Vero_WHO_p1.0.fna'\n",
    "REF_PATH='/mnt/1TB_0/Data/fasta/mammal_genomes/'\n",
    "ALIGN_NAME=REF_NAME.split('.fna')[0]\n",
    "\n",
    "BAMSTATS_POST=f'_{ALIGN_NAME}_bamstats.txt'"
   ]
  },
  {
   "cell_type": "code",
   "execution_count": 22,
   "id": "077c1c51",
   "metadata": {},
   "outputs": [
    {
     "name": "stdout",
     "output_type": "stream",
     "text": [
      "CRR477154\n",
      "CRR477155\n",
      "CRR477156\n",
      "CRR477157\n"
     ]
    }
   ],
   "source": [
    "workflow()"
   ]
  },
  {
   "cell_type": "code",
   "execution_count": null,
   "id": "saved-bracket",
   "metadata": {},
   "outputs": [],
   "source": []
  }
 ],
 "metadata": {
  "kernelspec": {
   "display_name": "Python 3",
   "language": "python",
   "name": "python3"
  },
  "language_info": {
   "codemirror_mode": {
    "name": "ipython",
    "version": 3
   },
   "file_extension": ".py",
   "mimetype": "text/x-python",
   "name": "python",
   "nbconvert_exporter": "python",
   "pygments_lexer": "ipython3",
   "version": "3.6.15"
  }
 },
 "nbformat": 4,
 "nbformat_minor": 5
}
