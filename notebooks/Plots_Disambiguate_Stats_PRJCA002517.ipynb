{
 "cells": [
  {
   "cell_type": "markdown",
   "id": "1ade898b",
   "metadata": {},
   "source": [
    "# Disambiguate (using cvbio)\n",
    "\n",
    "Result plots after seperate alignment using bwa-mem to human, Malayan pangolin and African green monkey genomes, then best mapping caculated using cvbio Disambiguate\n"
   ]
  },
  {
   "cell_type": "code",
   "execution_count": null,
   "id": "thorough-merchandise",
   "metadata": {},
   "outputs": [],
   "source": [
    "import re\n",
    "import numpy as np\n",
    "import time\n",
    "import os.path\n",
    "import sys\n",
    "import pandas as pd\n",
    "from matplotlib import pyplot as plt\n",
    "import matplotlib.lines as mlines\n",
    "import seaborn as sns\n",
    "from io import StringIO\n",
    "from Bio import SeqIO\n",
    "import pysam\n",
    "from pandas.plotting import scatter_matrix\n",
    "import warnings\n",
    "import json\n",
    "import numpy as np\n",
    "import subprocess\n",
    "warnings.filterwarnings('ignore')\n",
    "sys.executable.split('/')[-3]"
   ]
  },
  {
   "cell_type": "code",
   "execution_count": null,
   "id": "caring-insider",
   "metadata": {},
   "outputs": [],
   "source": [
    "from IPython.core.display import display, HTML\n",
    "display(HTML(\"<style>.container { width:95% !important; }</style>\"))"
   ]
  },
  {
   "cell_type": "code",
   "execution_count": null,
   "id": "44f9957c",
   "metadata": {},
   "outputs": [],
   "source": [
    "def run_flagtools(bam_file, stats_file):\n",
    "    cmd=f\"{SAMTOOLS_PATH}samtools flagstat {bam_file} > {stats_file}\"\n",
    "    try:\n",
    "        subprocess.check_call(cmd, shell=True)\n",
    "    except subprocess.CalledProcessError as e:\n",
    "        raise RuntimeError(\"command '{}' return with error (code {}): {}\".format(e.cmd, e.returncode, e.output))"
   ]
  },
  {
   "cell_type": "code",
   "execution_count": null,
   "id": "53ef321c",
   "metadata": {},
   "outputs": [],
   "source": [
    "def write_df(stats, aln_names, aln_name, aln_type):\n",
    "    aln_all='_'.join(aln_names)\n",
    "    out_name='disambiguate_'+aln_name+'_'+aln_type+'_'+aln_all+'_basic_stats.csv'\n",
    "    df=pd.DataFrame(stats)\n",
    "    df.columns=['mapped','properly paired', 'aln_ref']\n",
    "    df.insert(0, 'SRA', SRAs)\n",
    "    df.to_csv(f'{BASE_PATH}/general_plots/{out_name}')\n",
    "    return df, out_name"
   ]
  },
  {
   "cell_type": "code",
   "execution_count": null,
   "id": "039d65df",
   "metadata": {},
   "outputs": [],
   "source": [
    "def get_flagtools_stats(stats_file):\n",
    "    with open(stats_file) as file:\n",
    "        lines = file.readlines()\n",
    "        lines = [line.rstrip() for line in lines]\n",
    "        for line in lines:\n",
    "            if 'mapped (' in line:\n",
    "                if 'primary mapped (' not in line:\n",
    "                    mapped=int(line.split()[0])\n",
    "            elif 'properly paired (' in line:\n",
    "                properly_paired=int(lines[8].split()[0])\n",
    "    return mapped, properly_paired"
   ]
  },
  {
   "cell_type": "code",
   "execution_count": null,
   "id": "6d63ee87",
   "metadata": {},
   "outputs": [],
   "source": [
    "def plot_flagtools(df, fig_name, y_scale='log', save_fig=True):\n",
    "    fig_name=fig_name.split('.txt')[0]+'.png'\n",
    "    plt.rcParams[\"figure.figsize\"] = (12,6)\n",
    "    df.plot(x=\"SRA\", y=['mapped'], kind=\"bar\", color='royalblue')\n",
    "    plt.title(fig_name)\n",
    "    if y_scale=='log':\n",
    "        plt.yscale('log')\n",
    "    if save_fig:\n",
    "        plt.savefig(f'{BASE_PATH}/general_plots/{fig_name}', bbox_inches='tight')"
   ]
  },
  {
   "cell_type": "code",
   "execution_count": null,
   "id": "2df20629",
   "metadata": {},
   "outputs": [],
   "source": [
    "def plot_flagtools_stackplots(frames, frames_ambig, file_name, plot_type, y_scale='log', save_fig=False):\n",
    "    #SRA \tmapped \tproperly paired \taln_ref\n",
    "    #human, vero, manjav\n",
    "    x1=frames[0]['SRA']\n",
    "    y1=frames[0]['mapped']\n",
    "    x2=frames[1]['SRA']\n",
    "    y2=frames[1]['mapped']\n",
    "    x3=frames[2]['SRA']\n",
    "    y3=frames[2]['mapped']\n",
    "    \n",
    "    \n",
    "    xa=frames_ambig[2]['SRA']\n",
    "    ya=frames_ambig[2]['mapped']\n",
    "    total=y1+y2+y3+ya\n",
    "    if plot_type=='percent':\n",
    "        y1=(y1/total)*100\n",
    "        y2=(y2/total)*100\n",
    "        y3=(y3/total)*100\n",
    "        ya=(ya/total)*100\n",
    "    assert x1.tolist()==x2.tolist()==x3.tolist()\n",
    "\n",
    "    assert frames[0]['aln_ref'][0]=='human'\n",
    "    assert frames[1]['aln_ref'][0]=='vero'\n",
    "    assert frames[2]['aln_ref'][0]=='manjav'\n",
    "    assert frames_ambig[2]['aln_ref'][0]=='manjav'\n",
    "    \n",
    "    plt.rcParams[\"figure.figsize\"] = (5,6)\n",
    "    plt.bar(x1, y1, color='#1D2F6F')\n",
    "    plt.bar(x2, y2, bottom=y1, color='#6EAF46')\n",
    "    plt.bar(x3, y3, bottom=y1+y2, color='#FAC748')\n",
    "    plt.bar(xa, ya, bottom=y1+y2+y3, color='#8390FA')\n",
    "    if plot_type=='percent':\n",
    "        plt.ylabel('percent')\n",
    "    else:\n",
    "        plt.ylabel('counts')\n",
    "    legend_order=['human', 'vero', 'manis javanica', 'ambiguous']\n",
    "\n",
    "    plt.legend(legend_order, loc=(1.05, 0.7))\n",
    "    ax = plt.axes()\n",
    "    plt.tick_params(axis='x', rotation=90)\n",
    "    plt.tight_layout()\n",
    "    if y_scale=='log':\n",
    "        plt.yscale('log')\n",
    "    if save_fig:\n",
    "        plt.savefig(f'{BASE_PATH}/general_plots/{file_name}', bbox_inches='tight')"
   ]
  },
  {
   "cell_type": "code",
   "execution_count": null,
   "id": "a5618b63",
   "metadata": {},
   "outputs": [],
   "source": [
    "def stats_worflow(data_path, alignment_names, raw_aln_names, aln_type, cvbio_folder='cvbio'):\n",
    "    for alignment_name, raw_aln_name in zip(alignment_names, raw_aln_names):\n",
    "        stats_l=[]\n",
    "        stats_ambig=[]\n",
    "        for sra in SRAs:\n",
    "            bam_path=data_path+f'{sra}/{cvbio_folder}/'\n",
    "            bam_f=f'disambiguated.{alignment_name}.bam'\n",
    "            stats_file=bam_f.split('.bam')[0]+'_flagstats.txt'\n",
    "            run_flagtools(bam_path+bam_f, bam_path+stats_file)\n",
    "            mapped, properly_paired=get_flagtools_stats(bam_path+stats_file)\n",
    "            stats=[mapped, properly_paired, alignment_name]\n",
    "            stats_l.append(stats)\n",
    "\n",
    "            #ambiguous bams in subfolder\n",
    "            ambig_path=bam_path+f'ambiguous-alignments/'\n",
    "            if aln_type=='reads':\n",
    "                aln_type_name='reads_fastp'\n",
    "                ambig_f=f'{sra}_{aln_type_name}_{raw_aln_name}.fna_default_bwamem_gatk_sorted_marked.ambiguous.bam'\n",
    "            elif aln_type=='MEGAHITfinal':\n",
    "                aln_type_name='megahit_final'\n",
    "                ambig_f=f'{sra}_{aln_type_name}_{raw_aln_name}.fna_bwamem_gatk_sorted_marked.ambiguous.bam'\n",
    "            ambig_stats_f=ambig_f.split('.bam')[0]+'_flagstats.txt'\n",
    "            run_flagtools(ambig_path+ambig_f, ambig_path+ambig_stats_f)\n",
    "            ambig_mapped, ambig_properly_paired=get_flagtools_stats(ambig_path+ambig_stats_f)\n",
    "            ambig_stats=[ambig_mapped, ambig_properly_paired, alignment_name]\n",
    "            stats_ambig.append(ambig_stats)\n",
    "        stats_df, outname=write_df(stats_l, alignment_names, alignment_name, aln_type)\n",
    "        stats_ambig_df, outname_ambig=write_df(stats_ambig, raw_aln_names, raw_aln_name, aln_type)"
   ]
  },
  {
   "cell_type": "code",
   "execution_count": null,
   "id": "60f91c17",
   "metadata": {},
   "outputs": [],
   "source": [
    "def plot_workflow(data_path, alignment_names, raw_aln_names, aln_type, dummy_sra='CRR477154', cvbio_folder='cvbio'):\n",
    "    frames=[]\n",
    "    frames_ambig=[]\n",
    "    out_names=[]\n",
    "    bam_path=data_path+f'{dummy_sra}/bwa_mem/{cvbio_folder}/'\n",
    "    ambig_path=bam_path+f'ambiguous-alignments/'\n",
    "    for alignment, raw_aln_name in zip(alignment_names, raw_aln_names):\n",
    "        aln_all='_'.join(alignment_names)\n",
    "        out_name='disambiguate_'+alignment+'_'+aln_type+'_'+aln_all+'_basic_stats.csv'\n",
    "        \n",
    "        df=pd.read_csv(f'{BASE_PATH}/general_plots/{out_name}')\n",
    "        df.drop(columns=['Unnamed: 0'],inplace=True)\n",
    "\n",
    "        \n",
    "        aln_all_a='_'.join(raw_aln_names)\n",
    "        out_name_a='disambiguate_'+raw_aln_name+'_'+aln_type+'_'+aln_all_a+'_basic_stats.csv'\n",
    "    \n",
    "        df_a=pd.read_csv(f'{BASE_PATH}/general_plots/{out_name_a}')\n",
    "        df_a.drop(columns=['Unnamed: 0'],inplace=True)\n",
    "        frames.append(df.copy())\n",
    "        frames_ambig.append(df_a.copy())\n",
    "    return frames, frames_ambig\n",
    "\n"
   ]
  },
  {
   "cell_type": "code",
   "execution_count": null,
   "id": "85e038bd",
   "metadata": {},
   "outputs": [],
   "source": [
    "def get_pct(y_arr, tot):\n",
    "    pct_arr=[]\n",
    "    for i,val in enumerate(y_arr.tolist()):\n",
    "        pct=(val/tot)*100\n",
    "        pct_arr.append(pct)\n",
    "    #pct_arr=np.array(pct_arr)\n",
    "    return pct_arr"
   ]
  },
  {
   "cell_type": "code",
   "execution_count": null,
   "id": "4ef5930a",
   "metadata": {},
   "outputs": [],
   "source": [
    "def calc_pct(frames, frames_ambig):\n",
    "    SRAs=frames[0]['SRA']\n",
    "    human=frames[0]['mapped']\n",
    "    vero=frames[1]['mapped']\n",
    "    manjav=frames[2]['mapped']\n",
    "    \n",
    "    hu_no_ambig=[None]*len(SRAs)\n",
    "    v_no_ambig=[None]*len(SRAs)\n",
    "    mj_no_ambig=[None]*len(SRAs)\n",
    "    \n",
    "    for i,sra in enumerate(SRAs):\n",
    "        total_no_ambig=human[i]+vero[i]+manjav[i]\n",
    "        hu_no_ambig[i]=(human[i]/total_no_ambig)*100\n",
    "        v_no_ambig[i]=(vero[i]/total_no_ambig)*100\n",
    "        mj_no_ambig[i]=(manjav[i]/total_no_ambig)*100\n",
    "    df_no_ambig=pd.DataFrame(list(zip(SRAs, hu_no_ambig, v_no_ambig, mj_no_ambig)),\n",
    "              columns=['SRA','human','vero', 'manjav'])\n",
    "        \n",
    "    \n",
    "    human_ambig=frames_ambig[0]['mapped']\n",
    "    vero_ambig=frames_ambig[1]['mapped']\n",
    "    manjav_ambig=frames_ambig[2]['mapped']\n",
    "    just_ambig_pct_all_ambig=[None]*len(SRAs)\n",
    "    \n",
    "    hu_pct_mj_ambig=[None]*len(SRAs)\n",
    "    v_pct_mj_ambig=[None]*len(SRAs)\n",
    "    mj_pct_mj_ambig=[None]*len(SRAs)\n",
    "    mj_ambig_pct_mj_ambig=[None]*len(SRAs)\n",
    "    \n",
    "    hu_pct_all_ambig=[None]*len(SRAs)\n",
    "    v_pct_all_ambig=[None]*len(SRAs)\n",
    "    mj_pct_all_ambig=[None]*len(SRAs)\n",
    "\n",
    "    for i,sra in enumerate(SRAs):\n",
    "        total_mj_ambig=human[i]+vero[i]+manjav[i]+manjav_ambig[i]\n",
    "        total_all_ambig=total_mj_ambig+human_ambig[i]+vero_ambig[i]\n",
    "        just_ambig=manjav_ambig[i]+human_ambig[i]+vero_ambig[i]\n",
    "        \n",
    "        hu_pct_mj_ambig[i]=(human[i]/total_mj_ambig)*100\n",
    "        v_pct_mj_ambig[i]=(vero[i]/total_mj_ambig)*100\n",
    "        mj_pct_mj_ambig[i]=(manjav[i]/total_mj_ambig)*100\n",
    "        mj_ambig_pct_mj_ambig[i]=(manjav_ambig[i]/total_mj_ambig)*100\n",
    "        \n",
    "        hu_pct_all_ambig[i]=(human[i]/total_all_ambig)*100\n",
    "        v_pct_all_ambig[i]=(vero[i]/total_all_ambig)*100\n",
    "        mj_pct_all_ambig[i]=(manjav[i]/total_all_ambig)*100\n",
    "        \n",
    "        just_ambig_pct_all_ambig[i]=(just_ambig/total_all_ambig)*100\n",
    "        \n",
    "    df_mj_ambig=pd.DataFrame(list(zip(SRAs, hu_pct_mj_ambig, v_pct_mj_ambig, mj_pct_mj_ambig, mj_ambig_pct_mj_ambig)),\n",
    "              columns=['SRA','human','vero', 'manjav', 'mj ambiguous'])\n",
    "    df_all_ambig=pd.DataFrame(list(zip(SRAs, hu_pct_all_ambig, v_pct_all_ambig, mj_pct_all_ambig, just_ambig_pct_all_ambig)),\n",
    "              columns=['SRA','human','vero', 'manjav', 'all ambiguous'])\n",
    "    return df_mj_ambig, df_all_ambig, df_no_ambig"
   ]
  },
  {
   "cell_type": "code",
   "execution_count": null,
   "id": "hollow-chase",
   "metadata": {},
   "outputs": [],
   "source": [
    "PROJECT_CODE='PRJCA002517'\n",
    "BASE_PATH = f'/mnt/8TB_2/Data/Assembly/{PROJECT_CODE}'\n",
    "\n",
    "REF_BASE_PATH='/mnt/1TB_0/Data/Code/code/PRJNA901878/'\n",
    "REFERENCE_MJ='YNU_ManJav_2.0.fna'\n",
    "REFERENCE_H='GRCh38.p13.fna'\n",
    "REFERENCE_V='Vero_WHO_p1.0.fna'\n",
    "ASSEMBLY='bwamem'"
   ]
  },
  {
   "cell_type": "code",
   "execution_count": null,
   "id": "fa1236c9",
   "metadata": {},
   "outputs": [],
   "source": [
    "SRAs=['CRR477154', 'CRR477155','CRR477156', 'CRR477157']\n"
   ]
  },
  {
   "cell_type": "code",
   "execution_count": null,
   "id": "a941c013",
   "metadata": {},
   "outputs": [],
   "source": [
    "alignment_names=['human','vero','manjav']\n",
    "raw_aln_names=['GRCh38.p13','Vero_WHO_p1.0','YNU_ManJav_2.0']\n",
    "aln_type='reads'\n",
    "data_path=f'{BASE_PATH}/general_plots/'\n",
    "plot_path=f'{BASE_PATH}/general_plots/'\n",
    "SAMTOOLS_PATH=''"
   ]
  },
  {
   "cell_type": "code",
   "execution_count": null,
   "id": "a7011390",
   "metadata": {},
   "outputs": [],
   "source": [
    "#data_path, alignment_names, raw_aln_names, aln_type, cvbio_folder='cvbio'\n",
    "stats_worflow(BASE_PATH+'/', alignment_names, raw_aln_names, aln_type)"
   ]
  },
  {
   "cell_type": "code",
   "execution_count": null,
   "id": "1edf78c1",
   "metadata": {},
   "outputs": [],
   "source": [
    "frames, frames_ambig=plot_workflow(data_path, alignment_names, raw_aln_names, aln_type)"
   ]
  },
  {
   "cell_type": "code",
   "execution_count": null,
   "id": "1b2f4cfc",
   "metadata": {},
   "outputs": [],
   "source": [
    "df_mj_ambig, df_all_ambig, df_no_ambig= calc_pct(frames, frames_ambig)"
   ]
  },
  {
   "cell_type": "code",
   "execution_count": null,
   "id": "c50c08c8",
   "metadata": {},
   "outputs": [],
   "source": [
    "df_all_ambig.head()"
   ]
  },
  {
   "cell_type": "code",
   "execution_count": null,
   "id": "0fbd696f",
   "metadata": {},
   "outputs": [],
   "source": [
    "df_mj_ambig.head()"
   ]
  },
  {
   "cell_type": "code",
   "execution_count": null,
   "id": "c9f72737",
   "metadata": {},
   "outputs": [],
   "source": [
    "csv_name='disambiguated_'+aln_type+'_'+'_'.join(alignment_names)+'_bwamem_stats_df.csv'\n",
    "#df_mj_ambig.to_csv(f'{data_path}/{csv_name}', index=False)"
   ]
  },
  {
   "cell_type": "code",
   "execution_count": null,
   "id": "eb322cd6",
   "metadata": {},
   "outputs": [],
   "source": [
    "csv_name='disambiguated_'+aln_type+'_'+'_'.join(alignment_names)+'_no_ambig_bwamem_stats_df.csv'\n",
    "#df_no_ambig.to_csv(f'{data_path}/{csv_name}', index=False)"
   ]
  },
  {
   "cell_type": "code",
   "execution_count": null,
   "id": "e1d82853",
   "metadata": {},
   "outputs": [],
   "source": [
    "plot_type='percent'\n",
    "plot_file_name=f'disambiguated_'+aln_type+'_'+'_'.join(alignment_names)+'{plot_type}_bwamem_stats.png'\n",
    "plot_flagtools_stackplots(frames, frames_ambig, plot_file_name, plot_type, y_scale='', save_fig=False)"
   ]
  }
 ],
 "metadata": {
  "kernelspec": {
   "display_name": "Python 3",
   "language": "python",
   "name": "python3"
  },
  "language_info": {
   "codemirror_mode": {
    "name": "ipython",
    "version": 3
   },
   "file_extension": ".py",
   "mimetype": "text/x-python",
   "name": "python",
   "nbconvert_exporter": "python",
   "pygments_lexer": "ipython3",
   "version": "3.6.15"
  }
 },
 "nbformat": 4,
 "nbformat_minor": 5
}
