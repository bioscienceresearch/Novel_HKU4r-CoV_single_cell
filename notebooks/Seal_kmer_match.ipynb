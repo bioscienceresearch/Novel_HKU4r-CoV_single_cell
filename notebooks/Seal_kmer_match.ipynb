{
 "cells": [
  {
   "cell_type": "markdown",
   "id": "confused-wiring",
   "metadata": {},
   "source": [
    "## Seal kmer matching\n",
    "\n",
    "Runs Seal “Sequence Expression AnaLyzer” on reads or contigs\n",
    "\n",
    "See Seal guide here:\n",
    "\n",
    "https://jgi.doe.gov/data-and-tools/bbtools/bb-tools-user-guide/seal-guide/\n"
   ]
  },
  {
   "cell_type": "code",
   "execution_count": 1,
   "id": "generic-tsunami",
   "metadata": {},
   "outputs": [],
   "source": [
    "import pathlib\n",
    "import subprocess\n",
    "import os"
   ]
  },
  {
   "cell_type": "code",
   "execution_count": 2,
   "id": "casual-spring",
   "metadata": {},
   "outputs": [
    {
     "data": {
      "text/html": [
       "<style>.container { width:95% !important; }</style>"
      ],
      "text/plain": [
       "<IPython.core.display.HTML object>"
      ]
     },
     "metadata": {},
     "output_type": "display_data"
    }
   ],
   "source": [
    "from IPython.core.display import display, HTML\n",
    "display(HTML(\"<style>.container { width:95% !important; }</style>\"))"
   ]
  },
  {
   "cell_type": "code",
   "execution_count": 3,
   "id": "6d21a3b3",
   "metadata": {},
   "outputs": [],
   "source": [
    "import sys\n",
    "import os\n",
    "import time\n",
    "#need to have geomes in cwd\n",
    "sys.path.insert(0, '/mnt/1TB_0/Data/Code/code/Novel_HKU4r-CoV_single_cell/notebooks')\n",
    "os.chdir(sys.path[0])"
   ]
  },
  {
   "cell_type": "code",
   "execution_count": 4,
   "id": "behind-aspect",
   "metadata": {},
   "outputs": [],
   "source": [
    "NUM_THREADS=32\n",
    "LAYOUT='PAIRED'\n",
    "CREATE_BAM=False\n",
    "minkmerfraction=0.3\n",
    "minkmerhits=3"
   ]
  },
  {
   "cell_type": "code",
   "execution_count": 5,
   "id": "limiting-running",
   "metadata": {},
   "outputs": [],
   "source": [
    "def build_index(ref_file):\n",
    "    cmd = f\"{BBMAP_PATH}bbmap.sh ref={ref_file}\"\n",
    "    subprocess.check_call(cmd, shell=True)"
   ]
  },
  {
   "cell_type": "code",
   "execution_count": 6,
   "id": "therapeutic-intelligence",
   "metadata": {},
   "outputs": [],
   "source": [
    "def run_seal_split(fastq_1, fastq_2, out_path, ref_list, sra):\n",
    "    refs=','.join(ref_list)\n",
    "    cmd=f'{BBMAP_PATH}seal.sh in={fastq_1} in2={fastq_2} ref={refs} pattern=out_%.fq outu={out_path}{REF_UID}_unmapped.fq ambig={AMBIG} stats={out_path}{REF_UID}_stats.txt refstats={out_path}{REF_UID}_refstats.txt nzo=t threads={NUM_THREADS}'\n",
    "    print(f'cmd: {cmd}')\n",
    "    try:\n",
    "        subprocess.check_call(cmd, shell=True)\n",
    "    except subprocess.CalledProcessError as e:\n",
    "        raise RuntimeError(\"command '{}' return with error (code {}): {}\".format(e.cmd, e.returncode, e.output))"
   ]
  },
  {
   "cell_type": "code",
   "execution_count": 7,
   "id": "7624faa3",
   "metadata": {},
   "outputs": [],
   "source": [
    "def run_seal_abundance(fastq_1, fastq_2, out_path, ref_list, sra):\n",
    "    refs=','.join(ref_list)\n",
    "    cmd=f'{BBMAP_PATH}seal.sh in={fastq_1} in2={fastq_2} ref={refs} ambig={AMBIG} stats={out_path}{REF_UID}_MKF{minkmerfraction}_MKH{minkmerhits}_{AMBIG}_stats.txt refstats={out_path}{REF_UID}_MKF{minkmerfraction}_MKH{minkmerhits}_{AMBIG}_refstats.txt rpkm={out_path}{REF_UID}_MKF{minkmerfraction}_MKH{minkmerhits}_{AMBIG}_rpkm.txt minkmerfraction={minkmerfraction} minkmerhits={minkmerhits} nzo=t threads={NUM_THREADS} {XMX} overwrite=true'\n",
    "    print(f'cmd: {cmd}')\n",
    "    try:\n",
    "        subprocess.check_call(cmd, shell=True)\n",
    "    except subprocess.CalledProcessError as e:\n",
    "        raise RuntimeError(\"command '{}' return with error (code {}): {}\".format(e.cmd, e.returncode, e.output))"
   ]
  },
  {
   "cell_type": "code",
   "execution_count": 8,
   "id": "1f581249",
   "metadata": {},
   "outputs": [],
   "source": [
    "def run_seal_contigs(fasta, out_path, ref_list, sra):\n",
    "    refs=','.join(ref_list)\n",
    "    cmd=f'{BBMAP_PATH}seal.sh in={fasta} ref={refs} ambig={AMBIG} stats={out_path}{REF_UID}_{RUN_ID}_{AMBIG}_contigs_stats.txt refstats={out_path}{REF_UID}_{RUN_ID}_{AMBIG}_contigs_refstats.txt rpkm={out_path}{REF_UID}_{RUN_ID}_{AMBIG}_contigs_rpkm.txt nzo=t threads={NUM_THREADS} {XMX} overwrite=true'\n",
    "    try:\n",
    "        subprocess.check_call(cmd, shell=True)\n",
    "    except subprocess.CalledProcessError as e:\n",
    "        raise RuntimeError(\"command '{}' return with error (code {}): {}\".format(e.cmd, e.returncode, e.output))"
   ]
  },
  {
   "cell_type": "code",
   "execution_count": 9,
   "id": "150bca82",
   "metadata": {},
   "outputs": [],
   "source": [
    "def samtools_sort(file_to_sort):\n",
    "    out_file=file_to_sort.split('.sam')[0]\n",
    "    out_file=out_file+'_sorted.sam'\n",
    "    cmd=f'{SAMTOOLS_PATH}samtools sort -O SAM -o {out_file} {file_to_sort}'\n",
    "    try:\n",
    "        subprocess.check_call(cmd, shell=True)\n",
    "    except subprocess.CalledProcessError as e:\n",
    "        raise RuntimeError(\"command '{}' return with error (code {}): {}\".format(e.cmd, e.returncode, e.output))"
   ]
  },
  {
   "cell_type": "code",
   "execution_count": 10,
   "id": "528d7245",
   "metadata": {},
   "outputs": [],
   "source": [
    "def samtoos_coverage(in_file):\n",
    "    out_file=in_file.split('.sam')[0]\n",
    "    out_file=out_file+'_coverage.txt'\n",
    "    cmd=f'{SAMTOOLS_PATH}samtools coverage {in_file} -o {out_file}'\n",
    "    try:\n",
    "        subprocess.check_call(cmd, shell=True)\n",
    "    except subprocess.CalledProcessError as e:\n",
    "        raise RuntimeError(\"command '{}' return with error (code {}): {}\".format(e.cmd, e.returncode, e.output))\n"
   ]
  },
  {
   "cell_type": "code",
   "execution_count": 11,
   "id": "fitted-function",
   "metadata": {},
   "outputs": [],
   "source": [
    "def gatk_sort(bwa_mem_out):\n",
    "    out_file=bwa_mem_out.split('.sam')[0]\n",
    "    out_file=out_file+'_gatk_sorted.sam'\n",
    "    try:\n",
    "        cmd=f\"java -jar ~/apps/gatk-4.1.9.0/gatk-package-4.1.9.0-local.jar SortSam INPUT={bwa_mem_out} OUTPUT={out_file} SORT_ORDER=coordinate VALIDATION_STRINGENCY=SILENT\"\n",
    "        subprocess.check_call(cmd, shell=True)\n",
    "    except subprocess.CalledProcessError as e:\n",
    "        raise RuntimeError(\"command '{}' return with error (code {}): {}\".format(e.cmd, e.returncode, e.output))\n",
    "    return out_file"
   ]
  },
  {
   "cell_type": "code",
   "execution_count": 12,
   "id": "welcome-catch",
   "metadata": {},
   "outputs": [],
   "source": [
    "def gatk_metrics(gatk_out):\n",
    "    gatk_file=gatk_out.split('.sam')[0]\n",
    "    out_file=gatk_file+'_marked.bam'\n",
    "    metrics_file=gatk_file+'_metrics.txt'\n",
    "    try:\n",
    "        cmd=f\"java -Xmx64G -jar ~/apps/gatk-4.1.9.0/gatk-package-4.1.9.0-local.jar  MarkDuplicates INPUT={gatk_out} OUTPUT={out_file} METRICS_FILE={metrics_file} ASSUME_SORTED=true VALIDATION_STRINGENCY=SILENT\"\n",
    "        subprocess.check_call(cmd, shell=True)\n",
    "    except subprocess.CalledProcessError as e:\n",
    "        raise RuntimeError(\"command '{}' return with error (code {}): {}\".format(e.cmd, e.returncode, e.output))\n",
    "    return out_file"
   ]
  },
  {
   "cell_type": "code",
   "execution_count": 13,
   "id": "welsh-development",
   "metadata": {},
   "outputs": [],
   "source": [
    "def index_bam(gatk_bam_file):\n",
    "    try:\n",
    "        cmd=f\"{SAMTOOLS_PATH}samtools index {gatk_bam_file}\"\n",
    "        subprocess.check_call(cmd, shell=True)\n",
    "    except subprocess.CalledProcessError as e:\n",
    "        raise RuntimeError(\"command '{}' return with error (code {}): {}\".format(e.cmd, e.returncode, e.output))"
   ]
  },
  {
   "cell_type": "code",
   "execution_count": 14,
   "id": "available-directory",
   "metadata": {},
   "outputs": [],
   "source": [
    "def del_file(f_del):\n",
    "    cmd=f\"rm {f_del}\"\n",
    "    subprocess.check_call(cmd, shell=True)"
   ]
  },
  {
   "cell_type": "code",
   "execution_count": 15,
   "id": "quantitative-department",
   "metadata": {},
   "outputs": [],
   "source": [
    "def convert_sam_fastq(infile):\n",
    "    outfile=infile.split('.sam')[0]+'.fq'\n",
    "    cmd=f\"java -jar ~/apps/gatk-4.1.9.0/gatk-package-4.1.9.0-local.jar SamToFastq I={infile} FASTQ={outfile}\"\n",
    "    #cmd=f\"mv {infile} {outfile}\"\n",
    "    subprocess.check_call(cmd, shell=True)\n",
    "    return outfile"
   ]
  },
  {
   "cell_type": "code",
   "execution_count": 16,
   "id": "million-pacific",
   "metadata": {},
   "outputs": [],
   "source": [
    "def run_align():\n",
    "    for idx, sra in enumerate(SRAs):\n",
    "        start=time.time()\n",
    "        if LAYOUT=='PAIRED':\n",
    "            fastq1=FASTQ_FILES[2*idx]\n",
    "            fastq2=FASTQ_FILES[(2*idx)+1]\n",
    "            #f1path=BASE_PATH+sra+'/'+fastq1\n",
    "            #f2path=BASE_PATH+sra+'/'+fastq2\n",
    "            f1path=BASE_PATH+fastq1\n",
    "            f2path=BASE_PATH+fastq2\n",
    "        else:\n",
    "            fastq=FASTQ_FILES[idx]\n",
    "            f1path=BASE_PATH+sra+'/'+fastq\n",
    "        \n",
    "        sra_path=PRJ_OUT_PATH+sra\n",
    "        if not os.path.isfile(sra_path):\n",
    "            pathlib.Path(sra_path).mkdir(exist_ok=True)\n",
    "        seal_path=sra_path+'/seal/'\n",
    "        if not os.path.isfile(seal_path):\n",
    "            pathlib.Path(seal_path).mkdir(exist_ok=True)\n",
    "\n",
    "        print(f'{sra} alignment to {REF_UID}') \n",
    "        if LAYOUT=='PAIRED':\n",
    "            run_seal_abundance(f1path, f2path, seal_path, REF_LIST, sra)\n",
    "        else:\n",
    "            #TODO\n",
    "            pass\n",
    "        elapsed=time.time()-start\n",
    "        print(f'{sra} elapsed: {elapsed}')\n",
    "\n"
   ]
  },
  {
   "cell_type": "code",
   "execution_count": 17,
   "id": "e4591a1f",
   "metadata": {},
   "outputs": [],
   "source": [
    "def run_align_contigs():\n",
    "    for idx, sra in enumerate(SRAs):\n",
    "        start=time.time()\n",
    "        fasta=BASE_PATH+sra+f'/megahit_default/{CONTIGS_NAME}'\n",
    "        seal_path=BASE_PATH+sra+'/seal/'\n",
    "        if not os.path.isfile(seal_path):\n",
    "            pathlib.Path(seal_path).mkdir(exist_ok=True)\n",
    "        print(f'{sra} alignment to {REF_UID}') \n",
    "        run_seal_contigs(fasta, seal_path, REF_LIST, sra)\n",
    "        elapsed=time.time()-start\n",
    "        print(f'{sra} elapsed: {elapsed}')"
   ]
  },
  {
   "cell_type": "code",
   "execution_count": 18,
   "id": "479e58fa",
   "metadata": {},
   "outputs": [],
   "source": [
    "SAMTOOLS_PATH=''\n",
    "BBMAP_PATH='~/apps/bbmap/'"
   ]
  },
  {
   "cell_type": "code",
   "execution_count": 19,
   "id": "premier-placement",
   "metadata": {},
   "outputs": [],
   "source": [
    "MATCH='unique'\n",
    "AMBIG='toss'\n",
    "#REF_UID=\"rhipru_sus\"\n",
    "#RUN_ID='megahit_default'\n",
    "XMX='-Xmx280g'"
   ]
  },
  {
   "cell_type": "code",
   "execution_count": 20,
   "id": "painful-norwegian",
   "metadata": {},
   "outputs": [],
   "source": [
    "#human\n",
    "REF_NAME_H='GRCh38.p13.fna'\n",
    "\n",
    "#pig\n",
    "REF_NAME_S='Sscrofa11.1.fna'\n",
    "\n",
    "#Vero cell\n",
    "REF_NAME_V='Vero_WHO_p1.0.fna'\n",
    "\n",
    "#YNU_ManJav_2.0 (Pangolin)\n",
    "REF_NAME_MJ='YNU_ManJav_2.0.fna'\n",
    "\n",
    "REF_NAME_MP='YNU_ManPten_2.0.fna'\n",
    "\n",
    "#Bamboo rat\n",
    "REF_NAME_R='RhiPru_1.0.fna'\n",
    "\n",
    "#cat\n",
    "REF_NAME_C='Fca126_mat1.0.fna'\n",
    "\n",
    "#goat\n",
    "REF_NAME_G='CapAeg_1.0.fna'\n",
    "\n",
    "#Choloepus didactylus\n",
    "REF_NAME_XS=\"mChoDid1.pri.fna\"\n"
   ]
  },
  {
   "cell_type": "markdown",
   "id": "f9e3b548",
   "metadata": {},
   "source": [
    "## Reads"
   ]
  },
  {
   "cell_type": "code",
   "execution_count": 21,
   "id": "f35c595e",
   "metadata": {},
   "outputs": [],
   "source": [
    "PRJ='PRJNA901878'\n",
    "PRJ_OUT_PATH=f'/mnt/8TB_2/Data/Assembly/{PRJ}/'\n",
    "BASE_PATH=f'/mnt/8TB_0/Data/genbank/{PRJ}/'\n",
    "\n",
    "\n",
    "SRAs=['SRR22936419','SRR22936420','SRR22936421','SRR22936422', \\\n",
    "      'SRR22936541','SRR22936544','SRR22936770','SRR22936773']"
   ]
  },
  {
   "cell_type": "markdown",
   "id": "0a74d6be",
   "metadata": {},
   "source": [
    "#### bamboo rat"
   ]
  },
  {
   "cell_type": "code",
   "execution_count": 24,
   "id": "c3e98621",
   "metadata": {},
   "outputs": [],
   "source": [
    "REF_LIST=[REF_NAME_R, REF_NAME_S]\n",
    "REF_UID='RhiPru_1.0_Sscrofa11.1'\n",
    "\n",
    "SRAs=['SRR22936497']\n",
    "\n",
    "FASTQ_FILES=[]\n",
    "for f in SRAs:\n",
    "    FASTQ_FILES.append(f+'_1_fastp.fastq')\n",
    "    FASTQ_FILES.append(f+'_2_fastp.fastq')"
   ]
  },
  {
   "cell_type": "code",
   "execution_count": 25,
   "id": "c11de767",
   "metadata": {},
   "outputs": [
    {
     "name": "stdout",
     "output_type": "stream",
     "text": [
      "SRR22936497 alignment to RhiPru_1.0_Sscrofa11.1\n",
      "cmd: ~/apps/bbmap/seal.sh in=/mnt/8TB_0/Data/genbank/PRJNA901878/SRR22936497_1_fastp.fastq in2=/mnt/8TB_0/Data/genbank/PRJNA901878/SRR22936497_2_fastp.fastq ref=RhiPru_1.0.fna,Sscrofa11.1.fna ambig=toss stats=/mnt/8TB_2/Data/Assembly/PRJNA901878/SRR22936497/seal/RhiPru_1.0_Sscrofa11.1_MKF0.3_MKH3_toss_stats.txt refstats=/mnt/8TB_2/Data/Assembly/PRJNA901878/SRR22936497/seal/RhiPru_1.0_Sscrofa11.1_MKF0.3_MKH3_toss_refstats.txt rpkm=/mnt/8TB_2/Data/Assembly/PRJNA901878/SRR22936497/seal/RhiPru_1.0_Sscrofa11.1_MKF0.3_MKH3_toss_rpkm.txt minkmerfraction=0.3 minkmerhits=3 nzo=t threads=32 -Xmx280g overwrite=true\n",
      "SRR22936497 elapsed: 1412.308405637741\n"
     ]
    }
   ],
   "source": [
    "run_align()"
   ]
  },
  {
   "cell_type": "code",
   "execution_count": 23,
   "id": "b2999cc3",
   "metadata": {},
   "outputs": [],
   "source": [
    "PRJ='PRJCA002517'\n",
    "PRJ_OUT_PATH=f'/mnt/8TB_2/Data/Assembly/{PRJ}/'\n",
    "BASE_PATH=f'/mnt/8TB_2/Data/bigd/{PRJ}/'\n",
    "\n",
    "SRAs=['CRR477154','CRR477155','CRR477156','CRR477157']"
   ]
  },
  {
   "cell_type": "code",
   "execution_count": 24,
   "id": "68696134",
   "metadata": {},
   "outputs": [],
   "source": [
    "PRJ='PRJNA845961'\n",
    "PRJ_OUT_PATH=f'/mnt/8TB_1/Data/Assembly/{PRJ}/'\n",
    "BASE_PATH=f'/mnt/8TB_1/Data/genbank/{PRJ}/'\n",
    "\n",
    "SRAs=['SRR19632971','SRR19633001', 'SRR19632976','SRR19632991','SRR19632995','SRR19632997','SRR19633000']"
   ]
  },
  {
   "cell_type": "code",
   "execution_count": 25,
   "id": "c11a2558",
   "metadata": {},
   "outputs": [],
   "source": [
    "PRJ='PRJNA747757'\n",
    "PRJ_OUT_PATH=f'/mnt/8TB_2/Data/Assembly/{PRJ}/'\n",
    "BASE_PATH=f'/mnt/8TB_1/Data/genbank/{PRJ}/'\n",
    "\n",
    "SRAs=['SRR15199660' 'SRR15199665', 'SRR15199666' 'SRR15199667', \\\n",
    "        'SRR15199668', 'SRR15199670', 'SRR15199671', 'SRR15199672', \\\n",
    "        'SRR15199675', 'SRR15199659', 'SRR15199661', 'SRR15199664', \\\n",
    "        'SRR15199676', 'SRR15199663', 'SRR15199669']"
   ]
  },
  {
   "cell_type": "code",
   "execution_count": 26,
   "id": "e65ebad0",
   "metadata": {},
   "outputs": [],
   "source": [
    "FASTQ_FILES=[]\n",
    "for f in SRAs:\n",
    "    FASTQ_FILES.append(f+'_1_fastp.fastq')\n",
    "    FASTQ_FILES.append(f+'_2_fastp.fastq')"
   ]
  },
  {
   "cell_type": "code",
   "execution_count": 27,
   "id": "40adefb0",
   "metadata": {},
   "outputs": [],
   "source": [
    "#run_align()"
   ]
  },
  {
   "cell_type": "markdown",
   "id": "089afc41",
   "metadata": {},
   "source": [
    "## Contigs\n"
   ]
  },
  {
   "cell_type": "code",
   "execution_count": 28,
   "id": "ac82617a",
   "metadata": {},
   "outputs": [],
   "source": [
    "PRJ='PRJCA002517'\n",
    "PRJ_OUT_PATH=f'/mnt/8TB_2/Data/Assembly/{PRJ}/'\n",
    "BASE_PATH=f'/mnt/8TB_2/Data/Assembly/{PRJ}/'\n",
    "\n",
    "SRAs=['CRR477154','CRR477155','CRR477156','CRR477157']"
   ]
  },
  {
   "cell_type": "code",
   "execution_count": 29,
   "id": "63700e45",
   "metadata": {},
   "outputs": [],
   "source": [
    "FASTQ_FILES=[]\n",
    "for f in SRAs:\n",
    "    FASTQ_FILES.append(f+'_1_fastp.fastq')\n",
    "    FASTQ_FILES.append(f+'_2_fastp.fastq')"
   ]
  },
  {
   "cell_type": "code",
   "execution_count": 30,
   "id": "a58e7796",
   "metadata": {},
   "outputs": [],
   "source": [
    "REF_LIST=[REF_NAME_MJ, REF_NAME_H, REF_NAME_V]\n",
    "REF_UID='manjav_human_vero'\n",
    "RUN_ID='megahit_default'\n",
    "CONTIGS_NAME='final.contigs.fa'"
   ]
  },
  {
   "cell_type": "code",
   "execution_count": 31,
   "id": "0bd9fd80",
   "metadata": {},
   "outputs": [],
   "source": [
    "#run_align_contigs()"
   ]
  },
  {
   "cell_type": "code",
   "execution_count": 32,
   "id": "3ba32ace",
   "metadata": {},
   "outputs": [],
   "source": [
    "RUN_ID='min_len_300_megahit_default'\n",
    "CONTIGS_NAME='final_min_len_300.contigs.fa'"
   ]
  },
  {
   "cell_type": "code",
   "execution_count": 33,
   "id": "c4fe3c10",
   "metadata": {},
   "outputs": [],
   "source": [
    "#run_align_contigs()"
   ]
  },
  {
   "cell_type": "markdown",
   "id": "2e6a427d",
   "metadata": {},
   "source": [
    "#### PRJ901878"
   ]
  },
  {
   "cell_type": "code",
   "execution_count": 34,
   "id": "1689f419",
   "metadata": {},
   "outputs": [],
   "source": [
    "REF_LIST=[REF_NAME_MJ, REF_NAME_S]\n",
    "REF_UID='manjav_sus'\n",
    "RUN_ID='min_len_300_megahit_default'\n",
    "CONTIGS_NAME='final_min_len_300.contigs.fa'"
   ]
  },
  {
   "cell_type": "code",
   "execution_count": 35,
   "id": "61180301",
   "metadata": {},
   "outputs": [],
   "source": [
    "PRJ='PRJNA901878'\n",
    "PRJ_OUT_PATH=f'/mnt/8TB_2/Data/Assembly/{PRJ}/'\n",
    "BASE_PATH=f'/mnt/8TB_2/Data/Assembly/{PRJ}/'\n",
    "\n",
    "#done 'SRR22936419','SRR22936420','SRR22936421', 'SRR22936422'\n",
    "SRAs=['SRR22936541','SRR22936544','SRR22936770','SRR22936773']"
   ]
  },
  {
   "cell_type": "code",
   "execution_count": 36,
   "id": "a17d3428",
   "metadata": {},
   "outputs": [
    {
     "name": "stdout",
     "output_type": "stream",
     "text": [
      "SRR22936541 alignment to manjav_sus\n",
      "SRR22936541 elapsed: 535.3784248828888\n",
      "SRR22936544 alignment to manjav_sus\n",
      "SRR22936544 elapsed: 447.8898649215698\n",
      "SRR22936770 alignment to manjav_sus\n",
      "SRR22936770 elapsed: 432.3830244541168\n",
      "SRR22936773 alignment to manjav_sus\n",
      "SRR22936773 elapsed: 418.08904337882996\n"
     ]
    }
   ],
   "source": [
    "#run_align_contigs()"
   ]
  },
  {
   "cell_type": "markdown",
   "id": "1a0e1328",
   "metadata": {},
   "source": [
    "##### Bamboo rat/Sus scrofa"
   ]
  },
  {
   "cell_type": "code",
   "execution_count": 37,
   "id": "6b1de3a7",
   "metadata": {},
   "outputs": [],
   "source": [
    "REF_LIST=[REF_NAME_R, REF_NAME_S]\n",
    "REF_UID='rhipru_sus'\n",
    "RUN_ID='min_len_300_megahit_default'\n",
    "CONTIGS_NAME='final_min_len_300.contigs.fa'"
   ]
  },
  {
   "cell_type": "code",
   "execution_count": 38,
   "id": "2584e35e",
   "metadata": {},
   "outputs": [],
   "source": [
    "PRJ='PRJNA901878'\n",
    "PRJ_OUT_PATH=f'/mnt/8TB_2/Data/Assembly/{PRJ}/'\n",
    "BASE_PATH=f'/mnt/8TB_2/Data/Assembly/{PRJ}/'\n",
    "\n",
    "SRAs=['SRR22936497']"
   ]
  },
  {
   "cell_type": "code",
   "execution_count": 39,
   "id": "8b98321b",
   "metadata": {},
   "outputs": [
    {
     "name": "stdout",
     "output_type": "stream",
     "text": [
      "SRR22936497 alignment to rhipru_sus\n",
      "SRR22936497 elapsed: 512.7499215602875\n"
     ]
    }
   ],
   "source": [
    "#run_align_contigs()"
   ]
  },
  {
   "cell_type": "code",
   "execution_count": null,
   "id": "b7236fbd",
   "metadata": {},
   "outputs": [],
   "source": []
  }
 ],
 "metadata": {
  "kernelspec": {
   "display_name": "Python 3",
   "language": "python",
   "name": "python3"
  },
  "language_info": {
   "codemirror_mode": {
    "name": "ipython",
    "version": 3
   },
   "file_extension": ".py",
   "mimetype": "text/x-python",
   "name": "python",
   "nbconvert_exporter": "python",
   "pygments_lexer": "ipython3",
   "version": "3.6.15"
  }
 },
 "nbformat": 4,
 "nbformat_minor": 5
}
