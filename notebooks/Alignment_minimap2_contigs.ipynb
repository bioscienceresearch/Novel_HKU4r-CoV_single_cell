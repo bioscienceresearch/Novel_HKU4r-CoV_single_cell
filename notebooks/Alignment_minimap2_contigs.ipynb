{
 "cells": [
  {
   "cell_type": "code",
   "execution_count": 69,
   "id": "generic-tsunami",
   "metadata": {},
   "outputs": [],
   "source": [
    "import pathlib\n",
    "import subprocess\n",
    "import os\n",
    "import pandas as pd\n",
    "from Bio import Entrez\n",
    "from Bio import SeqIO"
   ]
  },
  {
   "cell_type": "markdown",
   "id": "corrected-heaven",
   "metadata": {},
   "source": [
    "De novo assembled contig alignmnet using Minimap2\n",
    "\n",
    "https://lh3.github.io/minimap2/\n",
    "\n",
    "Used for Concatref and aligned inputs to XenoFilteR workflows"
   ]
  },
  {
   "cell_type": "code",
   "execution_count": 70,
   "id": "casual-spring",
   "metadata": {},
   "outputs": [
    {
     "data": {
      "text/html": [
       "<style>.container { width:95% !important; }</style>"
      ],
      "text/plain": [
       "<IPython.core.display.HTML object>"
      ]
     },
     "metadata": {},
     "output_type": "display_data"
    }
   ],
   "source": [
    "from IPython.core.display import display, HTML\n",
    "display(HTML(\"<style>.container { width:95% !important; }</style>\"))"
   ]
  },
  {
   "cell_type": "code",
   "execution_count": 71,
   "id": "identified-thirty",
   "metadata": {},
   "outputs": [],
   "source": [
    "def log_cmd(log_file, cmd, file_opt='a'):\n",
    "    try:\n",
    "        f = open(log_file, file_opt)\n",
    "        f.write(cmd)\n",
    "        f.write('\\n')\n",
    "        f.close()\n",
    "    except Exception as e:\n",
    "        raise RuntimeError(\"command '{}' return with error (code {}): {}\".format(e.cmd, e.returncode, e.output))"
   ]
  },
  {
   "cell_type": "code",
   "execution_count": 72,
   "id": "artificial-syndication",
   "metadata": {},
   "outputs": [],
   "source": [
    "def create_fq(contigs_path):\n",
    "    try:\n",
    "        if de_novo=='MEGAHIT':\n",
    "            cmd= f\"{BBMAP_PATH}reformat.sh in={contigs_path}{CONTIG_MER}.contigs.fa out={contigs_path}{CONTIG_MER}.contigs.fq\"\n",
    "        elif de_novo=='coronaspades':\n",
    "            cmd= f\"{BBMAP_PATH}reformat.sh in={contigs_path}{coronaspades_name}.fasta out={contigs_path}{coronaspades_name}.fq\"\n",
    "        elif de_novo=='spades':\n",
    "            cmd= f\"{BBMAP_PATH}reformat.sh in={contigs_path}{spades_name}.fasta out={contigs_path}{spades_name}.fq\"\n",
    "        subprocess.check_call(cmd, shell=True)\n",
    "    except subprocess.CalledProcessError as e:\n",
    "        raise RuntimeError(\"command '{}' return with error (code {}): {}\".format(e.cmd, e.returncode, e.output))"
   ]
  },
  {
   "cell_type": "code",
   "execution_count": 73,
   "id": "portable-continent",
   "metadata": {},
   "outputs": [],
   "source": [
    "def run_minimap2(contigs, bwa_path, sra):\n",
    "    ref=REF_NAME.split(REF_EXT)[0]\n",
    "    if de_novo=='MEGAHIT':\n",
    "        out_file= f\"{bwa_path}{sra}_{PREPROC}_{CONTIGS_NAME}_{CONTIG_MER}_{ref}_{ALIGN_OPTS_NAME}_{MINI_OPTS_NAME}_minimap2.sam\"\n",
    "    elif de_novo=='coronaspades':\n",
    "        out_file= f\"{bwa_path}{sra}_{PREPROC}_coronaspades_{coronaspades_code}_{ref}_{MINI_OPTS_NAME}_minimap2.sam\"\n",
    "    elif de_novo=='spades':\n",
    "        out_file= f\"{bwa_path}{sra}_{PREPROC}_spades_{spades_code}_{ref}_{MINI_OPTS_NAME}_minimap2.sam\"\n",
    "    try:\n",
    "        cmd = f\"{MINIMAP2_PATH}minimap2 -a {REF_PATH+REF_NAME} {contigs} > {out_file} {MINIMAP_PARAMS} \"\n",
    "        subprocess.check_call(cmd, shell=True)\n",
    "    except subprocess.CalledProcessError as e:\n",
    "        raise RuntimeError(\"command '{}' return with error (code {}): {}\".format(e.cmd, e.returncode, e.output))\n",
    "    log_file=out_file.split('.sam')[0]+'_log.txt'\n",
    "    log_cmd(log_file, cmd, file_opt='w')\n",
    "    return out_file"
   ]
  },
  {
   "cell_type": "code",
   "execution_count": 74,
   "id": "8eba2f1d",
   "metadata": {},
   "outputs": [],
   "source": [
    "def samtools_sort(file_to_sort, out_type='BAM'):\n",
    "    out_file=file_to_sort.split('.sam')[0]\n",
    "    if out_type=='BAM':\n",
    "        out_file=out_file+'_sorted.bam'\n",
    "    else:\n",
    "        out_file=out_file+'_sorted.sam'\n",
    "    cmd=f'{SAMTOOLS_PATH}samtools sort -O {out_type} -o {out_file} {file_to_sort}'\n",
    "    try:\n",
    "        subprocess.check_call(cmd, shell=True)\n",
    "    except subprocess.CalledProcessError as e:\n",
    "        raise RuntimeError(\"command '{}' return with error (code {}): {}\".format(e.cmd, e.returncode, e.output))\n",
    "    return out_file"
   ]
  },
  {
   "cell_type": "code",
   "execution_count": 75,
   "id": "ca87fc00",
   "metadata": {},
   "outputs": [],
   "source": [
    "def run_samtools_stats(gatk_bam_file, ref_genome):\n",
    "    bam_path_root=gatk_bam_file.split('.bam')[0]\n",
    "    sam_out=bam_path_root+'_samtools_stats.txt'\n",
    "    cmd=f'{SAMTOOLS_PATH}samtools stats {gatk_bam_file} --reference {ref_genome} >{sam_out}'\n",
    "    subprocess.check_call(cmd, shell=True)"
   ]
  },
  {
   "cell_type": "code",
   "execution_count": 76,
   "id": "8ecc8dc4",
   "metadata": {},
   "outputs": [],
   "source": [
    "def samtools_coverage(sam_input, in_type='.sam'):\n",
    "    f_input=sam_input.split(in_type)[0]\n",
    "    out_file=f_input+'_coverage.out'\n",
    "    try:\n",
    "        cmd=f\"{SAMTOOLS_PATH}samtools coverage {sam_input} -o {out_file}\"\n",
    "        subprocess.check_call(cmd, shell=True)\n",
    "    except subprocess.CalledProcessError as e:\n",
    "        raise RuntimeError(\"command '{}' return with error (code {}): {}\".format(e.cmd, e.returncode, e.output))\n",
    "    return out_file"
   ]
  },
  {
   "cell_type": "code",
   "execution_count": 77,
   "id": "fitted-function",
   "metadata": {},
   "outputs": [],
   "source": [
    "def gatk_sort(bwa_mem_out):\n",
    "    out_file=bwa_mem_out.split('.sam')[0]\n",
    "    out_file=out_file+'_gatk_sorted.sam'\n",
    "    try:\n",
    "        cmd=f\"java -jar {GATK_JAR} SortSam INPUT={bwa_mem_out} OUTPUT={out_file} SORT_ORDER=coordinate VALIDATION_STRINGENCY=SILENT\"\n",
    "        subprocess.check_call(cmd, shell=True)\n",
    "    except subprocess.CalledProcessError as e:\n",
    "        raise RuntimeError(\"command '{}' return with error (code {}): {}\".format(e.cmd, e.returncode, e.output))\n",
    "    return out_file"
   ]
  },
  {
   "cell_type": "code",
   "execution_count": 78,
   "id": "welcome-catch",
   "metadata": {},
   "outputs": [],
   "source": [
    "def gatk_metrics(gatk_out):\n",
    "    gatk_file=gatk_out.split('.sam')[0]\n",
    "    out_file=gatk_file+'_marked.bam'\n",
    "    metrics_file=gatk_file+'_metrics.txt'\n",
    "    try:\n",
    "        cmd=f\"java -Xmx64G -jar {GATK_JAR} MarkDuplicates INPUT={gatk_out} OUTPUT={out_file} METRICS_FILE={metrics_file} ASSUME_SORTED=true VALIDATION_STRINGENCY=SILENT\"\n",
    "        subprocess.check_call(cmd, shell=True)\n",
    "    except subprocess.CalledProcessError as e:\n",
    "        raise RuntimeError(\"command '{}' return with error (code {}): {}\".format(e.cmd, e.returncode, e.output))\n",
    "    return out_file"
   ]
  },
  {
   "cell_type": "code",
   "execution_count": 79,
   "id": "welsh-development",
   "metadata": {},
   "outputs": [],
   "source": [
    "def index_bam(gatk_bam_file):\n",
    "    try:\n",
    "        cmd=f\"{SAMTOOLS_PATH}samtools index {gatk_bam_file}\"\n",
    "        subprocess.check_call(cmd, shell=True)\n",
    "    except subprocess.CalledProcessError as e:\n",
    "        raise RuntimeError(\"command '{}' return with error (code {}): {}\".format(e.cmd, e.returncode, e.output))"
   ]
  },
  {
   "cell_type": "code",
   "execution_count": 80,
   "id": "animal-detector",
   "metadata": {},
   "outputs": [],
   "source": [
    "def remove_file(file_to_del):\n",
    "    try:\n",
    "        cmd = f\"rm {file_to_del}\"\n",
    "        subprocess.check_call(cmd, shell=True)\n",
    "    except subprocess.CalledProcessError as e:\n",
    "        print(e)"
   ]
  },
  {
   "cell_type": "code",
   "execution_count": 81,
   "id": "numerous-elephant",
   "metadata": {},
   "outputs": [],
   "source": [
    "def run_bamstats(bam_file, stats_out):\n",
    "    try:\n",
    "        cmd=f'java -Xmx48g -Djava.awt.headless=true -jar {BAMSTATS_JAR} -i {bam_file} -m -q -o {stats_out}'\n",
    "        subprocess.check_call(cmd, shell=True)\n",
    "    except subprocess.CalledProcessError as e:\n",
    "        print(\"command '{}' return with error (code {}): {}\".format(e.cmd, e.returncode, e.output))"
   ]
  },
  {
   "cell_type": "code",
   "execution_count": 82,
   "id": "professional-morrison",
   "metadata": {},
   "outputs": [],
   "source": [
    "def create_bed(fasta_file, bed_file):\n",
    "    cmd=f'faidx --transform bed {fasta_file} > {bed_file}'\n",
    "    subprocess.check_call(cmd, shell=True)"
   ]
  },
  {
   "cell_type": "code",
   "execution_count": 83,
   "id": "floating-master",
   "metadata": {},
   "outputs": [],
   "source": [
    "def run_bamdst(bed_file, out_path, bam_in):\n",
    "    out_path = out_path.rstrip(\"/\")\n",
    "    try:\n",
    "        cmd=f'{BAMDST_PATH}bamdst -p {bed_file} -o {out_path} {bam_in}'\n",
    "        subprocess.check_call(cmd, shell=True)\n",
    "    except subprocess.CalledProcessError as e:\n",
    "        print(\"command '{}' return with error (code {}): {}\".format(e.cmd, e.returncode, e.output))"
   ]
  },
  {
   "cell_type": "code",
   "execution_count": 84,
   "id": "35eabfea",
   "metadata": {},
   "outputs": [],
   "source": [
    "def match_taxa(cov_file, taxa_file):\n",
    "    #writes full description (where has coverage >0) out to file\n",
    "    df=pd.read_csv(cov_file, sep='\\t', header=0)\n",
    "    df = df.sort_values(by = 'coverage', ascending = False)\n",
    "    df = df[df['coverage'] > 0]\n",
    "    f = open(taxa_file,\"r\")\n",
    "    taxa_lines = f.readlines()\n",
    "    accessions=[]\n",
    "    descrs=[]\n",
    "    for l in taxa_lines:\n",
    "        accessions.append(l.split(\" \", 1)[0])\n",
    "        descrs.append(l.split(\" \", 1)[1])\n",
    "    df_taxa = pd.DataFrame(list(zip(accessions, descrs)),\n",
    "               columns =['#rname', 'description'])\n",
    "    df_merge = pd.merge(df, df_taxa, on=['#rname'])\n",
    "    df_merge = df_merge[df_merge['coverage'] > 0]\n",
    "    f_input=cov_file.split('.out')[0]\n",
    "    out_file=cov_file+'_taxa.csv'\n",
    "    df_merge.to_csv(out_file)"
   ]
  },
  {
   "cell_type": "code",
   "execution_count": 85,
   "id": "a030c836",
   "metadata": {},
   "outputs": [],
   "source": [
    "def run_flagtools(bam_file):\n",
    "    bam_path_root=bam_file.split('.bam')[0]\n",
    "    flagstat_file=bam_path_root+'_flagtools.txt'\n",
    "    cmd=f'{SAMTOOLS_PATH}samtools flagstat {bam_file} >{flagstat_file}'\n",
    "    subprocess.check_call(cmd, shell=True)"
   ]
  },
  {
   "cell_type": "code",
   "execution_count": 86,
   "id": "eb08cdea",
   "metadata": {},
   "outputs": [],
   "source": [
    "def run_idxstats(bam_file, flagstat_file):\n",
    "    cmd=f\"{SAMTOOLS_PATH}samtools idxstats {bam_file} >{flagstat_file}\"\n",
    "    try: \n",
    "        subprocess.check_call(cmd, shell=True)\n",
    "    except subprocess.CalledProcessError as e:\n",
    "        print(\"command '{}' return with error (code {}): {}\".format(e.cmd, e.returncode, e.output))"
   ]
  },
  {
   "cell_type": "code",
   "execution_count": 87,
   "id": "9548b100",
   "metadata": {},
   "outputs": [],
   "source": [
    "def setup_files(sra):\n",
    "    if de_novo=='MEGAHIT':\n",
    "        #data_path=PRJ_OUT_PATH+sra+f'/{contigs_base_folder}/intermediate_contigs/'\n",
    "        data_path=PRJ_OUT_PATH+sra+f'/{contigs_base_folder}/'\n",
    "        contigs=data_path+f'{CONTIG_MER}.contigs.fq'\n",
    "        contigsfa=data_path+f'{CONTIG_MER}.contigs.fa'\n",
    "    elif de_novo=='coronaspades':\n",
    "        data_path=PRJ_OUT_PATH+sra+'/coronaspades_default/'\n",
    "        contigs=data_path+f'{coronaspades_name}.fq'\n",
    "        contigsfa=data_path+f'{coronaspades_name}.fasta'\n",
    "    elif de_novo=='spades':\n",
    "        data_path=PRJ_OUT_PATH+sra+'/spades_careful/'\n",
    "        contigs=data_path+f'{spades_name}.fq'\n",
    "        contigsfa=data_path+f'{spades_name}.fasta'\n",
    "    if not os.path.isfile(contigsfa):\n",
    "        print(f'Contigs file: {contigsfa} does not exist')\n",
    "        raise Exception\n",
    "    if not os.path.isfile(contigs):\n",
    "        create_fq(data_path) \n",
    "    alignment_path=PRJ_OUT_PATH+sra+'/minimap2/'\n",
    "    if not os.path.isdir(alignment_path):\n",
    "        pathlib.Path(alignment_path).mkdir(exist_ok=True)\n",
    "    return contigs, contigsfa, alignment_path"
   ]
  },
  {
   "cell_type": "code",
   "execution_count": 88,
   "id": "2eb9db63",
   "metadata": {},
   "outputs": [],
   "source": [
    "def prep_bed(create=True):\n",
    "    fasta_file=REF_PATH+REF_NAME\n",
    "    bed_file=REF_PATH+'bed/'+REF_NAME.split(REF_EXT)[0]+'.bed'\n",
    "    pathlib.Path(REF_PATH+'bed/').mkdir(exist_ok=True)\n",
    "    if create:\n",
    "        create_bed(fasta_file, bed_file)\n",
    "    return bed_file"
   ]
  },
  {
   "cell_type": "code",
   "execution_count": 89,
   "id": "moral-victor",
   "metadata": {},
   "outputs": [],
   "source": [
    "def workflow(bed_file=None, run_bamstats=False, run_coverage=False, output_taxa=False):\n",
    "    for sra in SRAs:\n",
    "        print(f'{sra}')\n",
    "        contigs, contigsfa, alignment_path=setup_files(sra)\n",
    "        sam_out=run_minimap2(contigs, alignment_path, sra)\n",
    "        \n",
    "        if SORT_TOOL=='samtools':\n",
    "            bam_sorted=samtools_sort(sam_out, out_type='BAM')\n",
    "            remove_file(sam_out)\n",
    "        else:\n",
    "            sam_out=gatk_sort(sam_out)\n",
    "            bam_sorted=gatk_metrics(sam_out)\n",
    "        index_bam(bam_sorted)\n",
    "        \n",
    "        run_samtools_stats(bam_sorted, REF_PATH+REF_NAME)\n",
    "        run_flagtools(bam_sorted)\n",
    "        \n",
    "        idxstat_file=bam_sorted.split(f'.bam')[0]+'_idxstats.txt'\n",
    "        run_idxstats(bam_sorted, idxstat_file)\n",
    "        \n",
    "        if run_bamstats:\n",
    "            out_path=alignment_path+f'bamstats_reads_{ALIGN_NAME}_{ALIGN_OPTS_NAME}/'\n",
    "            if not os.path.isfile(out_path):\n",
    "                pathlib.Path(out_path).mkdir(exist_ok=True)\n",
    "            bamstats_file=bam_sorted.split('.bam')[0]+'_bamstats.txt'\n",
    "            run_bamstats(bam_sorted, out_path)\n",
    "        if run_coverage:\n",
    "            cov_file=samtools_coverage(bam_sorted, in_type='.bam')\n",
    "            if output_taxa:\n",
    "                match_taxa(cov_file, REF_PATH+TAXA_TAB_DEL)\n",
    "        if bed_file:\n",
    "            out_path=alignment_path+f'bamdst_{de_novo}_{ALIGN_NAME}_{ALIGN_OPTS_NAME}/'\n",
    "            if not os.path.isdir(out_path):\n",
    "                pathlib.Path(out_path).mkdir(exist_ok=True)\n",
    "            run_bamdst(bed_file, out_path, bam_sorted)\n",
    "            remove_file(out_path+'depth.tsv.gz')\n",
    "            remove_file(out_path+'region.tsv.gz')\n",
    "        "
   ]
  },
  {
   "cell_type": "code",
   "execution_count": 90,
   "id": "3f52e7c6",
   "metadata": {},
   "outputs": [],
   "source": [
    "### General settings"
   ]
  },
  {
   "cell_type": "code",
   "execution_count": 91,
   "id": "77dad3c9",
   "metadata": {},
   "outputs": [],
   "source": [
    "MINIMAP2_PATH='~/apps/minimap2-2.24_x64-linux/'\n",
    "#using conda installed samtools\n",
    "SAMTOOLS_PATH=''\n",
    "GATK_JAR='~/apps/gatk-4.1.9.0/gatk-package-4.1.9.0-local.jar'\n",
    "BAMSTATS_JAR='~/apps/BAMStats-1.25/BAMStats-1.25.jar'\n",
    "BAMDST_PATH='/mnt/1TB_0/Data/Code/external/bamdst/'\n",
    "BBMAP_PATH='~/apps/bbmap/'\n",
    "NUM_THREADS=32"
   ]
  },
  {
   "cell_type": "code",
   "execution_count": 92,
   "id": "9031593c",
   "metadata": {},
   "outputs": [],
   "source": [
    "#https://lh3.github.io/minimap2/minimap2.html#5 -2 for 2 IO threads, use -I30g for long reference files\n",
    "MINIMAP_PARAMS=f'-MD -c -eqx -2 -t {NUM_THREADS} -I30g --sam-hit-only --secondary=no'\n",
    "MINI_OPTS_NAME='secondary_no'"
   ]
  },
  {
   "cell_type": "code",
   "execution_count": 93,
   "id": "9fd9a09e",
   "metadata": {},
   "outputs": [],
   "source": [
    "REF_NAME='YNU_ManJav_2.0.fna'\n",
    "REF_PATH='/mnt/1TB_0/Data/fasta/mammal_genomes/'\n",
    "#TAXA_TAB_DEL=''\n",
    "\n",
    "REF_EXT='.fna'\n",
    "fasta_file=REF_PATH+REF_NAME\n",
    "bed_file=REF_PATH+'bed/'+REF_NAME.split(REF_EXT)[0]+'.bed'\n",
    "ALIGN_NAME=REF_NAME.split(REF_EXT)[0]\n",
    "\n",
    "de_novo='MEGAHIT'\n",
    "CONTIG_MER='final_min_len_300'\n",
    "CONTIGS_NAME=de_novo\n",
    "contigs_base_folder='megahit_default'\n",
    "ALIGN_OPTS_NAME='default'\n",
    "\n",
    "#de_novo='coronaspades'\n",
    "#contig_mer='final'\n",
    "#CONTIGS_NAME=de_novo\n",
    "#coronaspades_name='contigs'\n",
    "#coronaspades_code='coronaspades_default'\n",
    "#contigs_base_folder='coronaspades_default'\n",
    "#ALIGN_OPTS_NAME='default'\n",
    "\n",
    "#de_novo='spades'\n",
    "#contig_mer='final'\n",
    "#CONTIGS_NAME=de_novo\n",
    "#spades_name='contigs'\n",
    "#spades_code='spades_careful'\n",
    "#contigs_base_folder='spades_careful'\n",
    "#ALIGN_OPTS_NAME='careful'\n",
    "\n",
    "PREPROC='fastp'\n",
    "SORT_TOOL='samtools' #or gatk"
   ]
  },
  {
   "cell_type": "code",
   "execution_count": 94,
   "id": "003daa96",
   "metadata": {},
   "outputs": [],
   "source": [
    "#bed_file=prep_bed(create=True)"
   ]
  },
  {
   "cell_type": "code",
   "execution_count": 95,
   "id": "31c648fd",
   "metadata": {},
   "outputs": [],
   "source": [
    "PRJ='PRJNA901878'\n",
    "\n",
    "PRJ_OUT_PATH=f'/mnt/8TB_2/Data/Assembly/{PRJ}/'\n",
    "\n",
    "SRAs=['SRR22936419','SRR22936420','SRR22936421','SRR22936422', \\\n",
    "      'SRR22936541','SRR22936544','SRR22936770','SRR22936773']\n",
    "\n",
    "#workflow(bed_file=None)"
   ]
  },
  {
   "cell_type": "code",
   "execution_count": 96,
   "id": "4106bbc3",
   "metadata": {},
   "outputs": [],
   "source": [
    "REF_NAME='Sscrofa11.1.fna'\n",
    "REF_PATH='/mnt/1TB_0/Data/fasta/mammal_genomes/'\n",
    "#TAXA_TAB_DEL=''\n",
    "\n",
    "REF_EXT='.fna'\n",
    "fasta_file=REF_PATH+REF_NAME\n",
    "bed_file=REF_PATH+'bed/'+REF_NAME.split(REF_EXT)[0]+'.bed'\n",
    "ALIGN_NAME=REF_NAME.split(REF_EXT)[0]"
   ]
  },
  {
   "cell_type": "code",
   "execution_count": 97,
   "id": "e002cf5c",
   "metadata": {},
   "outputs": [],
   "source": [
    "PRJ='PRJNA901878'\n",
    "\n",
    "PRJ_OUT_PATH=f'/mnt/8TB_2/Data/Assembly/{PRJ}/'\n",
    "\n",
    "SRAs=['SRR22936419','SRR22936420','SRR22936421','SRR22936422', \\\n",
    "      'SRR22936541','SRR22936544','SRR22936770','SRR22936773']\n",
    "\n",
    "#workflow(bed_file=None)"
   ]
  },
  {
   "cell_type": "markdown",
   "id": "6e7a1ac3",
   "metadata": {},
   "source": [
    "#### Bamboo rat/Sus scrofa"
   ]
  },
  {
   "cell_type": "code",
   "execution_count": 98,
   "id": "be319a01",
   "metadata": {},
   "outputs": [],
   "source": [
    "REF_NAME='Sscrofa11.1.fna'\n",
    "REF_PATH='/mnt/1TB_0/Data/fasta/mammal_genomes/'\n",
    "#TAXA_TAB_DEL=''\n",
    "\n",
    "REF_EXT='.fna'\n",
    "fasta_file=REF_PATH+REF_NAME\n",
    "bed_file=REF_PATH+'bed/'+REF_NAME.split(REF_EXT)[0]+'.bed'\n",
    "ALIGN_NAME=REF_NAME.split(REF_EXT)[0]"
   ]
  },
  {
   "cell_type": "code",
   "execution_count": 99,
   "id": "38099dd9",
   "metadata": {},
   "outputs": [],
   "source": [
    "#bed_file=prep_bed(create=True)"
   ]
  },
  {
   "cell_type": "code",
   "execution_count": 100,
   "id": "63bfb7a3",
   "metadata": {},
   "outputs": [],
   "source": [
    "PRJ='PRJNA901878'\n",
    "\n",
    "PRJ_OUT_PATH=f'/mnt/8TB_2/Data/Assembly/{PRJ}/'\n",
    "\n",
    "SRAs=['SRR22936497']\n",
    "\n",
    "#workflow(bed_file=None)"
   ]
  },
  {
   "cell_type": "code",
   "execution_count": 101,
   "id": "228811d8",
   "metadata": {},
   "outputs": [],
   "source": [
    "REF_NAME='RhiPru_1.0.fna'\n",
    "REF_PATH='/mnt/1TB_0/Data/fasta/mammal_genomes/'\n",
    "#TAXA_TAB_DEL=''\n",
    "\n",
    "REF_EXT='.fna'\n",
    "fasta_file=REF_PATH+REF_NAME\n",
    "bed_file=REF_PATH+'bed/'+REF_NAME.split(REF_EXT)[0]+'.bed'\n",
    "ALIGN_NAME=REF_NAME.split(REF_EXT)[0]"
   ]
  },
  {
   "cell_type": "code",
   "execution_count": 102,
   "id": "00efff4a",
   "metadata": {},
   "outputs": [],
   "source": [
    "PRJ='PRJNA901878'\n",
    "\n",
    "PRJ_OUT_PATH=f'/mnt/8TB_2/Data/Assembly/{PRJ}/'\n",
    "\n",
    "SRAs=['SRR22936497']\n",
    "\n",
    "#workflow(bed_file=None)"
   ]
  },
  {
   "cell_type": "code",
   "execution_count": 103,
   "id": "8759db64",
   "metadata": {},
   "outputs": [],
   "source": [
    "#### Concatenated"
   ]
  },
  {
   "cell_type": "code",
   "execution_count": 104,
   "id": "f5509652",
   "metadata": {},
   "outputs": [],
   "source": [
    "REF_NAME='rhipru_sus.fna'\n",
    "REF_PATH='/mnt/1TB_0/Data/fasta/mammal_genomes/'\n",
    "#TAXA_TAB_DEL=''\n",
    "\n",
    "REF_EXT='.fna'\n",
    "fasta_file=REF_PATH+REF_NAME\n",
    "bed_file=REF_PATH+'bed/'+REF_NAME.split(REF_EXT)[0]+'.bed'\n",
    "ALIGN_NAME=REF_NAME.split(REF_EXT)[0]"
   ]
  },
  {
   "cell_type": "code",
   "execution_count": 105,
   "id": "b1c94035",
   "metadata": {},
   "outputs": [
    {
     "name": "stdout",
     "output_type": "stream",
     "text": [
      "SRR22936497\n"
     ]
    }
   ],
   "source": [
    "PRJ='PRJNA901878'\n",
    "\n",
    "PRJ_OUT_PATH=f'/mnt/8TB_2/Data/Assembly/{PRJ}/'\n",
    "\n",
    "SRAs=['SRR22936497']\n",
    "\n",
    "workflow(bed_file=None)"
   ]
  },
  {
   "cell_type": "markdown",
   "id": "ebf74193",
   "metadata": {},
   "source": [
    "### PRJCA002517\n",
    "\n",
    "Manis javanica with variable Homo sapiens and Chlorocebus sabaeus content"
   ]
  },
  {
   "cell_type": "code",
   "execution_count": 32,
   "id": "8a3d4a07",
   "metadata": {},
   "outputs": [],
   "source": [
    "REF_NAME='manjav_human_vero.fna'\n",
    "REF_PATH='/mnt/1TB_0/Data/fasta/mammal_genomes/'\n",
    "#TAXA_TAB_DEL=''\n",
    "\n",
    "REF_EXT='.fna'\n",
    "fasta_file=REF_PATH+REF_NAME\n",
    "bed_file=REF_PATH+'bed/'+REF_NAME.split(REF_EXT)[0]+'.bed'\n",
    "ALIGN_NAME=REF_NAME.split(REF_EXT)[0]"
   ]
  },
  {
   "cell_type": "code",
   "execution_count": 33,
   "id": "afb45ed9",
   "metadata": {},
   "outputs": [
    {
     "name": "stdout",
     "output_type": "stream",
     "text": [
      "CRR477154\n",
      "CRR477155\n",
      "CRR477156\n",
      "CRR477157\n"
     ]
    }
   ],
   "source": [
    "PRJ='PRJCA002517'\n",
    "\n",
    "PRJ_OUT_PATH=f'/mnt/8TB_2/Data/Assembly/{PRJ}/'\n",
    "\n",
    "\n",
    "SRAs=['CRR477154','CRR477155','CRR477156','CRR477157']\n",
    "\n",
    "workflow(bed_file=None)"
   ]
  },
  {
   "cell_type": "code",
   "execution_count": null,
   "id": "0e3e7f46",
   "metadata": {},
   "outputs": [],
   "source": []
  }
 ],
 "metadata": {
  "kernelspec": {
   "display_name": "Python 3",
   "language": "python",
   "name": "python3"
  },
  "language_info": {
   "codemirror_mode": {
    "name": "ipython",
    "version": 3
   },
   "file_extension": ".py",
   "mimetype": "text/x-python",
   "name": "python",
   "nbconvert_exporter": "python",
   "pygments_lexer": "ipython3",
   "version": "3.6.15"
  }
 },
 "nbformat": 4,
 "nbformat_minor": 5
}
