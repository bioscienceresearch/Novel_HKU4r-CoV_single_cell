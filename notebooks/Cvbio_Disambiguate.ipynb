{
 "cells": [
  {
   "cell_type": "markdown",
   "id": "9557e034",
   "metadata": {},
   "source": [
    "### cvbio Disambiguate\n",
    "\n",
    "Requires alignment of reads or contigs to genomes (inedpendently) using bwa-mem\n",
    "\n",
    "https://github.com/clintval/cvbio#cvbio"
   ]
  },
  {
   "cell_type": "code",
   "execution_count": 1,
   "id": "5a1f4b28",
   "metadata": {},
   "outputs": [],
   "source": [
    "import os\n",
    "import subprocess"
   ]
  },
  {
   "cell_type": "code",
   "execution_count": 2,
   "id": "75ca7527",
   "metadata": {},
   "outputs": [],
   "source": [
    "BASE_PATH=\"/mnt/8TB_2/Data/Assembly/\"\n",
    "PRJ=\"PRJCA002517\"\n",
    "XMS=\"-Xms20g\"\n",
    "XMX=\"-Xmx260g\"\n",
    "ALIGNER='bwa_mem'\n",
    "\n",
    "PREFIX='_megahit_default_final_min_len_300_'\n",
    "\n",
    "\n",
    "GENOMES=['YNU_ManJav_2.0.fna','Vero_WHO_p1.0.fna', 'GRCh38.p13.fna']\n",
    "POSTFIX='_bwa_mem_gatk_sorted_marked.bam'"
   ]
  },
  {
   "cell_type": "code",
   "execution_count": 3,
   "id": "80236e7b",
   "metadata": {},
   "outputs": [],
   "source": [
    "\n",
    "SRAs=[\"CRR477154\",\"CRR477155\", \"CRR477156\", \"CRR477157\"]"
   ]
  },
  {
   "cell_type": "code",
   "execution_count": 4,
   "id": "4241ffbc",
   "metadata": {},
   "outputs": [],
   "source": [
    "def run_cvbio(input_bams, names, cvbio_path):\n",
    "    cmd=f\"cvbio Disambiguate -i {input_bams} -p {cvbio_path}disambiguated/ -n {names} {XMS} {XMX}\"\n",
    "    try:\n",
    "        subprocess.check_call(cmd, shell=True)\n",
    "    except subprocess.CalledProcessError as e:\n",
    "        raise RuntimeError(\"command '{}' return with error (code {}): {}\".format(e.cmd, e.returncode, e.output))"
   ]
  },
  {
   "cell_type": "code",
   "execution_count": 5,
   "id": "b576a550",
   "metadata": {},
   "outputs": [],
   "source": [
    "def workflow():\n",
    "    for sra in SRAs:\n",
    "        print(sra)\n",
    "        c_path=BASE_PATH+PRJ+f'/{sra}/'\n",
    "        f_path=f'{c_path}{ALIGNER}/'\n",
    "        cvbio_path=c_path+'cvbio_contigs/'\n",
    "        if not os.path.isdir(cvbio_path):\n",
    "            os.makedirs(os.path.dirname(cvbio_path), exist_ok=True)\n",
    "        input_mj=f'{sra}{PREFIX}{GENOMES[0]}{POSTFIX}'\n",
    "        input_v=f'{sra}{PREFIX}{GENOMES[1]}{POSTFIX}'\n",
    "        input_h=f'{sra}{PREFIX}{GENOMES[2]}{POSTFIX}'\n",
    "        input_bams=f_path+input_mj+' '+f_path+input_v+' '+f_path+input_h\n",
    "        names='manjav vero human'\n",
    "        run_cvbio(input_bams, names, cvbio_path)"
   ]
  },
  {
   "cell_type": "code",
   "execution_count": 6,
   "id": "ecf5afac",
   "metadata": {},
   "outputs": [
    {
     "name": "stdout",
     "output_type": "stream",
     "text": [
      "CRR477154\n",
      "CRR477155\n",
      "CRR477156\n",
      "CRR477157\n"
     ]
    }
   ],
   "source": [
    "workflow()"
   ]
  },
  {
   "cell_type": "markdown",
   "id": "8b45ae84",
   "metadata": {},
   "source": [
    "\n"
   ]
  },
  {
   "cell_type": "code",
   "execution_count": null,
   "id": "cd954697",
   "metadata": {},
   "outputs": [],
   "source": []
  }
 ],
 "metadata": {
  "kernelspec": {
   "display_name": "Python 3",
   "language": "python",
   "name": "python3"
  },
  "language_info": {
   "codemirror_mode": {
    "name": "ipython",
    "version": 3
   },
   "file_extension": ".py",
   "mimetype": "text/x-python",
   "name": "python",
   "nbconvert_exporter": "python",
   "pygments_lexer": "ipython3",
   "version": "3.6.15"
  }
 },
 "nbformat": 4,
 "nbformat_minor": 5
}
