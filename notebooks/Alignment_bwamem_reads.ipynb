{
 "cells": [
  {
   "cell_type": "code",
   "execution_count": 1,
   "id": "generic-tsunami",
   "metadata": {},
   "outputs": [],
   "source": [
    "import pathlib\n",
    "import subprocess\n",
    "import os\n",
    "import os.path"
   ]
  },
  {
   "cell_type": "code",
   "execution_count": 2,
   "id": "casual-spring",
   "metadata": {},
   "outputs": [
    {
     "data": {
      "text/html": [
       "<style>.container { width:95% !important; }</style>"
      ],
      "text/plain": [
       "<IPython.core.display.HTML object>"
      ]
     },
     "metadata": {},
     "output_type": "display_data"
    }
   ],
   "source": [
    "from IPython.core.display import display, HTML\n",
    "display(HTML(\"<style>.container { width:95% !important; }</style>\"))"
   ]
  },
  {
   "cell_type": "code",
   "execution_count": 3,
   "id": "identified-thirty",
   "metadata": {},
   "outputs": [],
   "source": [
    "### BWA-MEM"
   ]
  },
  {
   "cell_type": "code",
   "execution_count": 4,
   "id": "internal-relation",
   "metadata": {},
   "outputs": [],
   "source": [
    "def create_index():\n",
    "    cmd = f\"{BWA_MEM} index {REF_PATH+REF_NAME}\"\n",
    "    subprocess.check_call(cmd, shell=True)"
   ]
  },
  {
   "cell_type": "code",
   "execution_count": 5,
   "id": "superior-nevada",
   "metadata": {},
   "outputs": [],
   "source": [
    "def run_fastp(in_1, in_2, sra):\n",
    "    in_b_1=in_1.split(\"_f1_fastp.fq\")[0]+'_1.fq'\n",
    "    in_b_2=in_2.split(\"_r2_fastp.fq\")[0]+'_2.fq'\n",
    "    out_1=in_1\n",
    "    out_2=in_2\n",
    "    qc_file=in_1.split(\"_f1_fastp.fq\")[0]+'_fastp_qc'\n",
    "    cmd = f\"fastp -i {in_b_1} -o {out_1} -I {in_b_2}  -O {out_2} -j {qc_file}.json -h {qc_file}.html -R {sra}\"\n",
    "    subprocess.check_call(cmd, shell=True)\n",
    "    return out_1, out_2"
   ]
  },
  {
   "cell_type": "code",
   "execution_count": 6,
   "id": "artificial-syndication",
   "metadata": {},
   "outputs": [],
   "source": [
    "def create_fq(contigs_path):\n",
    "    try:\n",
    "        cmd= f\"{BBMAP_PATH}reformat.sh in={contigs_path}{contig_mer}.contigs.fa out={contigs_path}{contig_mer}.contigs.fq\"\n",
    "        subprocess.check_call(cmd, shell=True)\n",
    "    except subprocess.CalledProcessError as e:\n",
    "        raise RuntimeError(\"command '{}' return with error (code {}): {}\".format(e.cmd, e.returncode, e.output))"
   ]
  },
  {
   "cell_type": "code",
   "execution_count": 7,
   "id": "portable-continent",
   "metadata": {},
   "outputs": [],
   "source": [
    "def run_bwa(bwa_path, sra, fastq1, fastq2, description=\"\", options=\"\"):\n",
    "    ref=REF_NAME.split('.fa')[0]\n",
    "    out_file= f\"{bwa_path}{sra}_reads_fastp_{ref}{description}_{ALIGNER}.sam\"\n",
    "    try:\n",
    "        cmd = f\"{BWA_MEM} mem {REF_PATH+REF_NAME} {fastq1} {fastq2} {options} > {out_file} -t {NUM_THREADS}\"\n",
    "        subprocess.check_call(cmd, shell=True)\n",
    "    except subprocess.CalledProcessError as e:\n",
    "        raise RuntimeError(\"command '{}' return with error (code {}): {}\".format(e.cmd, e.returncode, e.output))\n",
    "    return out_file"
   ]
  },
  {
   "cell_type": "code",
   "execution_count": 8,
   "id": "covered-ethics",
   "metadata": {},
   "outputs": [],
   "source": [
    "def run_bwa_single(bwa_path, sra, fastq1, description=\"\", options=\"\"):\n",
    "    ref=REF_NAME.split('.fa')[0]\n",
    "    out_file= f\"{bwa_path}{sra}_reads_fastp_{ref}{description}_{ALIGNER}.sam\"\n",
    "    try:\n",
    "        cmd = f\"{BWA_MEM} mem {REF_PATH+REF_NAME} {fastq1} {options} > {out_file} -t {NUM_THREADS}\"\n",
    "        print(cmd)\n",
    "        subprocess.check_call(cmd, shell=True)\n",
    "    except subprocess.CalledProcessError as e:\n",
    "        raise RuntimeError(\"command '{}' return with error (code {}): {}\".format(e.cmd, e.returncode, e.output))\n",
    "    return out_file"
   ]
  },
  {
   "cell_type": "code",
   "execution_count": 9,
   "id": "fitted-function",
   "metadata": {},
   "outputs": [],
   "source": [
    "def gatk_sort(bwa_mem_out):\n",
    "    out_file=bwa_mem_out.split('.sam')[0]\n",
    "    out_file=out_file+'_gatk_sorted.sam'\n",
    "    try:\n",
    "        cmd=f\"java -jar {GATK_JAR}  SortSam INPUT={bwa_mem_out} OUTPUT={out_file} SORT_ORDER=coordinate VALIDATION_STRINGENCY=SILENT TMP_DIR={GATK_TEMP}\"\n",
    "        subprocess.check_call(cmd, shell=True)\n",
    "    except subprocess.CalledProcessError as e:\n",
    "        raise RuntimeError(\"command '{}' return with error (code {}): {}\".format(e.cmd, e.returncode, e.output))\n",
    "    return out_file"
   ]
  },
  {
   "cell_type": "code",
   "execution_count": 10,
   "id": "welcome-catch",
   "metadata": {},
   "outputs": [],
   "source": [
    "def gatk_metrics(gatk_out):\n",
    "    gatk_file=gatk_out.split('.sam')[0]\n",
    "    out_file=gatk_file+'_marked.bam'\n",
    "    metrics_file=gatk_file+'_metrics.txt'\n",
    "    try:\n",
    "        cmd=f\"java -Xmx64G -jar {GATK_JAR}  MarkDuplicates INPUT={gatk_out} OUTPUT={out_file} METRICS_FILE={metrics_file} ASSUME_SORTED=true VALIDATION_STRINGENCY=SILENT TMP_DIR={GATK_TEMP}\"\n",
    "        subprocess.check_call(cmd, shell=True)\n",
    "    except subprocess.CalledProcessError as e:\n",
    "        raise RuntimeError(\"command '{}' return with error (code {}): {}\".format(e.cmd, e.returncode, e.output))\n",
    "    return out_file"
   ]
  },
  {
   "cell_type": "code",
   "execution_count": 11,
   "id": "welsh-development",
   "metadata": {},
   "outputs": [],
   "source": [
    "def index_bam(gatk_bam_file):\n",
    "    try:\n",
    "        cmd=f\"{SAMTOOLS_PATH}samtools index {gatk_bam_file}\"\n",
    "        subprocess.check_call(cmd, shell=True)\n",
    "    except subprocess.CalledProcessError as e:\n",
    "        raise RuntimeError(\"command '{}' return with error (code {}): {}\".format(e.cmd, e.returncode, e.output))"
   ]
  },
  {
   "cell_type": "code",
   "execution_count": 12,
   "id": "printable-scholarship",
   "metadata": {},
   "outputs": [],
   "source": [
    "def remove_file(file_to_del):\n",
    "    cmd = f\"rm {file_to_del}\"\n",
    "    subprocess.check_call(cmd, shell=True)"
   ]
  },
  {
   "cell_type": "code",
   "execution_count": 13,
   "id": "atmospheric-washer",
   "metadata": {},
   "outputs": [],
   "source": [
    "def run_bamstats(bam_file, stats_out):\n",
    "    try:\n",
    "        cmd=f'java -Xmx48g -Djava.awt.headless=true -jar {BAMSTATS_JAR} -i {bam_file} -m -q -o {stats_out}'\n",
    "        subprocess.check_call(cmd, shell=True)\n",
    "    except subprocess.CalledProcessError as e:\n",
    "        print(\"command '{}' return with error (code {}): {}\".format(e.cmd, e.returncode, e.output))"
   ]
  },
  {
   "cell_type": "code",
   "execution_count": 14,
   "id": "ba98e288",
   "metadata": {},
   "outputs": [],
   "source": [
    "def run_bamdst(bed_file, out_path, bam_in):\n",
    "    try:\n",
    "        cmd=f'{BAMDST_PATH}bamdst -p {bed_file} -o {out_path} {bam_in}'\n",
    "        subprocess.check_call(cmd, shell=True)\n",
    "    except subprocess.CalledProcessError as e:\n",
    "        print(\"command '{}' return with error (code {}): {}\".format(e.cmd, e.returncode, e.output))"
   ]
  },
  {
   "cell_type": "code",
   "execution_count": 15,
   "id": "contrary-kentucky",
   "metadata": {},
   "outputs": [],
   "source": [
    "def create_bed(fasta_file, bed_file):\n",
    "    cmd=f'faidx --transform bed {fasta_file} > {bed_file}'\n",
    "    subprocess.check_call(cmd, shell=True)"
   ]
  },
  {
   "cell_type": "code",
   "execution_count": 16,
   "id": "16c453f1",
   "metadata": {},
   "outputs": [],
   "source": [
    "def run_idxstats(gatk_bam_file, flagstat_file):\n",
    "    cmd=f\"{SAMTOOLS_PATH}samtools idxstats {gatk_bam_file} >{flagstat_file}\"\n",
    "    try: \n",
    "        subprocess.check_call(cmd, shell=True)\n",
    "    except subprocess.CalledProcessError as e:\n",
    "        print(\"command '{}' return with error (code {}): {}\".format(e.cmd, e.returncode, e.output))"
   ]
  },
  {
   "cell_type": "code",
   "execution_count": 17,
   "id": "1d30e553",
   "metadata": {},
   "outputs": [],
   "source": [
    "def bam_to_bed(gatk_bam_file):\n",
    "    bed_file=gatk_bam_file.split('.bam')[0]+'.bed'\n",
    "    cmd=f'{BEDTOOLS_PATH}bedtools bamtobed -i {gatk_bam_file} >{bed_file}'\n",
    "    subprocess.check_call(cmd, shell=True)"
   ]
  },
  {
   "cell_type": "code",
   "execution_count": 18,
   "id": "c56272f5",
   "metadata": {},
   "outputs": [],
   "source": [
    "def run_flagtools(gatk_bam_file):\n",
    "    bam_path_root=gatk_bam_file.split('.bam')[0]\n",
    "    flagstat_file=bam_path_root+'_flagtools.txt'\n",
    "    cmd=f'{SAMTOOLS_PATH}samtools flagstat {gatk_bam_file} >{flagstat_file}'\n",
    "    subprocess.check_call(cmd, shell=True)"
   ]
  },
  {
   "cell_type": "code",
   "execution_count": 19,
   "id": "8f2c72e5",
   "metadata": {},
   "outputs": [],
   "source": [
    "def run_samtools_stats(gatk_bam_file, ref_genome):\n",
    "    bam_path_root=gatk_bam_file.split('.bam')[0]\n",
    "    sam_out=bam_path_root+'_samtools_stats.txt'\n",
    "    cmd=f'{SAMTOOLS_PATH}samtools stats {gatk_bam_file} --reference {ref_genome} >{sam_out}'\n",
    "    subprocess.check_call(cmd, shell=True)"
   ]
  },
  {
   "cell_type": "code",
   "execution_count": 20,
   "id": "logical-desperate",
   "metadata": {},
   "outputs": [],
   "source": [
    "def prep_bed(create=False):\n",
    "    fasta_file=REF_PATH+REF_NAME\n",
    "    bed_file=REF_PATH+'bed/'+REF_NAME.split('.fa')[0]+'.bed'\n",
    "    pathlib.Path(REF_PATH+'bed/').mkdir(exist_ok=True)\n",
    "    if create:\n",
    "        create_bed(fasta_file, bed_file)\n",
    "    return bed_file"
   ]
  },
  {
   "cell_type": "code",
   "execution_count": 21,
   "id": "a5857be4",
   "metadata": {},
   "outputs": [],
   "source": [
    "def bam_to_fastq():\n",
    "    ref=REF_NAME.split('.fa')[0]\n",
    "    for idx, sra in enumerate(SRAs):\n",
    "        bwa_path=PRJ_OUT_PATH+sra+'/bowtie2/'\n",
    "        #SRR10168373_reads_mitochondria_mamals_1_local_G_298_0_bowtie2_gatk_sorted_marked.bam\n",
    "        bam_file= f\"{bwa_path}{sra}_reads_{ref}_{ALIGN_OPTS_NAME}_{ALIGNER}_gatk_sorted_marked.bam\"\n",
    "        fastq_file= f\"{bwa_path}{sra}_reads_{ref}_{ALIGN_OPTS_NAME}_{ALIGNER}_gatk_sorted_marked_bedtools.fq\"\n",
    "        print(fastq_file)\n",
    "        cmd=f'~/apps/bedtools/bedtools bamtofastq -i {bam_file} -fq {fastq_file}'\n",
    "        subprocess.check_call(cmd, shell=True)"
   ]
  },
  {
   "cell_type": "code",
   "execution_count": 22,
   "id": "482f6da2",
   "metadata": {},
   "outputs": [],
   "source": [
    "def align_idx_bamdst(idxstat_file, bamdst_report):\n",
    "    f_idx = open(idxstat_file, mode='r')\n",
    "    idx_lines = f_idx.readlines()\n",
    "    f_idx.close()\n",
    "    f_bamdst = open(bamdst_report, mode='r')\n",
    "    bamdst_lines = f_bamdst.readlines()\n",
    "    f_bamdst.close()\n",
    "    fixed_lines=[]\n",
    "    for count, b_line in enumerate(bamdst_lines):\n",
    "        b_words = b_line.split('\\t')\n",
    "        if count==0:\n",
    "            b_words[0]='Accession'\n",
    "            b_words.insert(1,'ref_length')\n",
    "            b_words.insert(2,'N')\n",
    "            new_line='\\t'.join(b_words)\n",
    "            fixed_lines.append(new_line)\n",
    "        else:\n",
    "            if float(b_words[1])>0.0 or float(b_words[4])>0.0:\n",
    "                for i_line in idx_lines:\n",
    "                    i_words = i_line.split('\\t')\n",
    "                    if b_words[0].strip() == i_words[0].strip():\n",
    "                        b_words.insert(1,i_words[1])\n",
    "                        b_words.insert(2,i_words[2])\n",
    "                if UNIVEC_ALIGNED:\n",
    "                    b_words[0]=b_words[0].replace('gnl_pipe_uv_pipe_','')\n",
    "                    b_words[0]=b_words[0].replace('_colon_',':')\n",
    "                new_line='\\t'.join(b_words)\n",
    "                fixed_lines.append(new_line)\n",
    "    new_report=bamdst_report.split('.txt')[0]+'_N.txt'\n",
    "    f = open(new_report, \"w\")\n",
    "    f.writelines(fixed_lines)\n",
    "    f.close()\n",
    "    return new_report"
   ]
  },
  {
   "cell_type": "code",
   "execution_count": 23,
   "id": "moral-victor",
   "metadata": {},
   "outputs": [],
   "source": [
    "def workflow(bed_file=None, sra_dir=False):\n",
    "    for idx, sra in enumerate(SRAs):\n",
    "        fastq1=FASTQ_FILES[2*idx]\n",
    "        fastq2=FASTQ_FILES[(2*idx)+1]\n",
    "        print(f'{sra}')\n",
    "        if not os.path.isfile(PRJ_OUT_PATH):\n",
    "            pathlib.Path(PRJ_OUT_PATH).mkdir(exist_ok=True)\n",
    "        bwa_path=PRJ_OUT_PATH+sra\n",
    "        if not os.path.isfile(bwa_path):\n",
    "            pathlib.Path(bwa_path).mkdir(exist_ok=True)\n",
    "        bwa_path=PRJ_OUT_PATH+sra+f'/{ALIGNER}/'\n",
    "        if not os.path.isfile(bwa_path):\n",
    "            pathlib.Path(bwa_path).mkdir(exist_ok=True)\n",
    "        if sra_dir:\n",
    "            f1path=BASE_PATH+sra+'/'+fastq1\n",
    "            f2path=BASE_PATH+sra+'/'+fastq2\n",
    "        else:\n",
    "            f1path=BASE_PATH+fastq1\n",
    "            f2path=BASE_PATH+fastq2\n",
    "        if not os.path.isfile(f1path):\n",
    "            if RUN_FASTP:\n",
    "                run_fastp(f1path, f2path, sra) \n",
    "            else:\n",
    "                print(f'check file exists: {f1path}')\n",
    "                raise Exception\n",
    "        bwa_mem_out=run_bwa(bwa_path, sra, f1path, f2path, description=DESCRIPTION, options=OPTIONS)\n",
    "        try:\n",
    "            gatk_out=gatk_sort(bwa_mem_out)\n",
    "            gatk_bam_file=gatk_metrics(gatk_out)\n",
    "            index_bam(gatk_bam_file)\n",
    "            remove_file(bwa_mem_out)\n",
    "            remove_file(gatk_out)\n",
    "\n",
    "            out_path=bwa_path+f'bamstats_{ALIGN_NAME}/'\n",
    "            if not os.path.isfile(out_path):\n",
    "                pathlib.Path(out_path).mkdir(exist_ok=True)\n",
    "            stats_out=out_path+sra+BAMSTATS_POST\n",
    "            run_bamstats(gatk_bam_file, stats_out)\n",
    "            if bed_file:\n",
    "                out_path=bwa_path+f'bamdst_{ALIGN_NAME}/'\n",
    "                if not os.path.isfile(out_path):\n",
    "                    pathlib.Path(out_path).mkdir(exist_ok=True)\n",
    "                run_bamdst(bed_file, out_path, gatk_bam_file)\n",
    "        except Exception as e:\n",
    "            print(e)"
   ]
  },
  {
   "cell_type": "code",
   "execution_count": 24,
   "id": "roman-toddler",
   "metadata": {},
   "outputs": [],
   "source": [
    "def workflow_single(bed_file=None):\n",
    "    for idx, sra in enumerate(SRAsingle):\n",
    "        fastq1=FASTQ_FILES_SINGLE[idx]\n",
    "        print(f'{sra}')\n",
    "        if not os.path.isfile(PRJ_OUT_PATH):\n",
    "            pathlib.Path(PRJ_OUT_PATH).mkdir(exist_ok=True)\n",
    "        bwa_path=PRJ_OUT_PATH+sra\n",
    "        if not os.path.isfile(bwa_path):\n",
    "            pathlib.Path(bwa_path).mkdir(exist_ok=True)\n",
    "        bwa_path=PRJ_OUT_PATH+sra+f'/{ALIGNER}/'\n",
    "        if not os.path.isfile(bwa_path):\n",
    "            pathlib.Path(bwa_path).mkdir(exist_ok=True)\n",
    "        #f1path=BASE_PATH+sra+'/'+fastq1\n",
    "        f1path=BASE_PATH+fastq1\n",
    "        if not os.path.isfile(f1path):\n",
    "            print(f'error no file: {f1path}')\n",
    "            #run_fastp(f1path, f2path, sra) \n",
    "        bwa_mem_out=run_bwa_single(bwa_path, sra, f1path, description=DESCRIPTION, options=OPTIONS)\n",
    "        gatk_out=gatk_sort(bwa_mem_out)\n",
    "        gatk_bam_file=gatk_metrics(gatk_out)\n",
    "        index_bam(gatk_bam_file)\n",
    "        remove_file(bwa_mem_out)\n",
    "        remove_file(gatk_out)\n",
    "        \n",
    "        run_samtools_stats(gatk_bam_file, REF_PATH+REF_NAME)\n",
    "        run_flagtools(gatk_bam_file)\n",
    "        #bam_to_bed(gatk_bam_file)\n",
    "        idxstat_file=gatk_bam_file.split(f'{BAM_POSTFIX}.bam')[0]+'idxstats.txt'\n",
    "        run_idxstats(gatk_bam_file, idxstat_file)\n",
    "        \n",
    "        out_path=bwa_path+f'bamstats_reads_{ALIGN_NAME}_{ALIGN_OPTS_NAME}/'\n",
    "        if not os.path.isfile(out_path):\n",
    "            pathlib.Path(out_path).mkdir(exist_ok=True)\n",
    "        stats_out=out_path+sra+BAMSTATS_POST\n",
    "        run_bamstats(gatk_bam_file, stats_out)\n",
    "        if bed_file:\n",
    "            out_path=bwa_path+f'bamdst_reads_{ALIGN_NAME}_{ALIGN_OPTS_NAME}/'\n",
    "            if not os.path.isfile(out_path):\n",
    "                pathlib.Path(out_path).mkdir(exist_ok=True)\n",
    "            run_bamdst(bed_file, out_path, gatk_bam_file)\n",
    "            bamdst_data=out_path+'chromosomes.report'\n",
    "            aligned_file=align_idx_bamdst(idxstat_file, bamdst_data)"
   ]
  },
  {
   "cell_type": "code",
   "execution_count": 25,
   "id": "stock-cruise",
   "metadata": {},
   "outputs": [],
   "source": [
    "BWA_MEM=\"~/apps/bwa-0.7.17/bwa\"\n",
    "BBMAP_PATH='~/apps/bbmap/'\n",
    "GATK_JAR='~/apps/gatk-4.1.9.0/gatk-package-4.1.9.0-local.jar'\n",
    "SAMTOOLS_PATH=''\n",
    "BAMSTATS_JAR='~/apps/BAMStats-1.25/BAMStats-1.25.jar'\n",
    "BAMDST_PATH='/mnt/1TB_0/Data/Code/external/bamdst/'\n",
    "BEDTOOLS_PATH='~/apps/bedtools/'\n",
    "GATK_TEMP='/mnt/1TB_0/temp/gatk'"
   ]
  },
  {
   "cell_type": "code",
   "execution_count": 26,
   "id": "a401530f",
   "metadata": {},
   "outputs": [],
   "source": [
    "PRJ='PRJCA002517'\n",
    "PRJ_OUT_PATH=f'/mnt/8TB_2/Data/Assembly/{PRJ}/'\n",
    "BASE_PATH=f'/mnt/8TB_2/Data/bigd/{PRJ}/'\n",
    "\n",
    "REF_NAME='YNU_ManJav_2.0.fna'\n",
    "REF_PATH='/mnt/1TB_0/Data/Code/code/PRJNA901878/'\n",
    "ALIGN_NAME=REF_NAME.split('.fna')[0]\n",
    "\n",
    "NUM_THREADS=32\n",
    "DESCRIPTION='_default'\n",
    "OPTIONS=\"\"\n",
    "ALIGN_OPTS_NAME='default'\n",
    "\n",
    "RUN_FASTP=False\n",
    "\n",
    "BAMSTATS_POST=f'_{ALIGN_NAME}_bamstats.txt'\n",
    "BAM_POSTFIX='gatk_sorted_marked'\n",
    "UNIVEC_ALIGNED=False\n",
    "ALIGNER='bwamem'"
   ]
  },
  {
   "cell_type": "code",
   "execution_count": 27,
   "id": "a90d3346",
   "metadata": {},
   "outputs": [],
   "source": [
    "\n",
    "SRAs=['CRR477154','CRR477155','CRR477156','CRR477157']\n",
    "\n",
    "FASTQ_FILES=[]\n",
    "for f in SRAs:\n",
    "    FASTQ_FILES.append(f+'_f1_fastp.fq')\n",
    "    FASTQ_FILES.append(f+'_r2_fastp.fq')"
   ]
  },
  {
   "cell_type": "code",
   "execution_count": 28,
   "id": "aa83e2ec",
   "metadata": {},
   "outputs": [],
   "source": [
    "#SRAsingle=['SRR11093270','SRR11093271']\n",
    "#SRAsingle=['journal_ppat_1009664_s002']\n",
    "\n",
    "#FASTQ_FILES_SINGLE=[]\n",
    "#for f in SRAsingle:\n",
    "#    FASTQ_FILES_SINGLE.append(f+'.fq')\n",
    "#FASTQ_FILES_SINGLE=['GD-P2S_NDX550382_RUO.fq', 'GD-P2S_NB501248AR.fq']\n",
    "#FASTQ_FILES_SINGLE=['GD-P2S.fq']"
   ]
  },
  {
   "cell_type": "code",
   "execution_count": 29,
   "id": "46962e41",
   "metadata": {},
   "outputs": [],
   "source": [
    "#assert len(FASTQ_FILES)==2*len(SRAs)\n",
    "create_index()"
   ]
  },
  {
   "cell_type": "code",
   "execution_count": 30,
   "id": "premier-placement",
   "metadata": {
    "scrolled": true
   },
   "outputs": [
    {
     "name": "stdout",
     "output_type": "stream",
     "text": [
      "CRR477154\n",
      "CRR477155\n",
      "CRR477156\n",
      "CRR477157\n"
     ]
    }
   ],
   "source": [
    "\n",
    "#bed_file=prep_bed(create=True)\n",
    "workflow()"
   ]
  },
  {
   "cell_type": "code",
   "execution_count": 31,
   "id": "043aa3c1",
   "metadata": {},
   "outputs": [],
   "source": [
    "PRJ='PRJCA002517'\n",
    "PRJ_OUT_PATH=f'/mnt/8TB_2/Data/Assembly/{PRJ}/'\n",
    "BASE_PATH=f'/mnt/8TB_2/Data/bigd/{PRJ}/'\n",
    "\n",
    "REF_NAME='Vero_WHO_p1.0.fna'\n",
    "REF_PATH='/mnt/1TB_0/Data/Code/code/PRJNA901878/'\n",
    "ALIGN_NAME=REF_NAME.split('.fna')[0]\n",
    "\n",
    "NUM_THREADS=32\n",
    "DESCRIPTION='_default'\n",
    "OPTIONS=\"\"\n",
    "ALIGN_OPTS_NAME='default'\n",
    "\n",
    "RUN_FASTP=False\n",
    "\n",
    "BAMSTATS_POST=f'_{ALIGN_NAME}_bamstats.txt'\n",
    "BAM_POSTFIX='gatk_sorted_marked'\n",
    "UNIVEC_ALIGNED=False\n",
    "ALIGNER='bwamem'"
   ]
  },
  {
   "cell_type": "code",
   "execution_count": 32,
   "id": "57faa440",
   "metadata": {},
   "outputs": [
    {
     "name": "stdout",
     "output_type": "stream",
     "text": [
      "CRR477154\n",
      "CRR477155\n",
      "CRR477156\n",
      "CRR477157\n"
     ]
    }
   ],
   "source": [
    "create_index()\n",
    "#bed_file=prep_bed(create=True)\n",
    "workflow()"
   ]
  },
  {
   "cell_type": "code",
   "execution_count": 33,
   "id": "2604c599",
   "metadata": {},
   "outputs": [],
   "source": [
    "PRJ='PRJCA002517'\n",
    "PRJ_OUT_PATH=f'/mnt/8TB_2/Data/Assembly/{PRJ}/'\n",
    "BASE_PATH=f'/mnt/8TB_2/Data/bigd/{PRJ}/'\n",
    "\n",
    "REF_NAME='GRCh38.p13.fna'\n",
    "REF_PATH='/mnt/1TB_0/Data/Code/code/PRJNA901878/'\n",
    "ALIGN_NAME=REF_NAME.split('.fna')[0]\n",
    "\n",
    "NUM_THREADS=32\n",
    "DESCRIPTION='_default'\n",
    "OPTIONS=\"\"\n",
    "ALIGN_OPTS_NAME='default'\n",
    "\n",
    "RUN_FASTP=False\n",
    "\n",
    "BAMSTATS_POST=f'_{ALIGN_NAME}_bamstats.txt'\n",
    "BAM_POSTFIX='gatk_sorted_marked'\n",
    "UNIVEC_ALIGNED=False\n",
    "ALIGNER='bwamem'"
   ]
  },
  {
   "cell_type": "code",
   "execution_count": 34,
   "id": "bb012125",
   "metadata": {},
   "outputs": [
    {
     "name": "stdout",
     "output_type": "stream",
     "text": [
      "CRR477154\n",
      "CRR477155\n",
      "CRR477156\n",
      "CRR477157\n"
     ]
    }
   ],
   "source": [
    "create_index()\n",
    "#bed_file=prep_bed(create=True)\n",
    "workflow()"
   ]
  },
  {
   "cell_type": "code",
   "execution_count": null,
   "id": "featured-adobe",
   "metadata": {},
   "outputs": [],
   "source": []
  },
  {
   "cell_type": "code",
   "execution_count": null,
   "id": "saved-bracket",
   "metadata": {},
   "outputs": [],
   "source": []
  }
 ],
 "metadata": {
  "kernelspec": {
   "display_name": "Python 3",
   "language": "python",
   "name": "python3"
  },
  "language_info": {
   "codemirror_mode": {
    "name": "ipython",
    "version": 3
   },
   "file_extension": ".py",
   "mimetype": "text/x-python",
   "name": "python",
   "nbconvert_exporter": "python",
   "pygments_lexer": "ipython3",
   "version": "3.6.15"
  }
 },
 "nbformat": 4,
 "nbformat_minor": 5
}
