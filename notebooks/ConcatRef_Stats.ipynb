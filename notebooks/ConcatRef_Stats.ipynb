{
 "cells": [
  {
   "cell_type": "code",
   "execution_count": 1,
   "id": "thorough-merchandise",
   "metadata": {},
   "outputs": [
    {
     "data": {
      "text/plain": [
       "'blastasm'"
      ]
     },
     "execution_count": 1,
     "metadata": {},
     "output_type": "execute_result"
    }
   ],
   "source": [
    "import re\n",
    "import numpy as np\n",
    "import time\n",
    "import os.path\n",
    "import sys\n",
    "import pandas as pd\n",
    "from matplotlib import pyplot as plt\n",
    "import seaborn as sns\n",
    "from io import StringIO\n",
    "from Bio import SeqIO\n",
    "import pysam\n",
    "from pandas.plotting import scatter_matrix\n",
    "import warnings\n",
    "import json\n",
    "import numpy as np\n",
    "import subprocess\n",
    "warnings.filterwarnings('ignore')\n",
    "sys.executable.split('/')[-3]"
   ]
  },
  {
   "cell_type": "code",
   "execution_count": 2,
   "id": "caring-insider",
   "metadata": {},
   "outputs": [
    {
     "data": {
      "text/html": [
       "<style>.container { width:95% !important; }</style>"
      ],
      "text/plain": [
       "<IPython.core.display.HTML object>"
      ]
     },
     "metadata": {},
     "output_type": "display_data"
    }
   ],
   "source": [
    "from IPython.core.display import display, HTML\n",
    "display(HTML(\"<style>.container { width:95% !important; }</style>\"))"
   ]
  },
  {
   "cell_type": "code",
   "execution_count": 3,
   "id": "703acca7",
   "metadata": {},
   "outputs": [],
   "source": [
    "def get_fasta_ids(sra_file):\n",
    "    idlist=[]\n",
    "    for record in SeqIO.parse(sra_file, \"fasta\"):\n",
    "        idlist.append(record.id)\n",
    "    return idlist"
   ]
  },
  {
   "cell_type": "code",
   "execution_count": 4,
   "id": "0185bbbb",
   "metadata": {},
   "outputs": [],
   "source": [
    "def read_bam(in_path, bam_file):\n",
    "    if bam_file.endswith('.bam'):\n",
    "        samfile = pysam.AlignmentFile(in_path+bam_file, \"rb\")\n",
    "    elif bam_file.endswith('.sam'):\n",
    "        samfile = pysam.AlignmentFile(in_path+bam_file, \"r\")\n",
    "    stats=samfile.get_index_statistics()\n",
    "    #print(stats)\n",
    "    return samfile"
   ]
  },
  {
   "cell_type": "code",
   "execution_count": 5,
   "id": "d13fccdb",
   "metadata": {},
   "outputs": [],
   "source": [
    "def write_df(data_type, stats, aln_presequence, aln_params, align_1, align_2):\n",
    "    df=pd.DataFrame(stats).T\n",
    "    df=pd.DataFrame(stats)\n",
    "    df.columns=[align_1,align_2, align_2+'_not_'+align_1, align_1+'_not_'+align_2,'common_ids']\n",
    "    #df2=pd.DataFrame([SRAs, [align_1]*len(SRAs), [align_2]*len(SRAs)]).T\n",
    "    #df2.columns=['SRA','aln_1','aln_2']\n",
    "    #df = pd.concat([df2, df1], axis=1, join='inner')\n",
    "    df.insert(0, 'SRA', SRAs)\n",
    "    df.to_csv(f'{BASE_PATH}/general_plots/{data_type}{aln_presequence}_{aln_params}_{align_1}_and_{align_2}_simplified.csv')"
   ]
  },
  {
   "cell_type": "markdown",
   "id": "1ade898b",
   "metadata": {},
   "source": [
    "# ConcatRef\n",
    "\n",
    "\n",
    "Each SRA of raw reads and SRA of de novo contigs aligned to reference 'ConcatRef'\n",
    "\n",
    "Best alignment wins"
   ]
  },
  {
   "cell_type": "code",
   "execution_count": 6,
   "id": "44f9957c",
   "metadata": {},
   "outputs": [],
   "source": [
    "def run_flagtools(bam_file, stats_file):\n",
    "    cmd=f\"{SAMTOOLS_PATH}samtools flagstat {bam_file} > {stats_file}\"\n",
    "    try:\n",
    "        subprocess.check_call(cmd, shell=True)\n",
    "    except subprocess.CalledProcessError as e:\n",
    "        raise RuntimeError(\"command '{}' return with error (code {}): {}\".format(e.cmd, e.returncode, e.output))"
   ]
  },
  {
   "cell_type": "code",
   "execution_count": 7,
   "id": "8736b9a9",
   "metadata": {},
   "outputs": [],
   "source": [
    "def write_sam(input_path, input_file, chr_list, out_file, out_type):\n",
    "    #w for sam, wb for bam\n",
    "    if input_file.endswith('.bam'):\n",
    "        sam = pysam.AlignmentFile(input_path+input_file, 'rb')\n",
    "    elif input_file.endswith('.sam'):\n",
    "        sam = pysam.AlignmentFile(input_path+input_file, 'r')\n",
    "    else:\n",
    "        raise ValueError('Unknown file type')\n",
    "    if out_type=='sam':\n",
    "        bin_code='w'\n",
    "    else:\n",
    "        bin_code='wb'\n",
    "    with pysam.AlignmentFile(input_path+out_file, bin_code, header=sam.header) as outf:\n",
    "        if sam is not None:\n",
    "            for record in sam:\n",
    "                if record.reference_name in chr_list:\n",
    "                    outf.write(record)"
   ]
  },
  {
   "cell_type": "code",
   "execution_count": 8,
   "id": "1fcecce2",
   "metadata": {},
   "outputs": [],
   "source": [
    "def concatat_ref_split(aln_presequence, concat_ref, aln_postfix, ref_ids, split_ref_name, out_postfix, in_type='bam', out_type='bam'):\n",
    "    for sra in SRAs:\n",
    "        bam_path=BASE_PATH+sra+'/'+ASSEMBLY+'/'   \n",
    "        bam_f=f'{sra}_{aln_presequence}_{concat_ref}_{aln_postfix}.{in_type}'\n",
    "        out_sam=f'{sra}_{aln_presequence}_{concat_ref}_{out_postfix}_ConcatRef_split_{split_ref_name}.{out_type}'\n",
    "        write_sam(bam_path, bam_f, ref_ids, out_sam, out_type)\n",
    "        stats_file=out_sam.split('.'+out_type)[0]+'_flagstats.txt'\n",
    "        run_flagtools(bam_path+out_sam, stats_file)"
   ]
  },
  {
   "cell_type": "code",
   "execution_count": 14,
   "id": "hollow-chase",
   "metadata": {},
   "outputs": [],
   "source": [
    "PRJ='PRJNA901878'\n",
    "BASE_PATH = f'/mnt/8TB_2/Data/Assembly/{PRJ}/'\n",
    "\n",
    "REF_BASE_PATH='/mnt/1TB_0/Data/fasta/mammal_genomes/'\n",
    "\n",
    "REFERENCE_MJ='GCF_014570535.1_YNU_ManJav_2.0_genomic.fna'\n",
    "REFERENCE_S='GCF_000003025.6_Sscrofa11.1_genomic.fna'\n",
    "REFERENCE_RP='GCA_009823505.1_RhiPru_1.0_genomic.fna'\n",
    "REFERENCE_H='GCF_000001405.39_GRCh38.p13_genomic.fna'\n",
    "REFRENCE_V='GCF_015252025.1_Vero_WHO_p1.0_genomic.fna'\n",
    "\n",
    "#_x_sr_secondary_no_sus_vero_mj_hu_minimap2\n",
    "ASSEMBLY='minimap2'\n",
    "BAM_MIDFIX='_sus_manjav_'\n",
    "BAM_POSTFIX='_minimap2_sorted.sam'\n",
    "\n",
    "SAMTOOLS_PATH=''"
   ]
  },
  {
   "cell_type": "code",
   "execution_count": 45,
   "id": "fa1236c9",
   "metadata": {},
   "outputs": [],
   "source": [
    "SRAs=['SRR22936419','SRR22936420','SRR22936421','SRR22936422',\\\n",
    "      'SRR22936541','SRR22936544','SRR22936770','SRR22936773']"
   ]
  },
  {
   "cell_type": "code",
   "execution_count": 46,
   "id": "582c0757",
   "metadata": {},
   "outputs": [],
   "source": [
    "#ALN_TYPE='reads'\n",
    "#ALN_PRESEQ='x_sr_secondary_no'\n",
    "#CONCAT_REF='sus_mj'\n",
    "#ALN_POSTFIX='minimap2_sorted'\n",
    "#OUT_POSTFIX=ALN_TYPE+'_default_sr_minimap2'\n",
    "\n",
    "ALN_TYPE='contigs'\n",
    "aln_presequence='fastp_MEGAHIT_final_min_len_300'\n",
    "concat_ref='mj_sus'\n",
    "aln_postfix='default_secondary_no_minimap2_sorted'\n",
    "out_postfix=ALN_TYPE+'_min_len_300_default_sr_minimap2'"
   ]
  },
  {
   "cell_type": "code",
   "execution_count": 47,
   "id": "a941c013",
   "metadata": {},
   "outputs": [],
   "source": [
    "ref_ids=get_fasta_ids(REF_BASE_PATH+REFERENCE_S)\n",
    "split_ref_name='sus'"
   ]
  },
  {
   "cell_type": "code",
   "execution_count": 48,
   "id": "a7011390",
   "metadata": {},
   "outputs": [],
   "source": [
    "stats_s=concatat_ref_split(aln_presequence, concat_ref, aln_postfix, ref_ids, split_ref_name, out_postfix, in_type='bam', out_type='bam')"
   ]
  },
  {
   "cell_type": "code",
   "execution_count": 49,
   "id": "141d17f1",
   "metadata": {},
   "outputs": [],
   "source": [
    "ref_ids=get_fasta_ids(REF_BASE_PATH+REFERENCE_MJ)\n",
    "split_ref_name='mj'\n",
    "stats_mj=concatat_ref_split(aln_presequence, concat_ref, aln_postfix, ref_ids, split_ref_name, out_postfix, in_type='bam', out_type='bam')"
   ]
  },
  {
   "cell_type": "code",
   "execution_count": null,
   "id": "8cfa68bc",
   "metadata": {},
   "outputs": [],
   "source": []
  },
  {
   "cell_type": "code",
   "execution_count": 15,
   "id": "1edf78c1",
   "metadata": {},
   "outputs": [],
   "source": [
    "cmd=f\"bash /mnt/4TB_1/Data/Assembly/PRJNA901878/scripts/sam_proc_mj_reads.sh\"\n",
    "try:\n",
    "    subprocess.check_call(cmd, shell=True)\n",
    "except subprocess.CalledProcessError as e:\n",
    "    raise RuntimeError(\"command '{}' return with error (code {}): {}\".format(e.cmd, e.returncode, e.output))"
   ]
  },
  {
   "cell_type": "code",
   "execution_count": 16,
   "id": "43a2c4fc",
   "metadata": {},
   "outputs": [],
   "source": [
    "cmd=f\"bash /mnt/4TB_1/Data/Assembly/PRJNA901878/scripts/sam_proc.sh\"\n",
    "try:\n",
    "    subprocess.check_call(cmd, shell=True)\n",
    "except subprocess.CalledProcessError as e:\n",
    "    raise RuntimeError(\"command '{}' return with error (code {}): {}\".format(e.cmd, e.returncode, e.output))"
   ]
  },
  {
   "cell_type": "markdown",
   "id": "ff984c22",
   "metadata": {},
   "source": [
    "### bamboo rat"
   ]
  },
  {
   "cell_type": "code",
   "execution_count": 15,
   "id": "a0b5b7f2",
   "metadata": {},
   "outputs": [],
   "source": [
    "#_x_sr_secondary_no_sus_vero_mj_hu_minimap2\n",
    "ASSEMBLY='minimap2'\n",
    "BAM_MIDFIX='_rhipru_sus_'\n",
    "BAM_POSTFIX='_minimap2_sorted.sam'\n",
    "aln_presequence='fastp_MEGAHIT_final_min_len_300'\n",
    "concat_ref='rhipru_sus'\n",
    "aln_postfix='default_secondary_no_minimap2_sorted'\n",
    "out_postfix='MEGAHIT_min_len_300_default_sr_minimap2'"
   ]
  },
  {
   "cell_type": "code",
   "execution_count": 16,
   "id": "a6733d5f",
   "metadata": {},
   "outputs": [],
   "source": [
    "SRAs=['SRR22936497']"
   ]
  },
  {
   "cell_type": "code",
   "execution_count": 17,
   "id": "be778566",
   "metadata": {},
   "outputs": [],
   "source": [
    "ref_ids=get_fasta_ids(REF_BASE_PATH+REFERENCE_RP)\n",
    "split_ref_name='rhipru'\n",
    "stats_rp=concatat_ref_split(aln_presequence, concat_ref, aln_postfix, ref_ids, split_ref_name, out_postfix, in_type='bam', out_type='bam')"
   ]
  },
  {
   "cell_type": "code",
   "execution_count": 18,
   "id": "b7fca870",
   "metadata": {},
   "outputs": [],
   "source": [
    "ref_ids=get_fasta_ids(REF_BASE_PATH+REFERENCE_S)\n",
    "split_ref_name='sus'\n",
    "stats_s=concatat_ref_split(aln_presequence, concat_ref, aln_postfix, ref_ids, split_ref_name, out_postfix, in_type='bam', out_type='bam')"
   ]
  },
  {
   "cell_type": "code",
   "execution_count": null,
   "id": "3764e9e6",
   "metadata": {},
   "outputs": [],
   "source": []
  }
 ],
 "metadata": {
  "kernelspec": {
   "display_name": "Python 3",
   "language": "python",
   "name": "python3"
  },
  "language_info": {
   "codemirror_mode": {
    "name": "ipython",
    "version": 3
   },
   "file_extension": ".py",
   "mimetype": "text/x-python",
   "name": "python",
   "nbconvert_exporter": "python",
   "pygments_lexer": "ipython3",
   "version": "3.6.15"
  }
 },
 "nbformat": 4,
 "nbformat_minor": 5
}
