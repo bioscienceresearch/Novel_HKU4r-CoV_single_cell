{
 "cells": [
  {
   "cell_type": "markdown",
   "id": "1ade898b",
   "metadata": {},
   "source": [
    "## Plots of genome alignment using 3 mthods\n",
    "\n",
    "Plots after seperate alignment using \n",
    "\n",
    "* Seal: Simulataneous kmer matching to human, Malayan pangolin and African green monkey genomes using Seal\n",
    "\n",
    "* ConcatRef: Alignment to concatenated human, Malayan pangolin and African green monkey genomes using minimap2. Best alignment statistics calculated using \n",
    "\n",
    "* Disambiguate: bwa-mem to human, Malayan pangolin and African green monkey genomes, then best mapping caculated using cvbio Disambiguate\n",
    "\n",
    "Plots for both read and contig (300-nt minimum length) alignments\n"
   ]
  },
  {
   "cell_type": "code",
   "execution_count": 1,
   "id": "thorough-merchandise",
   "metadata": {},
   "outputs": [],
   "source": [
    "import re\n",
    "import numpy as np\n",
    "import time\n",
    "import os.path\n",
    "import sys\n",
    "import pandas as pd\n",
    "from matplotlib import pyplot as plt\n",
    "import matplotlib.lines as mlines\n",
    "import seaborn as sns\n",
    "from io import StringIO\n",
    "from Bio import SeqIO\n",
    "import pysam\n",
    "from pandas.plotting import scatter_matrix\n",
    "import warnings\n",
    "import json\n",
    "import numpy as np\n",
    "import subprocess\n",
    "warnings.filterwarnings('ignore')\n"
   ]
  },
  {
   "cell_type": "code",
   "execution_count": 2,
   "id": "caring-insider",
   "metadata": {},
   "outputs": [
    {
     "data": {
      "text/html": [
       "<style>.container { width:95% !important; }</style>"
      ],
      "text/plain": [
       "<IPython.core.display.HTML object>"
      ]
     },
     "metadata": {},
     "output_type": "display_data"
    }
   ],
   "source": [
    "from IPython.core.display import display, HTML\n",
    "display(HTML(\"<style>.container { width:95% !important; }</style>\"))"
   ]
  },
  {
   "cell_type": "code",
   "execution_count": 6,
   "id": "85c110e2",
   "metadata": {},
   "outputs": [],
   "source": [
    "BASE_PATH='/mnt/8TB_2/Data/Assembly/PRJCA002517/'"
   ]
  },
  {
   "cell_type": "code",
   "execution_count": 7,
   "id": "8403342b",
   "metadata": {},
   "outputs": [],
   "source": [
    "tripple_df=pd.read_csv(f'{BASE_PATH}/general_plots/3_methods_human_vero_manjav_no_ambig_bwamem_stats_df.csv')"
   ]
  },
  {
   "cell_type": "code",
   "execution_count": 8,
   "id": "71aa6dd9",
   "metadata": {},
   "outputs": [
    {
     "data": {
      "text/html": [
       "<div>\n",
       "<style scoped>\n",
       "    .dataframe tbody tr th:only-of-type {\n",
       "        vertical-align: middle;\n",
       "    }\n",
       "\n",
       "    .dataframe tbody tr th {\n",
       "        vertical-align: top;\n",
       "    }\n",
       "\n",
       "    .dataframe thead th {\n",
       "        text-align: right;\n",
       "    }\n",
       "</style>\n",
       "<table border=\"1\" class=\"dataframe\">\n",
       "  <thead>\n",
       "    <tr style=\"text-align: right;\">\n",
       "      <th></th>\n",
       "      <th>SRA</th>\n",
       "      <th>Sample</th>\n",
       "      <th>M.javanica %</th>\n",
       "      <th>H.sapiens %</th>\n",
       "      <th>C.sabaeus %</th>\n",
       "      <th>Method</th>\n",
       "    </tr>\n",
       "  </thead>\n",
       "  <tbody>\n",
       "    <tr>\n",
       "      <th>0</th>\n",
       "      <td>CRR477154</td>\n",
       "      <td>A96</td>\n",
       "      <td>87.077931</td>\n",
       "      <td>7.398182</td>\n",
       "      <td>5.523888</td>\n",
       "      <td>Disambiguate</td>\n",
       "    </tr>\n",
       "    <tr>\n",
       "      <th>1</th>\n",
       "      <td>CRR477155</td>\n",
       "      <td>A97</td>\n",
       "      <td>64.216343</td>\n",
       "      <td>19.715196</td>\n",
       "      <td>16.068461</td>\n",
       "      <td>Disambiguate</td>\n",
       "    </tr>\n",
       "    <tr>\n",
       "      <th>2</th>\n",
       "      <td>CRR477156</td>\n",
       "      <td>A98</td>\n",
       "      <td>96.307039</td>\n",
       "      <td>2.104971</td>\n",
       "      <td>1.587990</td>\n",
       "      <td>Disambiguate</td>\n",
       "    </tr>\n",
       "    <tr>\n",
       "      <th>3</th>\n",
       "      <td>CRR477157</td>\n",
       "      <td>A100</td>\n",
       "      <td>33.999105</td>\n",
       "      <td>35.179072</td>\n",
       "      <td>30.821823</td>\n",
       "      <td>Disambiguate</td>\n",
       "    </tr>\n",
       "    <tr>\n",
       "      <th>4</th>\n",
       "      <td>CRR477154</td>\n",
       "      <td>A96</td>\n",
       "      <td>98.668426</td>\n",
       "      <td>0.039169</td>\n",
       "      <td>1.292405</td>\n",
       "      <td>ConcatRef</td>\n",
       "    </tr>\n",
       "  </tbody>\n",
       "</table>\n",
       "</div>"
      ],
      "text/plain": [
       "         SRA Sample  M.javanica %  H.sapiens %  C.sabaeus %        Method\n",
       "0  CRR477154    A96     87.077931     7.398182     5.523888  Disambiguate\n",
       "1  CRR477155    A97     64.216343    19.715196    16.068461  Disambiguate\n",
       "2  CRR477156    A98     96.307039     2.104971     1.587990  Disambiguate\n",
       "3  CRR477157   A100     33.999105    35.179072    30.821823  Disambiguate\n",
       "4  CRR477154    A96     98.668426     0.039169     1.292405     ConcatRef"
      ]
     },
     "execution_count": 8,
     "metadata": {},
     "output_type": "execute_result"
    }
   ],
   "source": [
    "tripple_df.head()"
   ]
  },
  {
   "cell_type": "code",
   "execution_count": 9,
   "id": "07474d13",
   "metadata": {},
   "outputs": [],
   "source": [
    "m_concat=tripple_df.loc[tripple_df['Method'] == 'ConcatRef']\n",
    "m_seal=tripple_df.loc[tripple_df['Method'] == 'Seal']\n",
    "m_Disambiguate=tripple_df.loc[tripple_df['Method'] == 'Disambiguate']"
   ]
  },
  {
   "cell_type": "code",
   "execution_count": 10,
   "id": "4d0e4176",
   "metadata": {},
   "outputs": [],
   "source": [
    "MARKER_SIZE=10\n",
    "MARKER_ALPHA=0.6"
   ]
  },
  {
   "cell_type": "code",
   "execution_count": 11,
   "id": "b0f7d9de",
   "metadata": {},
   "outputs": [
    {
     "data": {
      "image/png": "[encoded data removed]",
      "text/plain": [
       "<Figure size 864x432 with 3 Axes>"
      ]
     },
     "metadata": {
      "needs_background": "light"
     },
     "output_type": "display_data"
    }
   ],
   "source": [
    "f, (ax1, ax2, ax3) = plt.subplots(1, 3, figsize=(12,6))\n",
    "\n",
    "sns.set_palette(\"RdBu\")\n",
    "sns.set_style(\"whitegrid\")\n",
    "\n",
    "sns.boxplot(data=tripple_df, x='Sample', y='M.javanica %', ax=ax1)\n",
    "chart=sns.stripplot(data=m_concat, x='Sample', y='M.javanica %', color=\"k\", alpha=MARKER_ALPHA, ax=ax1, s=MARKER_SIZE)\n",
    "chart=sns.stripplot(data=m_seal, x='Sample', y='M.javanica %', color=\"k\", alpha=MARKER_ALPHA, marker=\"^\", ax=ax1, s=MARKER_SIZE)\n",
    "chart=sns.stripplot(data=m_Disambiguate, x='Sample', y='M.javanica %', color=\"k\", alpha=MARKER_ALPHA, marker=\"X\", ax=ax1, s=MARKER_SIZE)\n",
    "chart.set_xlabel('Sample', fontdict={'size': 14})\n",
    "chart.set_ylabel('M.javanica %', fontdict={'size': 14})\n",
    "labels1=ax1.get_xticklabels()\n",
    "ax1.set_xticklabels(labels1, rotation=90, fontsize=12)\n",
    "#ax1.set_yscale('log')\n",
    "\n",
    "sns.boxplot(data=tripple_df, x='Sample', y='H.sapiens %', ax=ax2)\n",
    "chart=sns.stripplot(data=m_concat, x='Sample', y='H.sapiens %', color=\"k\", alpha=MARKER_ALPHA, ax=ax2, s=MARKER_SIZE)\n",
    "chart=sns.stripplot(data=m_seal, x='Sample', y='H.sapiens %', color=\"k\", alpha=MARKER_ALPHA, marker=\"^\", ax=ax2, s=MARKER_SIZE)\n",
    "chart=sns.stripplot(data=m_Disambiguate, x='Sample', y='H.sapiens %', color=\"k\", alpha=MARKER_ALPHA, marker=\"X\", ax=ax2, s=MARKER_SIZE)\n",
    "chart.set_xlabel('Sample', fontdict={'size': 14})\n",
    "chart.set_ylabel('H.sapiens %', fontdict={'size': 14})\n",
    "labels2=ax2.get_xticklabels()\n",
    "ax2.set_xticklabels(labels2, rotation=90, fontsize=12)\n",
    "\n",
    "sns.boxplot(data=tripple_df, x='Sample', y='C.sabaeus %', ax=ax3)\n",
    "chart=sns.stripplot(data=m_concat, x='Sample', y='C.sabaeus %', color=\"k\", alpha=MARKER_ALPHA, ax=ax3, s=MARKER_SIZE)\n",
    "chart=sns.stripplot(data=m_seal, x='Sample', y='C.sabaeus %', color=\"k\", alpha=MARKER_ALPHA, marker=\"^\", ax=ax3, s=MARKER_SIZE)\n",
    "chart=sns.stripplot(data=m_Disambiguate, x='Sample', y='C.sabaeus %', color=\"k\", alpha=MARKER_ALPHA, marker=\"X\", ax=ax3, s=MARKER_SIZE)\n",
    "chart.set_xlabel('Sample', fontdict={'size': 14})\n",
    "chart.set_ylabel('C.sabaeus %', fontdict={'size': 14})\n",
    "labels3=ax3.get_xticklabels()\n",
    "ax3.set_xticklabels(labels3, rotation=90, fontsize=12)\n",
    "\n",
    "\n",
    "plt_labels=['ConcatRef', 'Seal', 'Disambiguate']\n",
    "handles, labels = ax3.get_legend_handles_labels()\n",
    "dot = mlines.Line2D([], [], color='k', marker='.',\n",
    "                          markersize=15, label='ConcatRef', alpha=MARKER_ALPHA, linewidth=0.001)\n",
    "tri = mlines.Line2D([], [], color='k', marker='^',\n",
    "                          markersize=10, label='Seal', alpha=MARKER_ALPHA, linewidth=0.001)\n",
    "cross = mlines.Line2D([], [], color='k', marker='X',\n",
    "                          markersize=10, label='Disambiguate', alpha=MARKER_ALPHA, linewidth=0.001)\n",
    "ax3.legend(handles=[dot, tri, cross], loc=(1.05, 0.8), fontsize=14)\n",
    "\n",
    "\n",
    "#plt.legend()\n",
    "plt.tight_layout()\n",
    "plt.savefig(BASE_PATH+'/general_plots/3_method_host_box_combined_v2.png', dpi=300)\n",
    "plt.show()"
   ]
  },
  {
   "cell_type": "markdown",
   "id": "a9b59c84",
   "metadata": {},
   "source": [
    "## Contigs"
   ]
  },
  {
   "cell_type": "code",
   "execution_count": 12,
   "id": "3bc6e783",
   "metadata": {},
   "outputs": [],
   "source": [
    "contigs_df=pd.read_csv(f'{BASE_PATH}/general_plots/3_methods_human_vero_manjav_no_ambig_bwamem_contig_stats_df.csv')"
   ]
  },
  {
   "cell_type": "code",
   "execution_count": 13,
   "id": "eac24738",
   "metadata": {},
   "outputs": [],
   "source": [
    "tripple_df=None"
   ]
  },
  {
   "cell_type": "code",
   "execution_count": 15,
   "id": "5f93d8d3",
   "metadata": {},
   "outputs": [],
   "source": [
    "m_concat=contigs_df.loc[contigs_df['Method'] == 'ConcatRef']\n",
    "m_seal=contigs_df.loc[contigs_df['Method'] == 'Seal']\n",
    "m_Disambiguate=contigs_df.loc[contigs_df['Method'] == 'Disambiguate']"
   ]
  },
  {
   "cell_type": "code",
   "execution_count": 16,
   "id": "4640a4a6",
   "metadata": {},
   "outputs": [],
   "source": [
    "MARKER_SIZE=10\n",
    "MARKER_ALPHA=0.6"
   ]
  },
  {
   "cell_type": "code",
   "execution_count": 17,
   "id": "58656fbd",
   "metadata": {},
   "outputs": [
    {
     "data": {
      "image/png": "[encoded data removed]",
      "text/plain": [
       "<Figure size 864x432 with 3 Axes>"
      ]
     },
     "metadata": {},
     "output_type": "display_data"
    }
   ],
   "source": [
    "f, (ax1, ax2, ax3) = plt.subplots(1, 3, figsize=(12,6))\n",
    "\n",
    "sns.set_palette(\"RdBu\")\n",
    "sns.set_style(\"whitegrid\")\n",
    "\n",
    "sns.boxplot(data=contigs_df, x='Sample', y='M.javanica %', ax=ax1)\n",
    "chart=sns.stripplot(data=m_concat, x='Sample', y='M.javanica %', color=\"k\", alpha=MARKER_ALPHA, ax=ax1, s=MARKER_SIZE)\n",
    "chart=sns.stripplot(data=m_seal, x='Sample', y='M.javanica %', color=\"k\", alpha=MARKER_ALPHA, marker=\"^\", ax=ax1, s=MARKER_SIZE)\n",
    "chart=sns.stripplot(data=m_Disambiguate, x='Sample', y='M.javanica %', color=\"k\", alpha=MARKER_ALPHA, marker=\"X\", ax=ax1, s=MARKER_SIZE)\n",
    "chart.set_xlabel('Sample', fontdict={'size': 14})\n",
    "chart.set_ylabel('M.javanica %', fontdict={'size': 14})\n",
    "labels1=ax1.get_xticklabels()\n",
    "ax1.set_xticklabels(labels1, rotation=90, fontsize=12)\n",
    "#ax1.set_yscale('log')\n",
    "\n",
    "sns.boxplot(data=contigs_df, x='Sample', y='H.sapiens %', ax=ax2)\n",
    "chart=sns.stripplot(data=m_concat, x='Sample', y='H.sapiens %', color=\"k\", alpha=MARKER_ALPHA, ax=ax2, s=MARKER_SIZE)\n",
    "chart=sns.stripplot(data=m_seal, x='Sample', y='H.sapiens %', color=\"k\", alpha=MARKER_ALPHA, marker=\"^\", ax=ax2, s=MARKER_SIZE)\n",
    "chart=sns.stripplot(data=m_Disambiguate, x='Sample', y='H.sapiens %', color=\"k\", alpha=MARKER_ALPHA, marker=\"X\", ax=ax2, s=MARKER_SIZE)\n",
    "chart.set_xlabel('Sample', fontdict={'size': 14})\n",
    "chart.set_ylabel('H.sapiens %', fontdict={'size': 14})\n",
    "labels2=ax2.get_xticklabels()\n",
    "ax2.set_xticklabels(labels2, rotation=90, fontsize=12)\n",
    "\n",
    "sns.boxplot(data=contigs_df, x='Sample', y='C.sabaeus %', ax=ax3)\n",
    "chart=sns.stripplot(data=m_concat, x='Sample', y='C.sabaeus %', color=\"k\", alpha=MARKER_ALPHA, ax=ax3, s=MARKER_SIZE)\n",
    "chart=sns.stripplot(data=m_seal, x='Sample', y='C.sabaeus %', color=\"k\", alpha=MARKER_ALPHA, marker=\"^\", ax=ax3, s=MARKER_SIZE)\n",
    "chart=sns.stripplot(data=m_Disambiguate, x='Sample', y='C.sabaeus %', color=\"k\", alpha=MARKER_ALPHA, marker=\"X\", ax=ax3, s=MARKER_SIZE)\n",
    "chart.set_xlabel('Sample', fontdict={'size': 14})\n",
    "chart.set_ylabel('C.sabaeus %', fontdict={'size': 14})\n",
    "labels3=ax3.get_xticklabels()\n",
    "ax3.set_xticklabels(labels3, rotation=90, fontsize=12)\n",
    "\n",
    "\n",
    "plt_labels=['ConcatRef', 'Seal', 'Disambiguate']\n",
    "handles, labels = ax3.get_legend_handles_labels()\n",
    "dot = mlines.Line2D([], [], color='k', marker='.',\n",
    "                          markersize=15, label='ConcatRef', alpha=MARKER_ALPHA, linewidth=0.001)\n",
    "tri = mlines.Line2D([], [], color='k', marker='^',\n",
    "                          markersize=10, label='Seal', alpha=MARKER_ALPHA, linewidth=0.001)\n",
    "cross = mlines.Line2D([], [], color='k', marker='X',\n",
    "                          markersize=10, label='Disambiguate', alpha=MARKER_ALPHA, linewidth=0.001)\n",
    "ax3.legend(handles=[dot, tri, cross], loc=(1.05, 0.8), fontsize=14)\n",
    "\n",
    "\n",
    "#plt.legend()\n",
    "plt.tight_layout()\n",
    "plt.savefig(BASE_PATH+'/general_plots/3_method_contigs_host_box_combined.png', dpi=300)\n",
    "plt.show()"
   ]
  },
  {
   "cell_type": "code",
   "execution_count": null,
   "id": "e2895d7c",
   "metadata": {},
   "outputs": [],
   "source": []
  }
 ],
 "metadata": {
  "kernelspec": {
   "display_name": "Python 3",
   "language": "python",
   "name": "python3"
  },
  "language_info": {
   "codemirror_mode": {
    "name": "ipython",
    "version": 3
   },
   "file_extension": ".py",
   "mimetype": "text/x-python",
   "name": "python",
   "nbconvert_exporter": "python",
   "pygments_lexer": "ipython3",
   "version": "3.6.15"
  }
 },
 "nbformat": 4,
 "nbformat_minor": 5
}
