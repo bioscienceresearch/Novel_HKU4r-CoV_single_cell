{
 "cells": [
  {
   "cell_type": "code",
   "execution_count": 47,
   "id": "lesbian-moral",
   "metadata": {},
   "outputs": [],
   "source": [
    "import pathlib\n",
    "import pylab as plt\n",
    "\n",
    "#from matplotlib import pyplot as plt\n",
    "import numpy as np\n",
    "from numpy import unique\n",
    "from numpy import where\n",
    "import pandas as pd\n",
    "import matplotlib\n",
    "import seaborn as sns\n",
    "import sys\n",
    "import warnings\n",
    "warnings.filterwarnings('ignore')"
   ]
  },
  {
   "cell_type": "code",
   "execution_count": 48,
   "id": "initial-audit",
   "metadata": {},
   "outputs": [],
   "source": [
    "sns.set_style('white')"
   ]
  },
  {
   "cell_type": "code",
   "execution_count": 49,
   "id": "scenic-preparation",
   "metadata": {},
   "outputs": [],
   "source": [
    "PRJ='PRJCA002517'\n",
    "BASE_PATH='/mnt/8TB_2/Data/Assembly/'\n",
    "ASSEMBLER='minimap2'\n",
    "DATA_PATH=f'{BASE_PATH}{PRJ}/'\n",
    "PLOT_PATH=DATA_PATH+'general_plots/'\n",
    "PLOT_EXT='_x_sr_secondary_no_ncbi_mt_20220505_minimap2_gatk_sorted_marked_coverage.out_taxa.csv'\n",
    "\n",
    "ITERATION=0\n",
    "PARAMS='sr'\n",
    "ABS_MIN_COV=10\n",
    "FILTER_CUT=50\n",
    "#PARAMS='default'"
   ]
  },
  {
   "cell_type": "code",
   "execution_count": 50,
   "id": "97b4af89",
   "metadata": {},
   "outputs": [],
   "source": [
    "SRAs=['CRR477154','CRR477155','CRR477156','CRR477157']"
   ]
  },
  {
   "cell_type": "code",
   "execution_count": 51,
   "id": "210a1204",
   "metadata": {},
   "outputs": [],
   "source": [
    "sample_names=['A96','A97','A98','A100']"
   ]
  },
  {
   "cell_type": "code",
   "execution_count": 52,
   "id": "7862d821",
   "metadata": {},
   "outputs": [
    {
     "data": {
      "text/plain": [
       "(58, 14)"
      ]
     },
     "execution_count": 52,
     "metadata": {},
     "output_type": "execute_result"
    }
   ],
   "source": [
    "def get_alignments(truncate_at_min=True):\n",
    "    frames=[]\n",
    "    for sra in SRAs:\n",
    "        df=pd.read_csv(BASE_PATH+PRJ+'/'+sra+'/'+ASSEMBLER+'/'+sra+PLOT_EXT)\n",
    "        df = df.sort_values(by=['coverage'], ascending=False)\n",
    "        if truncate_at_min:\n",
    "            df = df[df['coverage'] >= ABS_MIN_COV] \n",
    "        df.insert(0, 'SRA', sra)\n",
    "        idx=SRAs.index(sra)\n",
    "        sample_name=sample_names[idx]\n",
    "        df['sample_name']=[sample_name]*len(df)\n",
    "        df=df.drop(['Unnamed: 0'], axis=1)\n",
    "        total_mt_count = df['numreads'].sum()\n",
    "        df['total_mt_reads'] = total_mt_count\n",
    "        df['frac_mt'] = df['numreads'].div(total_mt_count).round(4)\n",
    "        df = df.drop_duplicates(subset='taxa', keep=\"first\")\n",
    "        frames.append(df)\n",
    "    df_all=pd.concat(frames, ignore_index=True)\n",
    "    return df_all\n",
    "\n",
    "df_all=get_alignments()\n",
    "df_all.shape"
   ]
  },
  {
   "cell_type": "code",
   "execution_count": 53,
   "id": "e230d842",
   "metadata": {},
   "outputs": [
    {
     "data": {
      "text/html": [
       "<div>\n",
       "<style scoped>\n",
       "    .dataframe tbody tr th:only-of-type {\n",
       "        vertical-align: middle;\n",
       "    }\n",
       "\n",
       "    .dataframe tbody tr th {\n",
       "        vertical-align: top;\n",
       "    }\n",
       "\n",
       "    .dataframe thead th {\n",
       "        text-align: right;\n",
       "    }\n",
       "</style>\n",
       "<table border=\"1\" class=\"dataframe\">\n",
       "  <thead>\n",
       "    <tr style=\"text-align: right;\">\n",
       "      <th></th>\n",
       "      <th>SRA</th>\n",
       "      <th>#rname</th>\n",
       "      <th>startpos</th>\n",
       "      <th>endpos</th>\n",
       "      <th>numreads</th>\n",
       "      <th>covbases</th>\n",
       "      <th>coverage</th>\n",
       "      <th>meandepth</th>\n",
       "      <th>meanbaseq</th>\n",
       "      <th>meanmapq</th>\n",
       "      <th>taxa</th>\n",
       "      <th>sample_name</th>\n",
       "      <th>total_mt_reads</th>\n",
       "      <th>frac_mt</th>\n",
       "    </tr>\n",
       "  </thead>\n",
       "  <tbody>\n",
       "    <tr>\n",
       "      <th>0</th>\n",
       "      <td>CRR477154</td>\n",
       "      <td>NC_036434.1</td>\n",
       "      <td>1</td>\n",
       "      <td>16577</td>\n",
       "      <td>73162</td>\n",
       "      <td>16548</td>\n",
       "      <td>99.8251</td>\n",
       "      <td>602.246000</td>\n",
       "      <td>36.4</td>\n",
       "      <td>18.50</td>\n",
       "      <td>Manis culionensis</td>\n",
       "      <td>A96</td>\n",
       "      <td>259819</td>\n",
       "      <td>0.2816</td>\n",
       "    </tr>\n",
       "    <tr>\n",
       "      <th>1</th>\n",
       "      <td>CRR477154</td>\n",
       "      <td>NC_026781.1</td>\n",
       "      <td>1</td>\n",
       "      <td>16576</td>\n",
       "      <td>106322</td>\n",
       "      <td>16508</td>\n",
       "      <td>99.5898</td>\n",
       "      <td>891.228000</td>\n",
       "      <td>36.4</td>\n",
       "      <td>8.05</td>\n",
       "      <td>Manis javanica</td>\n",
       "      <td>A96</td>\n",
       "      <td>259819</td>\n",
       "      <td>0.4092</td>\n",
       "    </tr>\n",
       "    <tr>\n",
       "      <th>2</th>\n",
       "      <td>CRR477154</td>\n",
       "      <td>NC_016008.1</td>\n",
       "      <td>1</td>\n",
       "      <td>16578</td>\n",
       "      <td>74732</td>\n",
       "      <td>16283</td>\n",
       "      <td>98.2205</td>\n",
       "      <td>619.651000</td>\n",
       "      <td>36.3</td>\n",
       "      <td>4.66</td>\n",
       "      <td>Manis pentadactyla</td>\n",
       "      <td>A96</td>\n",
       "      <td>259819</td>\n",
       "      <td>0.2876</td>\n",
       "    </tr>\n",
       "    <tr>\n",
       "      <th>3</th>\n",
       "      <td>CRR477154</td>\n",
       "      <td>NC_036433.1</td>\n",
       "      <td>1</td>\n",
       "      <td>16576</td>\n",
       "      <td>2487</td>\n",
       "      <td>14967</td>\n",
       "      <td>90.2932</td>\n",
       "      <td>17.514100</td>\n",
       "      <td>36.1</td>\n",
       "      <td>14.20</td>\n",
       "      <td>Manis crassicaudata</td>\n",
       "      <td>A96</td>\n",
       "      <td>259819</td>\n",
       "      <td>0.0096</td>\n",
       "    </tr>\n",
       "    <tr>\n",
       "      <th>4</th>\n",
       "      <td>CRR477154</td>\n",
       "      <td>NC_036064.1</td>\n",
       "      <td>1</td>\n",
       "      <td>16540</td>\n",
       "      <td>117</td>\n",
       "      <td>2943</td>\n",
       "      <td>17.7932</td>\n",
       "      <td>0.686518</td>\n",
       "      <td>35.6</td>\n",
       "      <td>6.38</td>\n",
       "      <td>Manis gigantea</td>\n",
       "      <td>A96</td>\n",
       "      <td>259819</td>\n",
       "      <td>0.0005</td>\n",
       "    </tr>\n",
       "  </tbody>\n",
       "</table>\n",
       "</div>"
      ],
      "text/plain": [
       "         SRA       #rname  startpos  endpos  numreads  covbases  coverage  \\\n",
       "0  CRR477154  NC_036434.1         1   16577     73162     16548   99.8251   \n",
       "1  CRR477154  NC_026781.1         1   16576    106322     16508   99.5898   \n",
       "2  CRR477154  NC_016008.1         1   16578     74732     16283   98.2205   \n",
       "3  CRR477154  NC_036433.1         1   16576      2487     14967   90.2932   \n",
       "4  CRR477154  NC_036064.1         1   16540       117      2943   17.7932   \n",
       "\n",
       "    meandepth  meanbaseq  meanmapq                 taxa sample_name  \\\n",
       "0  602.246000       36.4     18.50    Manis culionensis         A96   \n",
       "1  891.228000       36.4      8.05       Manis javanica         A96   \n",
       "2  619.651000       36.3      4.66   Manis pentadactyla         A96   \n",
       "3   17.514100       36.1     14.20  Manis crassicaudata         A96   \n",
       "4    0.686518       35.6      6.38       Manis gigantea         A96   \n",
       "\n",
       "   total_mt_reads  frac_mt  \n",
       "0          259819   0.2816  \n",
       "1          259819   0.4092  \n",
       "2          259819   0.2876  \n",
       "3          259819   0.0096  \n",
       "4          259819   0.0005  "
      ]
     },
     "execution_count": 53,
     "metadata": {},
     "output_type": "execute_result"
    }
   ],
   "source": [
    "df_all.head()"
   ]
  },
  {
   "cell_type": "code",
   "execution_count": 54,
   "id": "b6f1e34f",
   "metadata": {},
   "outputs": [],
   "source": [
    "### filter to => n%\n",
    "df_cut = df_all.loc[df_all['coverage'] >=FILTER_CUT]"
   ]
  },
  {
   "cell_type": "code",
   "execution_count": 55,
   "id": "f551382b",
   "metadata": {},
   "outputs": [
    {
     "name": "stdout",
     "output_type": "stream",
     "text": [
      "666843\n"
     ]
    }
   ],
   "source": [
    "total_mt_count = df_cut['numreads'].sum()\n",
    "print(total_mt_count)\n",
    "df_cut['total_cut_mt_reads'] = total_mt_count\n",
    "df_cut['cut_frac_mt'] = df_cut['numreads'].div(total_mt_count).round(4)"
   ]
  },
  {
   "cell_type": "code",
   "execution_count": 56,
   "id": "9ecae846",
   "metadata": {},
   "outputs": [],
   "source": [
    "df_pivot=df_cut.pivot_table(index='sample_name', columns='taxa', values='coverage')"
   ]
  },
  {
   "cell_type": "code",
   "execution_count": 58,
   "id": "daf29d87",
   "metadata": {},
   "outputs": [],
   "source": [
    "df_pivot=df_pivot.reindex(['A96','A97','A98','A100'])"
   ]
  },
  {
   "cell_type": "code",
   "execution_count": 59,
   "id": "60997009",
   "metadata": {},
   "outputs": [
    {
     "data": {
      "text/html": [
       "<div>\n",
       "<style scoped>\n",
       "    .dataframe tbody tr th:only-of-type {\n",
       "        vertical-align: middle;\n",
       "    }\n",
       "\n",
       "    .dataframe tbody tr th {\n",
       "        vertical-align: top;\n",
       "    }\n",
       "\n",
       "    .dataframe thead th {\n",
       "        text-align: right;\n",
       "    }\n",
       "</style>\n",
       "<table border=\"1\" class=\"dataframe\">\n",
       "  <thead>\n",
       "    <tr style=\"text-align: right;\">\n",
       "      <th>taxa</th>\n",
       "      <th>Chlorocebus sabaeus</th>\n",
       "      <th>Homo heidelbergensis</th>\n",
       "      <th>Homo sapiens</th>\n",
       "      <th>Homo sp.</th>\n",
       "      <th>Manis crassicaudata</th>\n",
       "      <th>Manis culionensis</th>\n",
       "      <th>Manis javanica</th>\n",
       "      <th>Manis pentadactyla</th>\n",
       "      <th>Neophocaena asiaeorientalis</th>\n",
       "      <th>Neophocaena phocaenoides</th>\n",
       "    </tr>\n",
       "    <tr>\n",
       "      <th>sample_name</th>\n",
       "      <th></th>\n",
       "      <th></th>\n",
       "      <th></th>\n",
       "      <th></th>\n",
       "      <th></th>\n",
       "      <th></th>\n",
       "      <th></th>\n",
       "      <th></th>\n",
       "      <th></th>\n",
       "      <th></th>\n",
       "    </tr>\n",
       "  </thead>\n",
       "  <tbody>\n",
       "    <tr>\n",
       "      <th>A96</th>\n",
       "      <td>NaN</td>\n",
       "      <td>NaN</td>\n",
       "      <td>NaN</td>\n",
       "      <td>NaN</td>\n",
       "      <td>90.2932</td>\n",
       "      <td>99.8251</td>\n",
       "      <td>99.5898</td>\n",
       "      <td>98.2205</td>\n",
       "      <td>NaN</td>\n",
       "      <td>NaN</td>\n",
       "    </tr>\n",
       "    <tr>\n",
       "      <th>A97</th>\n",
       "      <td>96.7251</td>\n",
       "      <td>NaN</td>\n",
       "      <td>100.0</td>\n",
       "      <td>NaN</td>\n",
       "      <td>73.3470</td>\n",
       "      <td>98.4798</td>\n",
       "      <td>99.3967</td>\n",
       "      <td>98.4377</td>\n",
       "      <td>65.9017</td>\n",
       "      <td>64.0220</td>\n",
       "    </tr>\n",
       "    <tr>\n",
       "      <th>A98</th>\n",
       "      <td>97.4260</td>\n",
       "      <td>NaN</td>\n",
       "      <td>100.0</td>\n",
       "      <td>NaN</td>\n",
       "      <td>90.4621</td>\n",
       "      <td>98.8297</td>\n",
       "      <td>98.9020</td>\n",
       "      <td>99.0107</td>\n",
       "      <td>69.3561</td>\n",
       "      <td>64.8886</td>\n",
       "    </tr>\n",
       "    <tr>\n",
       "      <th>A100</th>\n",
       "      <td>97.2689</td>\n",
       "      <td>63.5804</td>\n",
       "      <td>100.0</td>\n",
       "      <td>60.5914</td>\n",
       "      <td>NaN</td>\n",
       "      <td>NaN</td>\n",
       "      <td>98.9744</td>\n",
       "      <td>96.9478</td>\n",
       "      <td>60.2746</td>\n",
       "      <td>54.2142</td>\n",
       "    </tr>\n",
       "  </tbody>\n",
       "</table>\n",
       "</div>"
      ],
      "text/plain": [
       "taxa         Chlorocebus sabaeus  Homo heidelbergensis  Homo sapiens  \\\n",
       "sample_name                                                            \n",
       "A96                          NaN                   NaN           NaN   \n",
       "A97                      96.7251                   NaN         100.0   \n",
       "A98                      97.4260                   NaN         100.0   \n",
       "A100                     97.2689               63.5804         100.0   \n",
       "\n",
       "taxa         Homo sp.  Manis crassicaudata  Manis culionensis  Manis javanica  \\\n",
       "sample_name                                                                     \n",
       "A96               NaN              90.2932            99.8251         99.5898   \n",
       "A97               NaN              73.3470            98.4798         99.3967   \n",
       "A98               NaN              90.4621            98.8297         98.9020   \n",
       "A100          60.5914                  NaN                NaN         98.9744   \n",
       "\n",
       "taxa         Manis pentadactyla  Neophocaena asiaeorientalis  \\\n",
       "sample_name                                                    \n",
       "A96                     98.2205                          NaN   \n",
       "A97                     98.4377                      65.9017   \n",
       "A98                     99.0107                      69.3561   \n",
       "A100                    96.9478                      60.2746   \n",
       "\n",
       "taxa         Neophocaena phocaenoides  \n",
       "sample_name                            \n",
       "A96                               NaN  \n",
       "A97                           64.0220  \n",
       "A98                           64.8886  \n",
       "A100                          54.2142  "
      ]
     },
     "execution_count": 59,
     "metadata": {},
     "output_type": "execute_result"
    }
   ],
   "source": [
    "df_pivot.head()"
   ]
  },
  {
   "cell_type": "code",
   "execution_count": 60,
   "id": "fe0e83f0",
   "metadata": {},
   "outputs": [],
   "source": [
    "def get_samples(y_labels, df_datasets):\n",
    "    y_names=[]\n",
    "    for sra in y_labels:\n",
    "        y_names.append(df_datasets.loc[df_datasets['SRA'] == sra.strip(), 'Name'].values[0])\n",
    "    return y_names"
   ]
  },
  {
   "cell_type": "code",
   "execution_count": 61,
   "id": "4f12d2d9",
   "metadata": {},
   "outputs": [],
   "source": [
    "def get_accessions(x_labels, df_accessions):\n",
    "    x_codes=[]\n",
    "    for accession in x_labels:\n",
    "        x_codes.append(df_accessions.loc[df_accessions['Accession'] == accession.strip(), 'Code'].values[0])\n",
    "    return x_codes"
   ]
  },
  {
   "cell_type": "code",
   "execution_count": 62,
   "id": "f91c8346",
   "metadata": {},
   "outputs": [],
   "source": [
    "df_pivot=df_pivot.T\n",
    "data=df_pivot.to_numpy()\n",
    "\n",
    "y_labels=df_pivot.index.tolist()\n",
    "x_labels=list(df_pivot.columns.values)"
   ]
  },
  {
   "cell_type": "code",
   "execution_count": 63,
   "id": "70033f9c",
   "metadata": {},
   "outputs": [
    {
     "data": {
      "text/plain": [
       "['A96', 'A97', 'A98', 'A100']"
      ]
     },
     "execution_count": 63,
     "metadata": {},
     "output_type": "execute_result"
    }
   ],
   "source": [
    "x_labels"
   ]
  },
  {
   "cell_type": "code",
   "execution_count": 64,
   "id": "ede96d43",
   "metadata": {},
   "outputs": [],
   "source": [
    "y_names=y_labels\n",
    "x_codes=x_labels"
   ]
  },
  {
   "cell_type": "code",
   "execution_count": 65,
   "id": "3806788d",
   "metadata": {},
   "outputs": [],
   "source": [
    "plot_data = np.ma.masked_equal(data[:,:], 0)"
   ]
  },
  {
   "cell_type": "code",
   "execution_count": 66,
   "id": "09e47d13",
   "metadata": {
    "scrolled": true
   },
   "outputs": [
    {
     "data": {
      "image/png": "[encoded data removed]",
      "text/plain": [
       "<Figure size 360x360 with 2 Axes>"
      ]
     },
     "metadata": {},
     "output_type": "display_data"
    }
   ],
   "source": [
    "sns.set_style('white')\n",
    "fig, ax = plt.subplots(figsize=(5,5))\n",
    "#img=ax.imshow(plot_data, cmap=plt.cm.get_cmap(\"Reds\"), interpolation=\"nearest\", aspect='auto',norm=matplotlib.colors.LogNorm())\n",
    "img=ax.imshow(plot_data, cmap=plt.cm.get_cmap(\"Reds\"), interpolation=\"nearest\", aspect='auto')\n",
    "\n",
    "ax.set_xticks(list(range(len(x_codes))))\n",
    "ax.set_xticklabels(x_codes,rotation=90)\n",
    "ax.set_yticks(list(range(len(y_names))))\n",
    "ax.set_yticklabels(y_names)\n",
    "\n",
    "cbar=fig.colorbar(img, label='% coverage', shrink=0.5)\n",
    "\n",
    "plt.tight_layout()\n",
    "fig.savefig(PLOT_PATH+f\"Mt_{PARAMS}_sample_name_{FILTER_CUT}_V2.png\", bbox_inches='tight')"
   ]
  },
  {
   "cell_type": "markdown",
   "id": "17a01800",
   "metadata": {},
   "source": [
    "## Percent\n"
   ]
  },
  {
   "cell_type": "code",
   "execution_count": 67,
   "id": "cd9608ae",
   "metadata": {},
   "outputs": [
    {
     "data": {
      "text/plain": [
       "(58, 14)"
      ]
     },
     "execution_count": 67,
     "metadata": {},
     "output_type": "execute_result"
    }
   ],
   "source": [
    "df_frac=df_all.copy()\n",
    "df_frac.shape"
   ]
  },
  {
   "cell_type": "code",
   "execution_count": 68,
   "id": "d8ef81f2",
   "metadata": {},
   "outputs": [
    {
     "data": {
      "text/plain": [
       "(28, 14)"
      ]
     },
     "execution_count": 68,
     "metadata": {},
     "output_type": "execute_result"
    }
   ],
   "source": [
    "### filter to => N%\n",
    "df_frac = df_frac.loc[df_frac['coverage'] >=FILTER_CUT]\n",
    "df_frac.shape"
   ]
  },
  {
   "cell_type": "code",
   "execution_count": 69,
   "id": "8442d9cc",
   "metadata": {},
   "outputs": [
    {
     "data": {
      "text/html": [
       "<div>\n",
       "<style scoped>\n",
       "    .dataframe tbody tr th:only-of-type {\n",
       "        vertical-align: middle;\n",
       "    }\n",
       "\n",
       "    .dataframe tbody tr th {\n",
       "        vertical-align: top;\n",
       "    }\n",
       "\n",
       "    .dataframe thead th {\n",
       "        text-align: right;\n",
       "    }\n",
       "</style>\n",
       "<table border=\"1\" class=\"dataframe\">\n",
       "  <thead>\n",
       "    <tr style=\"text-align: right;\">\n",
       "      <th></th>\n",
       "      <th>SRA</th>\n",
       "      <th>#rname</th>\n",
       "      <th>startpos</th>\n",
       "      <th>endpos</th>\n",
       "      <th>numreads</th>\n",
       "      <th>covbases</th>\n",
       "      <th>coverage</th>\n",
       "      <th>meandepth</th>\n",
       "      <th>meanbaseq</th>\n",
       "      <th>meanmapq</th>\n",
       "      <th>taxa</th>\n",
       "      <th>sample_name</th>\n",
       "      <th>total_mt_reads</th>\n",
       "      <th>frac_mt</th>\n",
       "    </tr>\n",
       "  </thead>\n",
       "  <tbody>\n",
       "    <tr>\n",
       "      <th>0</th>\n",
       "      <td>CRR477154</td>\n",
       "      <td>NC_036434.1</td>\n",
       "      <td>1</td>\n",
       "      <td>16577</td>\n",
       "      <td>73162</td>\n",
       "      <td>16548</td>\n",
       "      <td>99.8251</td>\n",
       "      <td>602.2460</td>\n",
       "      <td>36.4</td>\n",
       "      <td>18.50</td>\n",
       "      <td>Manis culionensis</td>\n",
       "      <td>A96</td>\n",
       "      <td>259819</td>\n",
       "      <td>0.2816</td>\n",
       "    </tr>\n",
       "    <tr>\n",
       "      <th>1</th>\n",
       "      <td>CRR477154</td>\n",
       "      <td>NC_026781.1</td>\n",
       "      <td>1</td>\n",
       "      <td>16576</td>\n",
       "      <td>106322</td>\n",
       "      <td>16508</td>\n",
       "      <td>99.5898</td>\n",
       "      <td>891.2280</td>\n",
       "      <td>36.4</td>\n",
       "      <td>8.05</td>\n",
       "      <td>Manis javanica</td>\n",
       "      <td>A96</td>\n",
       "      <td>259819</td>\n",
       "      <td>0.4092</td>\n",
       "    </tr>\n",
       "    <tr>\n",
       "      <th>2</th>\n",
       "      <td>CRR477154</td>\n",
       "      <td>NC_016008.1</td>\n",
       "      <td>1</td>\n",
       "      <td>16578</td>\n",
       "      <td>74732</td>\n",
       "      <td>16283</td>\n",
       "      <td>98.2205</td>\n",
       "      <td>619.6510</td>\n",
       "      <td>36.3</td>\n",
       "      <td>4.66</td>\n",
       "      <td>Manis pentadactyla</td>\n",
       "      <td>A96</td>\n",
       "      <td>259819</td>\n",
       "      <td>0.2876</td>\n",
       "    </tr>\n",
       "    <tr>\n",
       "      <th>3</th>\n",
       "      <td>CRR477154</td>\n",
       "      <td>NC_036433.1</td>\n",
       "      <td>1</td>\n",
       "      <td>16576</td>\n",
       "      <td>2487</td>\n",
       "      <td>14967</td>\n",
       "      <td>90.2932</td>\n",
       "      <td>17.5141</td>\n",
       "      <td>36.1</td>\n",
       "      <td>14.20</td>\n",
       "      <td>Manis crassicaudata</td>\n",
       "      <td>A96</td>\n",
       "      <td>259819</td>\n",
       "      <td>0.0096</td>\n",
       "    </tr>\n",
       "    <tr>\n",
       "      <th>7</th>\n",
       "      <td>CRR477155</td>\n",
       "      <td>NC_012920.1</td>\n",
       "      <td>1</td>\n",
       "      <td>16569</td>\n",
       "      <td>19828</td>\n",
       "      <td>16569</td>\n",
       "      <td>100.0000</td>\n",
       "      <td>171.9180</td>\n",
       "      <td>34.6</td>\n",
       "      <td>31.70</td>\n",
       "      <td>Homo sapiens</td>\n",
       "      <td>A97</td>\n",
       "      <td>170629</td>\n",
       "      <td>0.1162</td>\n",
       "    </tr>\n",
       "  </tbody>\n",
       "</table>\n",
       "</div>"
      ],
      "text/plain": [
       "         SRA       #rname  startpos  endpos  numreads  covbases  coverage  \\\n",
       "0  CRR477154  NC_036434.1         1   16577     73162     16548   99.8251   \n",
       "1  CRR477154  NC_026781.1         1   16576    106322     16508   99.5898   \n",
       "2  CRR477154  NC_016008.1         1   16578     74732     16283   98.2205   \n",
       "3  CRR477154  NC_036433.1         1   16576      2487     14967   90.2932   \n",
       "7  CRR477155  NC_012920.1         1   16569     19828     16569  100.0000   \n",
       "\n",
       "   meandepth  meanbaseq  meanmapq                 taxa sample_name  \\\n",
       "0   602.2460       36.4     18.50    Manis culionensis         A96   \n",
       "1   891.2280       36.4      8.05       Manis javanica         A96   \n",
       "2   619.6510       36.3      4.66   Manis pentadactyla         A96   \n",
       "3    17.5141       36.1     14.20  Manis crassicaudata         A96   \n",
       "7   171.9180       34.6     31.70         Homo sapiens         A97   \n",
       "\n",
       "   total_mt_reads  frac_mt  \n",
       "0          259819   0.2816  \n",
       "1          259819   0.4092  \n",
       "2          259819   0.2876  \n",
       "3          259819   0.0096  \n",
       "7          170629   0.1162  "
      ]
     },
     "execution_count": 69,
     "metadata": {},
     "output_type": "execute_result"
    }
   ],
   "source": [
    "df_frac.head()"
   ]
  },
  {
   "cell_type": "code",
   "execution_count": 70,
   "id": "e2ca9a52",
   "metadata": {},
   "outputs": [],
   "source": [
    "df_frac['frac_pct'] = df_frac['frac_mt']*100"
   ]
  },
  {
   "cell_type": "code",
   "execution_count": 71,
   "id": "8be7f4b0",
   "metadata": {},
   "outputs": [],
   "source": [
    "df_pivot=df_frac.pivot_table(index='sample_name', columns='taxa', values='frac_pct')"
   ]
  },
  {
   "cell_type": "code",
   "execution_count": 72,
   "id": "6cdd89f4",
   "metadata": {},
   "outputs": [],
   "source": [
    "df_pivot=df_pivot.reindex(['A96','A97','A98','A100'])"
   ]
  },
  {
   "cell_type": "code",
   "execution_count": 73,
   "id": "b6104b15",
   "metadata": {},
   "outputs": [
    {
     "data": {
      "text/html": [
       "<div>\n",
       "<style scoped>\n",
       "    .dataframe tbody tr th:only-of-type {\n",
       "        vertical-align: middle;\n",
       "    }\n",
       "\n",
       "    .dataframe tbody tr th {\n",
       "        vertical-align: top;\n",
       "    }\n",
       "\n",
       "    .dataframe thead th {\n",
       "        text-align: right;\n",
       "    }\n",
       "</style>\n",
       "<table border=\"1\" class=\"dataframe\">\n",
       "  <thead>\n",
       "    <tr style=\"text-align: right;\">\n",
       "      <th>taxa</th>\n",
       "      <th>Chlorocebus sabaeus</th>\n",
       "      <th>Homo heidelbergensis</th>\n",
       "      <th>Homo sapiens</th>\n",
       "      <th>Homo sp.</th>\n",
       "      <th>Manis crassicaudata</th>\n",
       "      <th>Manis culionensis</th>\n",
       "      <th>Manis javanica</th>\n",
       "      <th>Manis pentadactyla</th>\n",
       "      <th>Neophocaena asiaeorientalis</th>\n",
       "      <th>Neophocaena phocaenoides</th>\n",
       "    </tr>\n",
       "    <tr>\n",
       "      <th>sample_name</th>\n",
       "      <th></th>\n",
       "      <th></th>\n",
       "      <th></th>\n",
       "      <th></th>\n",
       "      <th></th>\n",
       "      <th></th>\n",
       "      <th></th>\n",
       "      <th></th>\n",
       "      <th></th>\n",
       "      <th></th>\n",
       "    </tr>\n",
       "  </thead>\n",
       "  <tbody>\n",
       "    <tr>\n",
       "      <th>A96</th>\n",
       "      <td>NaN</td>\n",
       "      <td>NaN</td>\n",
       "      <td>NaN</td>\n",
       "      <td>NaN</td>\n",
       "      <td>0.96</td>\n",
       "      <td>28.16</td>\n",
       "      <td>40.92</td>\n",
       "      <td>28.76</td>\n",
       "      <td>NaN</td>\n",
       "      <td>NaN</td>\n",
       "    </tr>\n",
       "    <tr>\n",
       "      <th>A97</th>\n",
       "      <td>6.14</td>\n",
       "      <td>NaN</td>\n",
       "      <td>11.62</td>\n",
       "      <td>NaN</td>\n",
       "      <td>0.39</td>\n",
       "      <td>29.27</td>\n",
       "      <td>22.61</td>\n",
       "      <td>23.83</td>\n",
       "      <td>0.69</td>\n",
       "      <td>0.64</td>\n",
       "    </tr>\n",
       "    <tr>\n",
       "      <th>A98</th>\n",
       "      <td>1.54</td>\n",
       "      <td>NaN</td>\n",
       "      <td>10.23</td>\n",
       "      <td>NaN</td>\n",
       "      <td>1.18</td>\n",
       "      <td>30.97</td>\n",
       "      <td>23.75</td>\n",
       "      <td>25.80</td>\n",
       "      <td>0.97</td>\n",
       "      <td>0.89</td>\n",
       "    </tr>\n",
       "    <tr>\n",
       "      <th>A100</th>\n",
       "      <td>8.42</td>\n",
       "      <td>2.3</td>\n",
       "      <td>53.10</td>\n",
       "      <td>3.39</td>\n",
       "      <td>NaN</td>\n",
       "      <td>NaN</td>\n",
       "      <td>9.41</td>\n",
       "      <td>7.66</td>\n",
       "      <td>0.49</td>\n",
       "      <td>0.46</td>\n",
       "    </tr>\n",
       "  </tbody>\n",
       "</table>\n",
       "</div>"
      ],
      "text/plain": [
       "taxa         Chlorocebus sabaeus  Homo heidelbergensis  Homo sapiens  \\\n",
       "sample_name                                                            \n",
       "A96                          NaN                   NaN           NaN   \n",
       "A97                         6.14                   NaN         11.62   \n",
       "A98                         1.54                   NaN         10.23   \n",
       "A100                        8.42                   2.3         53.10   \n",
       "\n",
       "taxa         Homo sp.  Manis crassicaudata  Manis culionensis  Manis javanica  \\\n",
       "sample_name                                                                     \n",
       "A96               NaN                 0.96              28.16           40.92   \n",
       "A97               NaN                 0.39              29.27           22.61   \n",
       "A98               NaN                 1.18              30.97           23.75   \n",
       "A100             3.39                  NaN                NaN            9.41   \n",
       "\n",
       "taxa         Manis pentadactyla  Neophocaena asiaeorientalis  \\\n",
       "sample_name                                                    \n",
       "A96                       28.76                          NaN   \n",
       "A97                       23.83                         0.69   \n",
       "A98                       25.80                         0.97   \n",
       "A100                       7.66                         0.49   \n",
       "\n",
       "taxa         Neophocaena phocaenoides  \n",
       "sample_name                            \n",
       "A96                               NaN  \n",
       "A97                              0.64  \n",
       "A98                              0.89  \n",
       "A100                             0.46  "
      ]
     },
     "execution_count": 73,
     "metadata": {},
     "output_type": "execute_result"
    }
   ],
   "source": [
    "df_pivot.head()"
   ]
  },
  {
   "cell_type": "code",
   "execution_count": 74,
   "id": "b9456dea",
   "metadata": {},
   "outputs": [],
   "source": [
    "df_pivot=df_pivot.T\n",
    "data=df_pivot.to_numpy()\n",
    "\n",
    "y_labels=df_pivot.index.tolist()\n",
    "x_labels=list(df_pivot.columns.values)"
   ]
  },
  {
   "cell_type": "code",
   "execution_count": 75,
   "id": "e7753eac",
   "metadata": {},
   "outputs": [],
   "source": [
    "y_names=y_labels\n",
    "x_codes=x_labels"
   ]
  },
  {
   "cell_type": "code",
   "execution_count": 76,
   "id": "3d1f0f50",
   "metadata": {},
   "outputs": [],
   "source": [
    "plot_data = np.ma.masked_equal(data[:,:], 0)"
   ]
  },
  {
   "cell_type": "code",
   "execution_count": 77,
   "id": "966ea075",
   "metadata": {
    "scrolled": true
   },
   "outputs": [
    {
     "data": {
      "image/png": "[encoded data removed]",
      "text/plain": [
       "<Figure size 360x360 with 2 Axes>"
      ]
     },
     "metadata": {},
     "output_type": "display_data"
    }
   ],
   "source": [
    "sns.set_style('white')\n",
    "fig, ax = plt.subplots(figsize=(5,5))\n",
    "#img=ax.imshow(plot_data, cmap=plt.cm.get_cmap(\"Blues\"), interpolation=\"nearest\", aspect='auto', \\\n",
    "#              norm=matplotlib.colors.LogNorm(), vmin = 0.001, vmax = 100)\n",
    "img=ax.imshow(plot_data, cmap=plt.cm.get_cmap(\"Blues\"), interpolation=\"nearest\", aspect='auto')\n",
    "\n",
    "ax.set_xticks(list(range(len(x_codes))))\n",
    "ax.set_xticklabels(x_codes,rotation=90)\n",
    "ax.set_yticks(list(range(len(y_names))))\n",
    "ax.set_yticklabels(y_names)\n",
    "\n",
    "\n",
    "cbar=fig.colorbar(img, label='% of Mitochondrion', shrink=0.5)\n",
    "\n",
    "plt.tight_layout()\n",
    "fig.savefig(PLOT_PATH+f\"Mt_{PARAMS}_sample_name_{FILTER_CUT}_cut_fraction_of_Mt_V2.png\", bbox_inches='tight')"
   ]
  },
  {
   "cell_type": "code",
   "execution_count": null,
   "id": "82dcec30",
   "metadata": {},
   "outputs": [],
   "source": []
  }
 ],
 "metadata": {
  "kernelspec": {
   "display_name": "Python 3",
   "language": "python",
   "name": "python3"
  },
  "language_info": {
   "codemirror_mode": {
    "name": "ipython",
    "version": 3
   },
   "file_extension": ".py",
   "mimetype": "text/x-python",
   "name": "python",
   "nbconvert_exporter": "python",
   "pygments_lexer": "ipython3",
   "version": "3.6.15"
  }
 },
 "nbformat": 4,
 "nbformat_minor": 5
}
