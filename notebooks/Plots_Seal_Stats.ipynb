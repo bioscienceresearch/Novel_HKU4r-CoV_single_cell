{
 "cells": [
  {
   "cell_type": "code",
   "execution_count": 3,
   "id": "thorough-merchandise",
   "metadata": {},
   "outputs": [
    {
     "data": {
      "text/plain": [
       "'blastasm'"
      ]
     },
     "execution_count": 3,
     "metadata": {},
     "output_type": "execute_result"
    }
   ],
   "source": [
    "import re\n",
    "import numpy as np\n",
    "import time\n",
    "import os.path\n",
    "import sys\n",
    "import pandas as pd\n",
    "from matplotlib import pyplot as plt\n",
    "import matplotlib.lines as mlines\n",
    "import seaborn as sns\n",
    "from io import StringIO\n",
    "#from Bio import SeqIO\n",
    "#import pysam\n",
    "from pandas.plotting import scatter_matrix\n",
    "import warnings\n",
    "import json\n",
    "import numpy as np\n",
    "import subprocess\n",
    "from collections import OrderedDict\n",
    "warnings.filterwarnings('ignore')\n",
    "sys.executable.split('/')[-3]"
   ]
  },
  {
   "cell_type": "code",
   "execution_count": 4,
   "id": "caring-insider",
   "metadata": {},
   "outputs": [
    {
     "data": {
      "text/html": [
       "<style>.container { width:95% !important; }</style>"
      ],
      "text/plain": [
       "<IPython.core.display.HTML object>"
      ]
     },
     "metadata": {},
     "output_type": "display_data"
    }
   ],
   "source": [
    "from IPython.core.display import display, HTML\n",
    "display(HTML(\"<style>.container { width:95% !important; }</style>\"))"
   ]
  },
  {
   "cell_type": "code",
   "execution_count": 5,
   "id": "f87d832c",
   "metadata": {},
   "outputs": [],
   "source": [
    "def refstats_df(mapped_names, alb_abbr, aln_ext, aln_params):\n",
    "    #mp_hu_mus_megahit_default_toss_refstats.txt\n",
    "    frames=[]\n",
    "    g_names=[]\n",
    "    for sra in SRAs:\n",
    "        ref_path=BASE_PATH+f'{sra}/seal/'\n",
    "        ref_file=f'{alb_abbr}_{aln_ext}_{aln_params}_refstats.txt'\n",
    "        f = open(ref_path+ref_file, \"r\")\n",
    "        lines=f.readlines()\n",
    "        reads=[]\n",
    "        for l in lines:\n",
    "            for mn in mapped_names:\n",
    "                if l.startswith(mn):\n",
    "                    g_names.append(mn)\n",
    "                    reads.append(l.split()[5])\n",
    "        sra_l=[sra]*len(mapped_names)\n",
    "        g_names=list(OrderedDict.fromkeys(g_names))\n",
    "        df = pd.DataFrame(list(zip(sra_l, g_names, reads)),\n",
    "               columns =['SRA', 'Name', 'Reads'])\n",
    "        frames.append(df)\n",
    "    #ref_df = pd.concat(frames)\n",
    "    return frames"
   ]
  },
  {
   "cell_type": "code",
   "execution_count": 6,
   "id": "2fd29317",
   "metadata": {},
   "outputs": [],
   "source": [
    "def plot_4_stackplots(df):\n",
    "    df.plot(\n",
    "      x = 'Name', \n",
    "      kind = 'bar', \n",
    "      stacked = True, \n",
    "      title = 'Percentage Stacked Bar Graph', \n",
    "      mark_right = True)\n",
    "\n",
    "    df_total = df[\"human\"] + df[\"vero\"] + df[\"manjav\"]+ df[\"sus\"]\n",
    "    df_rel = df[df.columns[1:]].div(df_total, 0)*100\n",
    "\n",
    "    for n in df_rel:\n",
    "        for i, (cs, ab, pc) in enumerate(zip(df.iloc[:, 1:].cumsum(1)[n], \n",
    "                                             df[n], df_rel[n])):\n",
    "            plt.text(cs - ab / 2, i, str(np.round(pc, 1)) + '%', \n",
    "                     va = 'center', ha = 'center')"
   ]
  },
  {
   "cell_type": "code",
   "execution_count": 7,
   "id": "97af33af",
   "metadata": {},
   "outputs": [],
   "source": [
    "def get_pct(y_arr, tot_arr):\n",
    "    pct_arr=[]\n",
    "    for i,val in enumerate(y_arr.tolist()):\n",
    "        #print(f'i: {i}, val: {val}')\n",
    "        pct=(val/tot_arr[i])*100\n",
    "        pct_arr.append(pct)\n",
    "    pct_arr=np.array(pct_arr)\n",
    "    return pct_arr"
   ]
  },
  {
   "cell_type": "code",
   "execution_count": 8,
   "id": "8f23274e",
   "metadata": {},
   "outputs": [],
   "source": [
    "def plot_generator(plot_data,sra_totals, y_scale):\n",
    "    y0=np.array(plot_data[0])\n",
    "    y1=np.array(plot_data[1])\n",
    "    y2=np.array(plot_data[2])\n",
    "    if len(plot_data)==4:\n",
    "        y3=np.array(plot_data[3])\n",
    "    y4=None\n",
    "    if y_scale=='normalized':\n",
    "        y0=get_pct(y0, sra_totals)\n",
    "        y1=get_pct(y1, sra_totals)\n",
    "        y2=get_pct(y2, sra_totals)\n",
    "        if len(plot_data)==4:\n",
    "            y3=get_pct(y3, sra_totals)\n",
    "    ymax=0\n",
    "\n",
    "    if len(mapped_names)==5:\n",
    "        y4=np.array(l_other)\n",
    "        if y_scale=='normalized':\n",
    "            y4=get_pct(y4, sra_totals)\n",
    "        for l in zip(l_manjav,l_sus,l_human,l_vero,l_other):\n",
    "            mx=max(l)\n",
    "            if mx>ymax: ymax=mx\n",
    "    else:\n",
    "        if len(plot_data)==4:\n",
    "            for l in zip(plot_data[0],plot_data[1],plot_data[2],plot_data[3]):\n",
    "                mx=max(l)\n",
    "                if mx>ymax: ymax=mx\n",
    "            else:\n",
    "                for l in zip(plot_data[0],plot_data[1],plot_data[2]):\n",
    "                    mx=max(l)\n",
    "                    if mx>ymax: ymax=mx\n",
    "                \n",
    "    \n",
    "    ymax=ymax+ymax/7\n",
    "    ymax -= ymax % -100  # Round x up to next multiple of 100.\n",
    "    if len(plot_data)==4:\n",
    "        return y0,y1,y2,y3,ymax\n",
    "    else:\n",
    "        return y0,y1,y2,ymax\n",
    "    "
   ]
  },
  {
   "cell_type": "code",
   "execution_count": 9,
   "id": "8bcfb1b2",
   "metadata": {},
   "outputs": [],
   "source": [
    "def plot_flagtools_stackplots(frames, file_name, mapped_names, title, y_scale='log', fig_width=12, save_fig=True):\n",
    "    #SRA \tmapped \tproperly paired \taln_ref\n",
    "    #human, mouse, manjav\n",
    "    l_human=[]\n",
    "    l_mouse=[]\n",
    "    l_manjav=[]\n",
    "    l_manpten=[]\n",
    "    l_other=[]\n",
    "    sra_totals=[]\n",
    "    #mapped_names=['YNU_ManJav_2.0','GRCh38','GRCm39', 'YNU_ManPten_2.0']\n",
    "    for i, df in enumerate(frames):\n",
    "        h=int(df.loc[df.Name == 'GRCh38','Reads'].values[0])\n",
    "        l_human.append(h)\n",
    "        m=int(df.loc[df.Name == 'GRCm39','Reads'].values[0])\n",
    "        l_mouse.append(m)\n",
    "        mj=int(df.loc[df.Name == 'YNU_ManJav_2.0','Reads'].values[0])\n",
    "        l_manjav.append(mj)\n",
    "        mp=int(df.loc[df.Name == 'YNU_ManPten_2.0','Reads'].values[0])\n",
    "        l_manpten.append(mp)\n",
    "        sra_totals.append(h+m+mj+mp)\n",
    "        if len(mapped_names)==5:\n",
    "            o=int(df.loc[df.Name == 'shrimp','Reads'].values[0])\n",
    "            l_other.append(o)\n",
    "            sra_totals[-1]=sra_totals[-1]+o\n",
    "        sra=df['SRA'].iloc[0]\n",
    "        assert sra==SRAs[i]\n",
    "\n",
    "    y0,y1,y2,y3,y4,ymax=plot_generator(l_manjav,l_manpten,l_human,l_mouse,l_other,sra_totals, y_scale)\n",
    "    y0n,y1n,y2n,y3n,y4n,ymaxn=plot_generator(l_manjav,l_manpten,l_human,l_mouse,l_other,sra_totals, y_scale='normalized')\n",
    "    legend_order=['ManJav','ManPten', 'human', 'mouse', 'shrimp']\n",
    "    \n",
    "    fig, axes = plt.subplots(nrows=1, ncols=2, figsize=(fig_width, 6))\n",
    "    #plt.rcParams[\"figure.figsize\"] = (fig_width,6)\n",
    "    axes[0].bar(SRAs, y0, color='#FAC748')\n",
    "    axes[0].bar(SRAs, y1, bottom=y0, color='skyblue') \n",
    "    axes[0].bar(SRAs, y2, bottom=y0+y1, color='#1D2F6F')\n",
    "    axes[0].bar(SRAs, y3, bottom=y0+y1+y2, color='#6EAF46')\n",
    "    if len(mapped_names)==5:\n",
    "        axes[0].bar(SRAs, y4, bottom=y0+y1+y2+y3, color='indianred')\n",
    "    axes[0].set_ylabel('counts')\n",
    "    if y_scale=='log':\n",
    "        axes[0].set_yscale('log')\n",
    "    elif y_scale=='linear':\n",
    "        axes[0].set_ylim(0,ymax)\n",
    "    axes[0].legend(legend_order)\n",
    "\n",
    "    axes[0].tick_params(axis='x', rotation=90)\n",
    "    #axes[0].set_title(title, loc='left')\n",
    "\n",
    "    axes[1].bar(SRAs, y0n, color='#FAC748')\n",
    "    axes[1].bar(SRAs, y1n, bottom=y0n, color='skyblue') \n",
    "    axes[1].bar(SRAs, y2n, bottom=y0n+y1n, color='#1D2F6F')\n",
    "    axes[1].bar(SRAs, y3n, bottom=y0n+y1n+y2n, color='#6EAF46')\n",
    "    if len(mapped_names)==5:\n",
    "        axes[1].bar(SRAs, y4n, bottom=y0n+y1n+y2n+y3n, color='indianred')\n",
    "    axes[1].set_ylabel('percentage')\n",
    "    axes[1].set_ylim(0,100)\n",
    "    axes[1].legend(legend_order)\n",
    "    \n",
    "    axes[1].tick_params(axis='x', rotation=90)\n",
    "    plt.title(title, x=0.1, y=1.02)\n",
    "    fig.tight_layout()\n",
    "    if save_fig:\n",
    "        plt.savefig(f'{BASE_PATH}/general_plots/{file_name}', bbox_inches='tight')"
   ]
  },
  {
   "cell_type": "code",
   "execution_count": 10,
   "id": "4e79d090",
   "metadata": {},
   "outputs": [],
   "source": [
    "def plot_flagtools_single_stackplots(frames, file_name, mapped_names, abbreviations, title, y_scale='log', fig_width=12, save_fig=False):\n",
    "    #SRA \tmapped \tproperly paired \taln_ref\n",
    "    #human, mouse, manjav\n",
    "    l_d0=[]\n",
    "    l_d1=[]\n",
    "    l_d2=[]\n",
    "    l_d3=[]\n",
    "    sra_totals=[]\n",
    "    df_cols=abbreviations.copy().insert(0, 'SRA')\n",
    "    #mapped_names=['YNU_ManJav_2.0','GRCh38','GRCm39', 'YNU_ManPten_2.0']\n",
    "    for i, df in enumerate(frames):\n",
    "        d0=int(df.loc[df.Name == mapped_names[0],'Reads'].values[0])\n",
    "        l_d0.append(d0)\n",
    "        d1=int(df.loc[df.Name == mapped_names[1],'Reads'].values[0])\n",
    "        l_d1.append(d1)\n",
    "        d2=int(df.loc[df.Name == mapped_names[2],'Reads'].values[0])\n",
    "        l_d2.append(d2)\n",
    "        if len(mapped_names)==4:\n",
    "            d3=int(df.loc[df.Name == mapped_names[3],'Reads'].values[0])\n",
    "            l_d3.append(d3)\n",
    "            sra_totals.append(d0+d1+d2+d3)\n",
    "        else:\n",
    "            sra_totals.append(d0+d1+d2)\n",
    "        #if len(mapped_names)==5:\n",
    "            #o=int(df.loc[df.Name == 'shrimp','Reads'].values[0])\n",
    "            #l_other.append(o)\n",
    "            #sra_totals[-1]=sra_totals[-1]+o\n",
    "        sra=df['SRA'].iloc[0]\n",
    "        assert sra==SRAs[i]\n",
    "    if len(mapped_names)==4:\n",
    "        if y_scale=='normalized':\n",
    "            y0,y1,y2,y3,ymaxn=plot_generator([l_d0,l_d1,l_d2,l_d3],sra_totals, y_scale='normalized')\n",
    "        else:\n",
    "            y0,y1,y2,y3,ymax=plot_generator([l_d0,l_d1,l_d2,l_d3],sra_totals, y_scale)\n",
    "        legend_order=abbreviations\n",
    "\n",
    "        #save the df\n",
    "        df=pd.DataFrame(list(zip(SRAs, y0.tolist(),y1.tolist(),y2.tolist(),y3.tolist())),\n",
    "                  columns=df_cols)\n",
    "        print(f'saving to {file_name}_df.csv')\n",
    "        df.to_csv(f'{BASE_PATH}/general_plots/{file_name}_df.csv', index=False)\n",
    "\n",
    "\n",
    "        #fig, axes = plt.subplots(nrows=1, ncols=2, figsize=(fig_width, 6))\n",
    "        plt.rcParams[\"figure.figsize\"] = (fig_width,6)\n",
    "        plt.bar(SRAs, y0, color='#FAC748')\n",
    "        plt.bar(SRAs, y1, bottom=y0, color='skyblue') \n",
    "        plt.bar(SRAs, y2, bottom=y0+y1, color='#1D2F6F')\n",
    "        plt.bar(SRAs, y3, bottom=y0+y1+y2, color='#6EAF46')\n",
    "        if len(mapped_names)==5:\n",
    "            plt.bar(SRAs, y4, bottom=y0+y1+y2+y3, color='indianred')\n",
    "    else:\n",
    "        if y_scale=='normalized':\n",
    "            y0,y1,y2,ymaxn=plot_generator([l_d0,l_d1,l_d2],sra_totals, y_scale='normalized')\n",
    "        else:\n",
    "            y0,y1,y2,ymax=plot_generator([l_d0,l_d1,l_d2],sra_totals, y_scale)\n",
    "        legend_order=abbreviations\n",
    "\n",
    "        #save the df\n",
    "        df=pd.DataFrame(list(zip(SRAs, y0.tolist(),y1.tolist(),y2.tolist())),\n",
    "                  columns=df_cols)\n",
    "        print(f'saving to {file_name}_df.csv')\n",
    "        df.to_csv(f'{BASE_PATH}/general_plots/{file_name}_df.csv', index=False)\n",
    "\n",
    "\n",
    "        #fig, axes = plt.subplots(nrows=1, ncols=2, figsize=(fig_width, 6))\n",
    "        plt.rcParams[\"figure.figsize\"] = (fig_width,6)\n",
    "        plt.bar(SRAs, y0, color='#FAC748')\n",
    "        plt.bar(SRAs, y1, bottom=y0, color='skyblue') \n",
    "        plt.bar(SRAs, y2, bottom=y0+y1, color='#1D2F6F')\n",
    "\n",
    "    plt.ylabel('percent')\n",
    "    if y_scale=='log':\n",
    "        plt.yscale('log')\n",
    "    elif y_scale=='linear':\n",
    "        plt.ylim(0,ymax)\n",
    "    plt.legend(legend_order, loc=(1.05, 0.7))\n",
    "    ax = plt.axes()\n",
    "    ax.set_xticklabels(SAMPLES)\n",
    "    plt.tick_params(axis='x', rotation=90)\n",
    "    #axes[0].set_title(title, loc='left')\n",
    "\n",
    "    plt.title(title)\n",
    "    plt.tight_layout()\n",
    "    if save_fig:\n",
    "        plt.savefig(f'{BASE_PATH}/general_plots/{file_name}', bbox_inches='tight')"
   ]
  },
  {
   "cell_type": "markdown",
   "id": "5252de08",
   "metadata": {},
   "source": [
    "## Genomes"
   ]
  },
  {
   "cell_type": "code",
   "execution_count": 12,
   "id": "f4d00e2d",
   "metadata": {},
   "outputs": [],
   "source": [
    "def plot_concatref(df, file_name, mapped_names, title, y_scale='log', fig_width=12, save_fig=False):\n",
    "    \n",
    "    sras=[]\n",
    "    sus_pcts=[]\n",
    "    mj_pcts=[]\n",
    "    names=[]\n",
    "    for row in df.itertuples():\n",
    "        print(row)\n",
    "        sra = row[1]\n",
    "        idx=SRAs.index(sra)\n",
    "        name=SAMPLES[idx]\n",
    "        sus= row[2]\n",
    "        mj = row[3]\n",
    "\n",
    "        total=sus+mj\n",
    "        pct_sus=(sus/total)*100\n",
    "        pct_mj=(mj/total)*100\n",
    "        names.append(name)\n",
    "        sus_pcts.append(pct_sus)\n",
    "        mj_pcts.append(pct_mj)\n",
    "        sras.append(sra)\n",
    "        #print(sra)\n",
    "        #print(pct_sus)\n",
    "        #print(pct_mj)\n",
    "        \n",
    "    y0=np.array(sus_pcts)\n",
    "    y1=np.array(mj_pcts)\n",
    "\n",
    "\n",
    "    legend_order=abbreviations\n",
    "\n",
    "    #fig, axes = plt.subplots(nrows=1, ncols=2, figsize=(fig_width, 6))\n",
    "    plt.rcParams[\"figure.figsize\"] = (fig_width,6)\n",
    "    plt.bar(sras, y0, color='#FAC748')\n",
    "    plt.bar(sras, y1, bottom=y0, color='skyblue') \n",
    "\n",
    "\n",
    "    plt.ylabel('percent')\n",
    "    if y_scale=='log':\n",
    "        plt.yscale('log')\n",
    "    elif y_scale=='linear':\n",
    "        plt.ylim(0,105)\n",
    "    plt.legend(legend_order, loc=(1.05, 0.7))\n",
    "    ax = plt.axes()\n",
    "    ax.set_xticklabels(names)\n",
    "    plt.tick_params(axis='x', rotation=90)\n",
    "\n",
    "\n",
    "    plt.title(title)\n",
    "    plt.tight_layout()\n",
    "    if save_fig:\n",
    "        plt.savefig(f'{BASE_PATH}/general_plots/{file_name}', bbox_inches='tight')"
   ]
  },
  {
   "cell_type": "code",
   "execution_count": 13,
   "id": "a76ee23f",
   "metadata": {},
   "outputs": [],
   "source": [
    "#human\n",
    "REF_NAME_H='GRCh38.p13.fna'\n",
    "\n",
    "#pig\n",
    "REF_NAME_S='Sscrofa11.1.fna'\n",
    "\n",
    "#Vero cell\n",
    "REF_NAME_V='Vero_WHO_p1.0.fna'\n",
    "\n",
    "#YNU_ManJav_2.0 (Pangolin)\n",
    "REF_NAME_MJ='YNU_ManJav_2.0.fna'\n",
    "\n",
    "#Manis p\n",
    "REF_NAME_MP='YNU_ManPten_2.0.fna'\n",
    "\n",
    "#cat\n",
    "REF_NAME_C='Fca126_mat1.0.fna'\n",
    "\n",
    "#goat\n",
    "REF_NAME_G='CapAeg_1.0.fna'\n",
    "\n",
    "#bamboo rat\n",
    "REF_NAME_R='RhiPru_1.0.fna'\n"
   ]
  },
  {
   "cell_type": "markdown",
   "id": "f93d7726",
   "metadata": {},
   "source": [
    "## PRJNA901878 - GX-HKU4"
   ]
  },
  {
   "cell_type": "code",
   "execution_count": 10,
   "id": "9d10e7de",
   "metadata": {},
   "outputs": [],
   "source": [
    "\n",
    "\n",
    "#REF_LIST=[REF_NAME_S, REF_NAME_MJ, REF_NAME_H, REF_NAME_V]\n",
    "\n",
    "#for storing in filename\n",
    "REF_UID=\"YNU_ManJav_2.0_Sscrofa11.1_GRCh38_Vero\"\n",
    "\n",
    "MATCH='unique'\n",
    "\n",
    "AMBIG='toss'\n",
    "\n",
    "\n",
    "mapped_names=['Sscrofa11.1', 'YNU_ManJav_2.0', 'GRCh38.p13', 'Vero_WHO_p1.0']\n",
    "abbreviations=['Sus scrofa', 'Manis javanica', 'Homo sapiens', 'Vero']"
   ]
  },
  {
   "cell_type": "code",
   "execution_count": 11,
   "id": "a941c013",
   "metadata": {},
   "outputs": [],
   "source": [
    "#alb_abbr='sus_mj'\n",
    "ALN_ABBR='YNU_ManJav_2.0_Sscrofa11.1_GRCh38_Vero'\n",
    "ALN_EXT='MKF0.3_MKH3'\n",
    "ALN_PARAMS='toss'\n",
    "ALN_TYPE='reads'"
   ]
  },
  {
   "cell_type": "code",
   "execution_count": 94,
   "id": "hollow-chase",
   "metadata": {},
   "outputs": [],
   "source": [
    "PRJ='PRJNA901878'\n",
    "BASE_PATH = f'/mnt/8TB_2/Data/Assembly/{PRJ}/'"
   ]
  },
  {
   "cell_type": "code",
   "execution_count": 13,
   "id": "fa1236c9",
   "metadata": {},
   "outputs": [],
   "source": [
    "SRAs=['SRR22936419','SRR22936420','SRR22936421','SRR22936422', 'SRR22936541','SRR22936544', 'SRR22936770', 'SRR22936773']\n",
    "SAMPLES=['PPeV-GX', 'HKU4-GX','P79-9', 'P70-9','M5-9','P44-9','FL16', 'FL13']"
   ]
  },
  {
   "cell_type": "code",
   "execution_count": 14,
   "id": "ceaa06f6",
   "metadata": {},
   "outputs": [],
   "source": [
    "#save out semi proc data\n",
    "frames=refstats_df(mapped_names, ALN_ABBR, ALN_EXT, ALN_PARAMS)\n",
    "ref_df = pd.concat(frames)\n",
    "ref_df.to_csv(f'{BASE_PATH}/general_plots/mj_sus_8_datasets_Seal_stats.csv')"
   ]
  },
  {
   "cell_type": "code",
   "execution_count": 15,
   "id": "fd98dd86",
   "metadata": {},
   "outputs": [
    {
     "name": "stdout",
     "output_type": "stream",
     "text": [
      "saving to seal_toss_reads_YNU_ManJav_2.0_Sscrofa11.1_GRCh38_Vero_normalized.png_df.csv\n"
     ]
    },
    {
     "data": {
      "image/png": "[encoded data removed]",
      "text/plain": [
       "<Figure size 576x432 with 1 Axes>"
      ]
     },
     "metadata": {
      "needs_background": "light"
     },
     "output_type": "display_data"
    }
   ],
   "source": [
    "y_scale='normalized'\n",
    "y_scale_txt = y_scale.replace(\"'\", \"\")\n",
    "file_name=f'seal_{ALN_PARAMS}_{ALN_TYPE}_{ALN_ABBR}_{y_scale_txt}.png'\n",
    "\n",
    "#title=f\"Seal: ManJav, ManPten, Human, Mouse [ambiguous={aln_params.split('_')[1]}], {y_scale_txt} and normalized scales\"\n",
    "#plot_flagtools_stackplots(frames, file_name, mapped_names, title, y_scale=y_scale, fig_width=12, save_fig=True)\n",
    "\n",
    "#title=f\"Seal: [ambiguous={ALN_PARAMS}], {y_scale_txt} scale\"\n",
    "title=''\n",
    "plot_flagtools_single_stackplots(frames, file_name, mapped_names, abbreviations, title, y_scale=y_scale, fig_width=len(SAMPLES), save_fig=False)"
   ]
  },
  {
   "cell_type": "code",
   "execution_count": 17,
   "id": "74f9f44e",
   "metadata": {},
   "outputs": [],
   "source": [
    "df_concatref=pd.read_csv(f'{BASE_PATH}/general_plots/sus_mj_concat_ref_stats.csv')"
   ]
  },
  {
   "cell_type": "code",
   "execution_count": 19,
   "id": "cd64ab2e",
   "metadata": {},
   "outputs": [
    {
     "data": {
      "text/html": [
       "<div>\n",
       "<style scoped>\n",
       "    .dataframe tbody tr th:only-of-type {\n",
       "        vertical-align: middle;\n",
       "    }\n",
       "\n",
       "    .dataframe tbody tr th {\n",
       "        vertical-align: top;\n",
       "    }\n",
       "\n",
       "    .dataframe thead th {\n",
       "        text-align: right;\n",
       "    }\n",
       "</style>\n",
       "<table border=\"1\" class=\"dataframe\">\n",
       "  <thead>\n",
       "    <tr style=\"text-align: right;\">\n",
       "      <th></th>\n",
       "      <th>SRA</th>\n",
       "      <th>Sus scrofa</th>\n",
       "      <th>MJ</th>\n",
       "      <th>min quality</th>\n",
       "      <th>MJ percentage</th>\n",
       "    </tr>\n",
       "  </thead>\n",
       "  <tbody>\n",
       "    <tr>\n",
       "      <th>0</th>\n",
       "      <td>SRR22936419</td>\n",
       "      <td>37180600</td>\n",
       "      <td>116686</td>\n",
       "      <td>20</td>\n",
       "      <td>0.312854</td>\n",
       "    </tr>\n",
       "    <tr>\n",
       "      <th>1</th>\n",
       "      <td>SRR22936420</td>\n",
       "      <td>130445860</td>\n",
       "      <td>360629</td>\n",
       "      <td>20</td>\n",
       "      <td>0.275697</td>\n",
       "    </tr>\n",
       "    <tr>\n",
       "      <th>2</th>\n",
       "      <td>SRR22936421</td>\n",
       "      <td>473838</td>\n",
       "      <td>79115536</td>\n",
       "      <td>20</td>\n",
       "      <td>99.404647</td>\n",
       "    </tr>\n",
       "    <tr>\n",
       "      <th>3</th>\n",
       "      <td>SRR22936422</td>\n",
       "      <td>399163</td>\n",
       "      <td>80895447</td>\n",
       "      <td>20</td>\n",
       "      <td>99.508992</td>\n",
       "    </tr>\n",
       "    <tr>\n",
       "      <th>4</th>\n",
       "      <td>SRR22936541</td>\n",
       "      <td>314506</td>\n",
       "      <td>81167913</td>\n",
       "      <td>20</td>\n",
       "      <td>99.614020</td>\n",
       "    </tr>\n",
       "    <tr>\n",
       "      <th>5</th>\n",
       "      <td>SRR22936544</td>\n",
       "      <td>543296</td>\n",
       "      <td>77834081</td>\n",
       "      <td>20</td>\n",
       "      <td>99.306820</td>\n",
       "    </tr>\n",
       "    <tr>\n",
       "      <th>6</th>\n",
       "      <td>SRR22936770</td>\n",
       "      <td>57430494</td>\n",
       "      <td>42903</td>\n",
       "      <td>20</td>\n",
       "      <td>0.074648</td>\n",
       "    </tr>\n",
       "    <tr>\n",
       "      <th>7</th>\n",
       "      <td>SRR22936773</td>\n",
       "      <td>48627934</td>\n",
       "      <td>51227</td>\n",
       "      <td>20</td>\n",
       "      <td>0.105234</td>\n",
       "    </tr>\n",
       "  </tbody>\n",
       "</table>\n",
       "</div>"
      ],
      "text/plain": [
       "           SRA  Sus scrofa        MJ  min quality  MJ percentage\n",
       "0  SRR22936419    37180600    116686           20       0.312854\n",
       "1  SRR22936420   130445860    360629           20       0.275697\n",
       "2  SRR22936421      473838  79115536           20      99.404647\n",
       "3  SRR22936422      399163  80895447           20      99.508992\n",
       "4  SRR22936541      314506  81167913           20      99.614020\n",
       "5  SRR22936544      543296  77834081           20      99.306820\n",
       "6  SRR22936770    57430494     42903           20       0.074648\n",
       "7  SRR22936773    48627934     51227           20       0.105234"
      ]
     },
     "execution_count": 19,
     "metadata": {},
     "output_type": "execute_result"
    }
   ],
   "source": [
    "SRAs=['SRR22936419','SRR22936420','SRR22936421','SRR22936422', 'SRR22936541','SRR22936544', 'SRR22936770', 'SRR22936773']\n",
    "SAMPLES=['PPeV-GX', 'HKU4-GX','P79-9', 'P70-9','M5-9','P44-9','FL16', 'FL13']\n",
    "\n",
    "df_concatref.head(n=10)"
   ]
  },
  {
   "cell_type": "code",
   "execution_count": 39,
   "id": "4360cd57",
   "metadata": {},
   "outputs": [
    {
     "name": "stdout",
     "output_type": "stream",
     "text": [
      "Pandas(Index=0, SRA='SRR22936419', _2=37180600, MJ=116686, _4=20, _5=0.312853862878924)\n",
      "Pandas(Index=1, SRA='SRR22936420', _2=130445860, MJ=360629, _4=20, _5=0.27569656731632003)\n",
      "Pandas(Index=2, SRA='SRR22936421', _2=473838, MJ=79115536, _4=20, _5=99.40464665546939)\n",
      "Pandas(Index=3, SRA='SRR22936422', _2=399163, MJ=80895447, _4=20, _5=99.5089920475663)\n",
      "Pandas(Index=4, SRA='SRR22936541', _2=314506, MJ=81167913, _4=20, _5=99.6140198046894)\n",
      "Pandas(Index=5, SRA='SRR22936544', _2=543296, MJ=77834081, _4=20, _5=99.30682038517321)\n",
      "Pandas(Index=6, SRA='SRR22936770', _2=57430494, MJ=42903, _4=20, _5=0.0746484499602486)\n",
      "Pandas(Index=7, SRA='SRR22936773', _2=48627934, MJ=51227, _4=20, _5=0.10523394189148)\n"
     ]
    },
    {
     "data": {
      "image/png": "[encoded data removed]",
      "text/plain": [
       "<Figure size 576x432 with 1 Axes>"
      ]
     },
     "metadata": {
      "needs_background": "light"
     },
     "output_type": "display_data"
    }
   ],
   "source": [
    "y_scale='normalized'\n",
    "file_name=f'concatref_{ALN_PARAMS}_{ALN_TYPE}_{ALN_ABBR}_{y_scale_txt}.png'\n",
    "title=''\n",
    "plot_concatref(df_concatref, file_name, mapped_names, title, y_scale='linear', fig_width=len(SAMPLES), save_fig=True)"
   ]
  },
  {
   "cell_type": "markdown",
   "id": "6c49ba07",
   "metadata": {},
   "source": [
    "#### Bamboo Rat"
   ]
  },
  {
   "cell_type": "code",
   "execution_count": 11,
   "id": "6d31a487",
   "metadata": {},
   "outputs": [],
   "source": [
    "\n",
    "\n",
    "#REF_LIST=[REF_NAME_S, REF_NAME_MJ, REF_NAME_H, REF_NAME_V]\n",
    "\n",
    "#for storing in filename\n",
    "REF_UID=\"RhiPru_1.0_Sscrofa11.1_GRCh38_Vero\"\n",
    "\n",
    "MATCH='unique'\n",
    "\n",
    "AMBIG='toss'\n",
    "\n",
    "\n",
    "mapped_names=['Sscrofa11.1', 'RhiPru_1.0', 'GRCh38.p13', 'Vero_WHO_p1.0']\n",
    "abbreviations=['Sus scrofa', 'Rhizomys pruinosus', 'Homo sapiens', 'Vero']"
   ]
  },
  {
   "cell_type": "code",
   "execution_count": null,
   "id": "a9fb9b58",
   "metadata": {},
   "outputs": [],
   "source": []
  },
  {
   "cell_type": "code",
   "execution_count": 12,
   "id": "25e1c2d4",
   "metadata": {},
   "outputs": [],
   "source": [
    "#alb_abbr='sus_mj'\n",
    "ALN_ABBR='RhiPru_1.0_Sscrofa11.1_GRCh38_Vero'\n",
    "ALN_EXT='MKF0.3_MKH3'\n",
    "ALN_PARAMS='toss'\n",
    "ALN_TYPE='reads'"
   ]
  },
  {
   "cell_type": "code",
   "execution_count": 13,
   "id": "62edd1d0",
   "metadata": {},
   "outputs": [],
   "source": [
    "PRJ='PRJNA901878'\n",
    "BASE_PATH = f'/mnt/8TB_2/Data/Assembly/{PRJ}/'"
   ]
  },
  {
   "cell_type": "code",
   "execution_count": 14,
   "id": "e37b407f",
   "metadata": {},
   "outputs": [],
   "source": [
    "SRAs=['SRR22936497']\n",
    "SAMPLES=['GX19-89']"
   ]
  },
  {
   "cell_type": "code",
   "execution_count": 15,
   "id": "4b5abd7d",
   "metadata": {},
   "outputs": [],
   "source": [
    "#save out semi proc data\n",
    "frames=refstats_df(mapped_names, ALN_ABBR, ALN_EXT, ALN_PARAMS)\n",
    "ref_df = pd.concat(frames)\n",
    "ref_df.to_csv(f'{BASE_PATH}/general_plots/SRR22936497_Seal_stats.csv')"
   ]
  },
  {
   "cell_type": "code",
   "execution_count": 59,
   "id": "661c3424",
   "metadata": {
    "scrolled": false
   },
   "outputs": [
    {
     "name": "stdout",
     "output_type": "stream",
     "text": [
      "saving to seal_toss_reads_RhiPru_1.0_Sscrofa11.1_GRCh38_Vero_normalized.png_df.csv\n"
     ]
    },
    {
     "data": {
      "image/png": "[encoded data removed]",
      "text/plain": [
       "<Figure size 72x432 with 1 Axes>"
      ]
     },
     "metadata": {
      "needs_background": "light"
     },
     "output_type": "display_data"
    }
   ],
   "source": [
    "y_scale='normalized'\n",
    "y_scale_txt = y_scale.replace(\"'\", \"\")\n",
    "file_name=f'seal_{ALN_PARAMS}_{ALN_TYPE}_{ALN_ABBR}_{y_scale_txt}.png'\n",
    "\n",
    "#title=f\"Seal: ManJav, ManPten, Human, Mouse [ambiguous={aln_params.split('_')[1]}], {y_scale_txt} and normalized scales\"\n",
    "#plot_flagtools_stackplots(frames, file_name, mapped_names, title, y_scale=y_scale, fig_width=12, save_fig=True)\n",
    "\n",
    "#title=f\"Seal: [ambiguous={ALN_PARAMS}], {y_scale_txt} scale\"\n",
    "title=''\n",
    "plot_flagtools_single_stackplots(frames, file_name, mapped_names, abbreviations, title, y_scale=y_scale, fig_width=len(SAMPLES), save_fig=True)"
   ]
  },
  {
   "cell_type": "code",
   "execution_count": 42,
   "id": "ac438c64",
   "metadata": {},
   "outputs": [],
   "source": [
    "#REF_LIST=[REF_NAME_S, REF_NAME_MJ, REF_NAME_H, REF_NAME_V]\n",
    "\n",
    "#for storing in filename\n",
    "REF_UID=\"RhiPru_1.0_Sscrofa11.1\"\n",
    "\n",
    "MATCH='unique'\n",
    "\n",
    "AMBIG='toss'\n",
    "\n",
    "\n",
    "mapped_names=['Sscrofa11.1', 'RhiPru_1.0']\n",
    "abbreviations=['Sus scrofa', 'Rhizomys pruinosus']"
   ]
  },
  {
   "cell_type": "code",
   "execution_count": 43,
   "id": "57134ae9",
   "metadata": {},
   "outputs": [],
   "source": [
    "#alb_abbr='sus_mj'\n",
    "ALN_ABBR='RhiPru_1.0_Sscrofa11.1'\n",
    "ALN_EXT='MKF0.3_MKH3'\n",
    "ALN_PARAMS='toss'\n",
    "ALN_TYPE='reads'"
   ]
  },
  {
   "cell_type": "code",
   "execution_count": 44,
   "id": "00c1e1d6",
   "metadata": {},
   "outputs": [],
   "source": [
    "df_concat_rp=pd.read_csv(f'{BASE_PATH}/general_plots/sus_rp_concat_ref_stats.csv')"
   ]
  },
  {
   "cell_type": "code",
   "execution_count": 45,
   "id": "7a233523",
   "metadata": {},
   "outputs": [
    {
     "data": {
      "text/html": [
       "<div>\n",
       "<style scoped>\n",
       "    .dataframe tbody tr th:only-of-type {\n",
       "        vertical-align: middle;\n",
       "    }\n",
       "\n",
       "    .dataframe tbody tr th {\n",
       "        vertical-align: top;\n",
       "    }\n",
       "\n",
       "    .dataframe thead th {\n",
       "        text-align: right;\n",
       "    }\n",
       "</style>\n",
       "<table border=\"1\" class=\"dataframe\">\n",
       "  <thead>\n",
       "    <tr style=\"text-align: right;\">\n",
       "      <th></th>\n",
       "      <th>SRA</th>\n",
       "      <th>Sus scrofa</th>\n",
       "      <th>RP</th>\n",
       "      <th>min quality</th>\n",
       "      <th>RP percentage</th>\n",
       "    </tr>\n",
       "  </thead>\n",
       "  <tbody>\n",
       "    <tr>\n",
       "      <th>0</th>\n",
       "      <td>SRR22936497</td>\n",
       "      <td>88118319</td>\n",
       "      <td>1010022</td>\n",
       "      <td>20</td>\n",
       "      <td>1.133222</td>\n",
       "    </tr>\n",
       "  </tbody>\n",
       "</table>\n",
       "</div>"
      ],
      "text/plain": [
       "           SRA  Sus scrofa       RP  min quality  RP percentage\n",
       "0  SRR22936497    88118319  1010022           20       1.133222"
      ]
     },
     "execution_count": 45,
     "metadata": {},
     "output_type": "execute_result"
    }
   ],
   "source": [
    "SRAs=['SRR22936497']\n",
    "SAMPLES=['GX19-89']\n",
    "\n",
    "df_concat_rp.head()"
   ]
  },
  {
   "cell_type": "code",
   "execution_count": 46,
   "id": "01786ec0",
   "metadata": {},
   "outputs": [
    {
     "name": "stdout",
     "output_type": "stream",
     "text": [
      "Pandas(Index=0, SRA='SRR22936497', _2=88118319, RP=1010022, _4=20, _5=1.13322203540174)\n"
     ]
    },
    {
     "data": {
      "image/png": "[encoded data removed]",
      "text/plain": [
       "<Figure size 72x432 with 1 Axes>"
      ]
     },
     "metadata": {
      "needs_background": "light"
     },
     "output_type": "display_data"
    }
   ],
   "source": [
    "y_scale='normalized'\n",
    "file_name=f'concatref_{ALN_PARAMS}_{ALN_TYPE}_{ALN_ABBR}_{y_scale_txt}.png'\n",
    "title=''\n",
    "plot_concatref(df_concat_rp, file_name, mapped_names, title, y_scale='linear', fig_width=len(SAMPLES), save_fig=True)"
   ]
  },
  {
   "cell_type": "markdown",
   "id": "0a630aee",
   "metadata": {},
   "source": [
    "## PRJCA002517 - MjHKU4-CoV-1-4"
   ]
  },
  {
   "cell_type": "code",
   "execution_count": null,
   "id": "7bc18b5d",
   "metadata": {},
   "outputs": [],
   "source": []
  },
  {
   "cell_type": "code",
   "execution_count": 47,
   "id": "b7c19e78",
   "metadata": {},
   "outputs": [],
   "source": [
    "\n",
    "\n",
    "#REF_LIST=[REF_NAME_S, REF_NAME_MJ, REF_NAME_H, REF_NAME_V]\n",
    "\n",
    "#for storing in filename\n",
    "REF_UID=\"YNU_ManJav_2.0_GRCh38_Vero\"\n",
    "\n",
    "MATCH='unique'\n",
    "\n",
    "AMBIG='toss'\n",
    "\n",
    "\n",
    "mapped_names=['YNU_ManJav_2.0', 'GRCh38.p13', 'Vero_WHO_p1.0']\n",
    "abbreviations=['Manis javanica', 'Homo sapiens', 'Vero']"
   ]
  },
  {
   "cell_type": "code",
   "execution_count": 48,
   "id": "a0d367b9",
   "metadata": {},
   "outputs": [],
   "source": [
    "#alb_abbr='sus_mj'\n",
    "ALN_ABBR='YNU_ManJav_2.0_GRCh38_Vero'\n",
    "ALN_EXT='MKF0.3_MKH3'\n",
    "ALN_PARAMS='toss'\n",
    "ALN_TYPE='reads'"
   ]
  },
  {
   "cell_type": "code",
   "execution_count": 49,
   "id": "38779710",
   "metadata": {},
   "outputs": [],
   "source": [
    "PRJ='PRJCA002517'\n",
    "BASE_PATH=f'/mnt/8TB_2/Data/Assembly/{PRJ}/'"
   ]
  },
  {
   "cell_type": "code",
   "execution_count": 50,
   "id": "5c82b1fc",
   "metadata": {},
   "outputs": [],
   "source": [
    "SRAs=['CRR477154','CRR477155','CRR477156','CRR477157']\n",
    "SAMPLES=['A96', 'A97','A98','A100']"
   ]
  },
  {
   "cell_type": "code",
   "execution_count": 67,
   "id": "67f92300",
   "metadata": {},
   "outputs": [],
   "source": [
    "#alternatively run with no sus scrofa\n",
    "#ALN_ABBR='YNU_ManJav_2.0_GRCh38_Vero'\n",
    "\n",
    "frames=refstats_df(mapped_names, ALN_ABBR, ALN_EXT, ALN_PARAMS)\n",
    "ref_df = pd.concat(frames)\n",
    "#ref_df.to_csv(f'{BASE_PATH}/general_plots/PRJNA573298_Seal_fig5_02052022.csv')"
   ]
  },
  {
   "cell_type": "code",
   "execution_count": 69,
   "id": "7422a2b8",
   "metadata": {},
   "outputs": [
    {
     "name": "stdout",
     "output_type": "stream",
     "text": [
      "saving to seal_toss_reads_YNU_ManJav_2.0_GRCh38_Vero_normalized.png_df.csv\n"
     ]
    },
    {
     "data": {
      "image/png": "[encoded data removed]",
      "text/plain": [
       "<Figure size 432x432 with 1 Axes>"
      ]
     },
     "metadata": {
      "needs_background": "light"
     },
     "output_type": "display_data"
    }
   ],
   "source": [
    "y_scale='normalized'\n",
    "y_scale_txt = y_scale.replace(\"'\", \"\")\n",
    "file_name=f'seal_{ALN_PARAMS}_{ALN_TYPE}_{ALN_ABBR}_{y_scale_txt}.png'\n",
    "\n",
    "#title=f\"Seal: ManJav, ManPten, Human, Mouse [ambiguous={aln_params.split('_')[1]}], {y_scale_txt} and normalized scales\"\n",
    "#plot_flagtools_stackplots(frames, file_name, mapped_names, title, y_scale=y_scale, fig_width=12, save_fig=True)\n",
    "\n",
    "#title=f\"Seal: [ambiguous={ALN_PARAMS}], {y_scale_txt} scale\"\n",
    "title=''\n",
    "plot_flagtools_single_stackplots(frames, file_name, mapped_names, abbreviations, title, y_scale=y_scale, fig_width=len(SAMPLES)*1.5, save_fig=True)"
   ]
  },
  {
   "cell_type": "code",
   "execution_count": 95,
   "id": "db5e9963",
   "metadata": {},
   "outputs": [],
   "source": [
    "def plot_concatref3(df, file_name, mapped_names, title, legend_order, y_scale='log', fig_width=12, save_fig=False):\n",
    "    \n",
    "    sras=[]\n",
    "    vero_pcts=[]\n",
    "    mj_pcts=[]\n",
    "    hs_pcts=[]\n",
    "    names=[]\n",
    "    for row in df.itertuples():\n",
    "        sra = row[1]\n",
    "        idx=SRAs.index(sra)\n",
    "        name=SAMPLES[idx]\n",
    "        vero= row[2]\n",
    "        mj = row[3]\n",
    "        hs = row[4]\n",
    "        total=vero+mj+hs\n",
    "        pct_v=(vero/total)*100\n",
    "        pct_mj=(mj/total)*100\n",
    "        pct_hs=(hs/total)*100\n",
    "        names.append(name)\n",
    "        vero_pcts.append(pct_v)\n",
    "        mj_pcts.append(pct_mj)\n",
    "        hs_pcts.append(pct_hs)\n",
    "        sras.append(sra)\n",
    "        \n",
    "    y0=np.array(mj_pcts)\n",
    "    y1=np.array(hs_pcts)\n",
    "    y2=np.array(vero_pcts)\n",
    "\n",
    "    #fig, axes = plt.subplots(nrows=1, ncols=2, figsize=(fig_width, 6))\n",
    "    plt.rcParams[\"figure.figsize\"] = (fig_width,6)\n",
    "    plt.bar(sras, y0, color='#FAC748')\n",
    "    plt.bar(sras, y1, bottom=y0, color='skyblue') \n",
    "    plt.bar(sras, y2, bottom=y0+y1, color='#1D2F6F')\n",
    "\n",
    "\n",
    "    plt.ylabel('percent')\n",
    "    if y_scale=='log':\n",
    "        plt.yscale('log')\n",
    "    elif y_scale=='linear':\n",
    "        plt.ylim(0,105)\n",
    "    plt.legend(legend_order, loc=(1.05, 0.7))\n",
    "    ax = plt.axes()\n",
    "    ax.set_xticklabels(names)\n",
    "    plt.tick_params(axis='x', rotation=90)\n",
    "\n",
    "\n",
    "    plt.title(title)\n",
    "    plt.tight_layout()\n",
    "    if save_fig:\n",
    "        plt.savefig(f'{BASE_PATH}/general_plots/{file_name}', bbox_inches='tight')"
   ]
  },
  {
   "cell_type": "code",
   "execution_count": 96,
   "id": "922c34a9",
   "metadata": {},
   "outputs": [],
   "source": [
    "df_concatref=pd.read_csv(f'{BASE_PATH}/general_plots/v_mj_hu_concat_ref_stats.csv')"
   ]
  },
  {
   "cell_type": "code",
   "execution_count": 97,
   "id": "4d6cc5c0",
   "metadata": {},
   "outputs": [
    {
     "data": {
      "text/html": [
       "<div>\n",
       "<style scoped>\n",
       "    .dataframe tbody tr th:only-of-type {\n",
       "        vertical-align: middle;\n",
       "    }\n",
       "\n",
       "    .dataframe tbody tr th {\n",
       "        vertical-align: top;\n",
       "    }\n",
       "\n",
       "    .dataframe thead th {\n",
       "        text-align: right;\n",
       "    }\n",
       "</style>\n",
       "<table border=\"1\" class=\"dataframe\">\n",
       "  <thead>\n",
       "    <tr style=\"text-align: right;\">\n",
       "      <th></th>\n",
       "      <th>SRA</th>\n",
       "      <th>Vero</th>\n",
       "      <th>MJ</th>\n",
       "      <th>HS</th>\n",
       "      <th>min quality</th>\n",
       "      <th>MJ percentage</th>\n",
       "    </tr>\n",
       "  </thead>\n",
       "  <tbody>\n",
       "    <tr>\n",
       "      <th>0</th>\n",
       "      <td>CRR477154</td>\n",
       "      <td>1127064</td>\n",
       "      <td>86045523</td>\n",
       "      <td>34158</td>\n",
       "      <td>20</td>\n",
       "      <td>98.668426</td>\n",
       "    </tr>\n",
       "    <tr>\n",
       "      <th>1</th>\n",
       "      <td>CRR477155</td>\n",
       "      <td>882926</td>\n",
       "      <td>27410251</td>\n",
       "      <td>1000660</td>\n",
       "      <td>20</td>\n",
       "      <td>93.570026</td>\n",
       "    </tr>\n",
       "    <tr>\n",
       "      <th>2</th>\n",
       "      <td>CRR477156</td>\n",
       "      <td>248833</td>\n",
       "      <td>88326100</td>\n",
       "      <td>315739</td>\n",
       "      <td>20</td>\n",
       "      <td>99.364869</td>\n",
       "    </tr>\n",
       "    <tr>\n",
       "      <th>3</th>\n",
       "      <td>CRR477157</td>\n",
       "      <td>2364622</td>\n",
       "      <td>165666</td>\n",
       "      <td>2260338</td>\n",
       "      <td>20</td>\n",
       "      <td>3.458128</td>\n",
       "    </tr>\n",
       "  </tbody>\n",
       "</table>\n",
       "</div>"
      ],
      "text/plain": [
       "         SRA     Vero        MJ       HS  min quality  MJ percentage\n",
       "0  CRR477154  1127064  86045523    34158           20      98.668426\n",
       "1  CRR477155   882926  27410251  1000660           20      93.570026\n",
       "2  CRR477156   248833  88326100   315739           20      99.364869\n",
       "3  CRR477157  2364622    165666  2260338           20       3.458128"
      ]
     },
     "execution_count": 97,
     "metadata": {},
     "output_type": "execute_result"
    }
   ],
   "source": [
    "SRAs=['CRR477154','CRR477155','CRR477156','CRR477157']\n",
    "SAMPLES=['A96', 'A97','A98','A100']\n",
    "\n",
    "df_concatref.head(n=10)"
   ]
  },
  {
   "cell_type": "code",
   "execution_count": 98,
   "id": "d034d05d",
   "metadata": {},
   "outputs": [
    {
     "data": {
      "image/png": "[encoded data removed]",
      "text/plain": [
       "<Figure size 432x432 with 1 Axes>"
      ]
     },
     "metadata": {
      "needs_background": "light"
     },
     "output_type": "display_data"
    }
   ],
   "source": [
    "y_scale='normalized'\n",
    "file_name=f'concatref_{ALN_PARAMS}_{ALN_TYPE}_{ALN_ABBR}_{y_scale_txt}.png'\n",
    "title=''\n",
    "legend_order=['Manis javanica', 'Homo sapiens', 'Vero']\n",
    "plot_concatref3(df_concatref, file_name, mapped_names, title, legend_order, y_scale='linear', fig_width=len(SAMPLES)*1.5, save_fig=True)"
   ]
  },
  {
   "cell_type": "code",
   "execution_count": null,
   "id": "193ae3f9",
   "metadata": {},
   "outputs": [],
   "source": []
  },
  {
   "cell_type": "markdown",
   "id": "450497b7",
   "metadata": {},
   "source": [
    "#### With sus scrofa\n"
   ]
  },
  {
   "cell_type": "code",
   "execution_count": 70,
   "id": "673ac401",
   "metadata": {},
   "outputs": [],
   "source": [
    "mapped_names=['Sscrofa11.1','YNU_ManJav_2.0',  'GRCh38.p13', 'Vero_WHO_p1.0']\n",
    "abbreviations=['Sus scrofa', 'Manis javanica', 'Homo sapiens', 'Vero']\n",
    "ALN_ABBR='YNU_ManJav_2.0_Sscrofa11.1_GRCh38_Vero'\n",
    "\n",
    "frames=refstats_df(mapped_names, ALN_ABBR, ALN_EXT, ALN_PARAMS)\n",
    "ref_df = pd.concat(frames)\n",
    "#ref_df.to_csv(f'{BASE_PATH}/general_plots/PRJNA573298_Seal_fig5_02052022.csv')"
   ]
  },
  {
   "cell_type": "code",
   "execution_count": 72,
   "id": "abe91b5b",
   "metadata": {},
   "outputs": [
    {
     "name": "stdout",
     "output_type": "stream",
     "text": [
      "saving to seal_toss_reads_YNU_ManJav_2.0_Sscrofa11.1_GRCh38_Vero_normalized.png_df.csv\n"
     ]
    },
    {
     "data": {
      "image/png": "[encoded data removed]",
      "text/plain": [
       "<Figure size 432x432 with 1 Axes>"
      ]
     },
     "metadata": {
      "needs_background": "light"
     },
     "output_type": "display_data"
    }
   ],
   "source": [
    "y_scale='normalized'\n",
    "y_scale_txt = y_scale.replace(\"'\", \"\")\n",
    "file_name=f'seal_{ALN_PARAMS}_{ALN_TYPE}_{ALN_ABBR}_{y_scale_txt}.png'\n",
    "\n",
    "#title=f\"Seal: ManJav, ManPten, Human, Mouse [ambiguous={aln_params.split('_')[1]}], {y_scale_txt} and normalized scales\"\n",
    "#plot_flagtools_stackplots(frames, file_name, mapped_names, title, y_scale=y_scale, fig_width=12, save_fig=True)\n",
    "\n",
    "#title=f\"Seal: [ambiguous={ALN_PARAMS}], {y_scale_txt} scale\"\n",
    "title=''\n",
    "plot_flagtools_single_stackplots(frames, file_name, mapped_names, abbreviations, title, y_scale=y_scale, fig_width=len(SAMPLES)*1.5, save_fig=True)"
   ]
  },
  {
   "cell_type": "markdown",
   "id": "5278c788",
   "metadata": {},
   "source": [
    "## PRJNA845961 - P251T  - wait for MT alignments then re-reun on more"
   ]
  },
  {
   "cell_type": "code",
   "execution_count": 85,
   "id": "8ecb3c4e",
   "metadata": {},
   "outputs": [],
   "source": [
    "PRJ='PRJNA845961'\n",
    "BASE_PATH=f'/mnt/8TB_1/Data/Assembly/{PRJ}/'"
   ]
  },
  {
   "cell_type": "code",
   "execution_count": 37,
   "id": "7ae44cba",
   "metadata": {},
   "outputs": [],
   "source": [
    "SRAs=['SRR19632971','SRR19633001']\n",
    "SAMPLES=['P251T', 'P219T']"
   ]
  },
  {
   "cell_type": "code",
   "execution_count": 38,
   "id": "216bfc0a",
   "metadata": {},
   "outputs": [],
   "source": [
    "mapped_names=['YNU_ManJav_2.0', 'GRCh38.p13', 'Vero_WHO_p1.0']\n",
    "abbreviations=['Manis javanica', 'Homo sapiens', 'Vero']\n",
    "ALN_ABBR='YNU_ManJav_2.0_GRCh38_Vero'\n",
    "\n",
    "\n",
    "#save out semi proc data\n",
    "frames=refstats_df(mapped_names, ALN_ABBR, ALN_EXT, ALN_PARAMS)\n",
    "ref_df = pd.concat(frames)\n",
    "#ref_df.to_csv(f'{BASE_PATH}/general_plots/PRJNA573298_Seal_fig5_02052022.csv')"
   ]
  },
  {
   "cell_type": "code",
   "execution_count": 40,
   "id": "e74d70f6",
   "metadata": {},
   "outputs": [
    {
     "name": "stdout",
     "output_type": "stream",
     "text": [
      "saving to seal_toss_reads_YNU_ManJav_2.0_GRCh38_Vero_normalized.png_df.csv\n"
     ]
    },
    {
     "data": {
      "image/png": "[encoded data removed]",
      "text/plain": [
       "<Figure size 280.8x432 with 1 Axes>"
      ]
     },
     "metadata": {
      "needs_background": "light"
     },
     "output_type": "display_data"
    }
   ],
   "source": [
    "y_scale='normalized'\n",
    "y_scale_txt = y_scale.replace(\"'\", \"\")\n",
    "file_name=f'seal_{ALN_PARAMS}_{ALN_TYPE}_{ALN_ABBR}_{y_scale_txt}.png'\n",
    "\n",
    "#title=f\"Seal: ManJav, ManPten, Human, Mouse [ambiguous={aln_params.split('_')[1]}], {y_scale_txt} and normalized scales\"\n",
    "#plot_flagtools_stackplots(frames, file_name, mapped_names, title, y_scale=y_scale, fig_width=12, save_fig=True)\n",
    "\n",
    "#title=f\"Seal: [ambiguous={ALN_PARAMS}], {y_scale_txt} scale\"\n",
    "title=''\n",
    "plot_flagtools_single_stackplots(frames, file_name, mapped_names, abbreviations, title, y_scale=y_scale, fig_width=len(SAMPLES)*1.5, save_fig=True)"
   ]
  },
  {
   "cell_type": "code",
   "execution_count": 86,
   "id": "f646ddde",
   "metadata": {},
   "outputs": [
    {
     "name": "stdout",
     "output_type": "stream",
     "text": [
      "saving to seal_toss_reads_YNU_ManJav_2.0_mChoDid1_GRCh38_Vero_normalized.png_df.csv\n"
     ]
    },
    {
     "data": {
      "image/png": "[encoded data removed]",
      "text/plain": [
       "<Figure size 324x432 with 1 Axes>"
      ]
     },
     "metadata": {
      "needs_background": "light"
     },
     "output_type": "display_data"
    }
   ],
   "source": [
    "SRAs=['SRR19632971', 'SRR19632976', 'SRR19632991']\n",
    "SAMPLES=['P251T', 'P245T', 'P230T']\n",
    "\n",
    "\n",
    "#for storing in filename\n",
    "REF_UID=\"YNU_ManJav_2.0_mChoDid1_GRCh38_Vero\"\n",
    "\n",
    "mapped_names=['YNU_ManJav_2.0', 'mChoDid1.pri', 'GRCh38.p13', 'Vero_WHO_p1.0']\n",
    "abbreviations=['Manis javanica', 'Choloepus didactylus', 'Homo sapiens', 'Vero']\n",
    "ALN_ABBR=\"YNU_ManJav_2.0_mChoDid1_GRCh38_Vero\"\n",
    "\n",
    "\n",
    "#save out semi proc data\n",
    "frames=refstats_df(mapped_names, ALN_ABBR, ALN_EXT, ALN_PARAMS)\n",
    "ref_df = pd.concat(frames)\n",
    "#ref_df.to_csv(f'{BASE_PATH}/general_plots/PRJNA573298_Seal_fig5_02052022.csv')\n",
    "y_scale='normalized'\n",
    "y_scale_txt = y_scale.replace(\"'\", \"\")\n",
    "file_name=f'seal_{ALN_PARAMS}_{ALN_TYPE}_{ALN_ABBR}_{y_scale_txt}.png'\n",
    "\n",
    "#title=f\"Seal: ManJav, ManPten, Human, Mouse [ambiguous={aln_params.split('_')[1]}], {y_scale_txt} and normalized scales\"\n",
    "#plot_flagtools_stackplots(frames, file_name, mapped_names, title, y_scale=y_scale, fig_width=12, save_fig=True)\n",
    "\n",
    "#title=f\"Seal: [ambiguous={ALN_PARAMS}], {y_scale_txt} scale\"\n",
    "title=''\n",
    "plot_flagtools_single_stackplots(frames, file_name, mapped_names, abbreviations, title, y_scale=y_scale, fig_width=len(SAMPLES)*1.5, save_fig=True)"
   ]
  },
  {
   "cell_type": "markdown",
   "id": "7f1678aa",
   "metadata": {},
   "source": [
    "## PRJNA747757 - HKU4-BGI-2020"
   ]
  },
  {
   "cell_type": "code",
   "execution_count": 79,
   "id": "8c7b3060",
   "metadata": {},
   "outputs": [],
   "source": [
    "REF_LIST=[REF_NAME_MJ, REF_NAME_G, REF_NAME_C]\n",
    "\n",
    "#for storing in filename\n",
    "REF_UID=\"CapAeg_1.0_YNU_ManJav_2.0_Fca126_mat1.0\"\n",
    "\n",
    "#'Sscrofa11.1',\n",
    "\n",
    "MATCH='unique'\n",
    "\n",
    "AMBIG='toss'\n",
    "\n",
    "mapped_names=['CapAeg_1.0', 'YNU_ManJav_2.0', 'Fca126_mat1.0']\n",
    "abbreviations=['Capra aegagrus', 'Manis javanica', 'Felis catus']"
   ]
  },
  {
   "cell_type": "code",
   "execution_count": 80,
   "id": "d850df41",
   "metadata": {},
   "outputs": [],
   "source": [
    "#alb_abbr='sus_mj'\n",
    "ALN_ABBR='CapAeg_1.0_YNU_ManJav_2.0_Fca126_mat1.0'\n",
    "ALN_EXT='MKF0.3_MKH3'\n",
    "ALN_PARAMS='toss'\n",
    "ALN_TYPE='reads'"
   ]
  },
  {
   "cell_type": "code",
   "execution_count": 81,
   "id": "15240aee",
   "metadata": {},
   "outputs": [],
   "source": [
    "PRJ='PRJNA747757'\n",
    "BASE_PATH=f'/mnt/8TB_2/Data/Assembly/{PRJ}/'"
   ]
  },
  {
   "cell_type": "code",
   "execution_count": 82,
   "id": "1bf3fb95",
   "metadata": {},
   "outputs": [],
   "source": [
    "SRAs=['SRR15199668','SRR15199672' , 'SRR15199667', 'SRR15199670', 'SRR15199671', 'SRR15199665', 'SRR15199666' , 'SRR15199663','SRR15199669',\\\n",
    "     'SRR15199675','SRR15199660','SRR15199676','SRR15199661','SRR15199664','SRR15199659']\n",
    "SAMPLES=['PGN_LG', 'PGN_DM','PGN_LI','PGN_HT','PGN_ES','PGN_SH','PGN_LR', 'PGN_SN','PGN_KY','CT_ES','CT_LG','CT_ED','CT_KY','CT_HT','CT_LR']"
   ]
  },
  {
   "cell_type": "code",
   "execution_count": 83,
   "id": "7cc72616",
   "metadata": {},
   "outputs": [],
   "source": [
    "#save out semi proc data\n",
    "frames=refstats_df(mapped_names, ALN_ABBR, ALN_EXT, ALN_PARAMS)\n",
    "ref_df = pd.concat(frames)\n",
    "#ref_df.to_csv(f'{BASE_PATH}/general_plots/PRJNA573298_Seal_fig5_02052022.csv')"
   ]
  },
  {
   "cell_type": "code",
   "execution_count": 84,
   "id": "701daaa2",
   "metadata": {},
   "outputs": [
    {
     "name": "stdout",
     "output_type": "stream",
     "text": [
      "saving to seal_toss_reads_CapAeg_1.0_YNU_ManJav_2.0_Fca126_mat1.0_normalized.png_df.csv\n"
     ]
    },
    {
     "data": {
      "image/png": "[encoded data removed]",
      "text/plain": [
       "<Figure size 1080x432 with 1 Axes>"
      ]
     },
     "metadata": {
      "needs_background": "light"
     },
     "output_type": "display_data"
    }
   ],
   "source": [
    "y_scale='normalized'\n",
    "y_scale_txt = y_scale.replace(\"'\", \"\")\n",
    "file_name=f'seal_{ALN_PARAMS}_{ALN_TYPE}_{ALN_ABBR}_{y_scale_txt}.png'\n",
    "\n",
    "#title=f\"Seal: ManJav, ManPten, Human, Mouse [ambiguous={aln_params.split('_')[1]}], {y_scale_txt} and normalized scales\"\n",
    "#plot_flagtools_stackplots(frames, file_name, mapped_names, title, y_scale=y_scale, fig_width=12, save_fig=True)\n",
    "\n",
    "#title=f\"Seal: [ambiguous={ALN_PARAMS}], {y_scale_txt} scale\"\n",
    "title=''\n",
    "plot_flagtools_single_stackplots(frames, file_name, mapped_names, abbreviations, title, y_scale=y_scale, fig_width=len(SAMPLES), save_fig=True)"
   ]
  }
 ],
 "metadata": {
  "kernelspec": {
   "display_name": "Python 3",
   "language": "python",
   "name": "python3"
  },
  "language_info": {
   "codemirror_mode": {
    "name": "ipython",
    "version": 3
   },
   "file_extension": ".py",
   "mimetype": "text/x-python",
   "name": "python",
   "nbconvert_exporter": "python",
   "pygments_lexer": "ipython3",
   "version": "3.6.15"
  }
 },
 "nbformat": 4,
 "nbformat_minor": 5
}
