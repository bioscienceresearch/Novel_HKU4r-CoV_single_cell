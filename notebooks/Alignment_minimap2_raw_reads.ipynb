{
 "cells": [
  {
   "cell_type": "code",
   "execution_count": null,
   "id": "generic-tsunami",
   "metadata": {},
   "outputs": [],
   "source": [
    "import pathlib\n",
    "import subprocess\n",
    "import os\n",
    "import pandas as pd"
   ]
  },
  {
   "cell_type": "code",
   "execution_count": null,
   "id": "casual-spring",
   "metadata": {},
   "outputs": [],
   "source": [
    "from IPython.core.display import display, HTML\n",
    "display(HTML(\"<style>.container { width:95% !important; }</style>\"))"
   ]
  },
  {
   "cell_type": "code",
   "execution_count": null,
   "id": "e9345d53-9a51-4965-83e8-4ecb709565c0",
   "metadata": {},
   "outputs": [],
   "source": [
    "import warnings\n",
    "warnings.filterwarnings('ignore')\n",
    "warnings.simplefilter('ignore')"
   ]
  },
  {
   "cell_type": "markdown",
   "id": "37052967",
   "metadata": {},
   "source": [
    "### Read alignment using Minimap2"
   ]
  },
  {
   "cell_type": "code",
   "execution_count": null,
   "id": "7ab23e2e",
   "metadata": {},
   "outputs": [],
   "source": [
    "def log_cmd(log_file, cmd, file_opt='a'):\n",
    "    try:\n",
    "        f = open(log_file, file_opt)\n",
    "        f.write(cmd)\n",
    "        f.write('\\n')\n",
    "        f.close()\n",
    "    except Exception as e:\n",
    "        raise RuntimeError(\"command '{}' return with error (code {}): {}\".format(e.cmd, e.returncode, e.output))"
   ]
  },
  {
   "cell_type": "code",
   "execution_count": null,
   "id": "d31473f1-a465-44ea-801d-47543c3ba642",
   "metadata": {},
   "outputs": [],
   "source": [
    "def run_minimap2(fastq_1, fastq_2, alignment_path, sra, sra_r=None):\n",
    "    if sra_r:\n",
    "        out_file= f\"{alignment_path}{sra}_{ALIGN_OPTS_NAME}_{ALIGN_NAME}{sra_r}_minimap2.sam\"\n",
    "    else:\n",
    "        out_file= f\"{alignment_path}{sra}_{ALIGN_OPTS_NAME}_{ALIGN_NAME}_minimap2.sam\"\n",
    "    try:\n",
    "        cmd = f\"{MINIMAP2_PATH}minimap2 {MINIMAP_PARAMS} -a {REF_PATH+REF_NAME} {fastq_1} {fastq_2} >{out_file} \"\n",
    "        subprocess.check_call(cmd, shell=True)\n",
    "    except subprocess.CalledProcessError as e:\n",
    "        raise RuntimeError(\"command '{}' return with error (code {}): {}\".format(e.cmd, e.returncode, e.output))\n",
    "    log_file=out_file.split('.sam')[0]+'_log.txt'\n",
    "    log_cmd(log_file, cmd, file_opt='w')\n",
    "    return out_file"
   ]
  },
  {
   "cell_type": "code",
   "execution_count": null,
   "id": "fitted-function",
   "metadata": {},
   "outputs": [],
   "source": [
    "def gatk_sort(bwa_mem_out):\n",
    "    out_file=bwa_mem_out.split('.sam')[0]\n",
    "    out_file=out_file+'_gatk_sorted.sam'\n",
    "    try:\n",
    "        cmd=f\"java -jar {GATK_JAR}  SortSam INPUT={bwa_mem_out} OUTPUT={out_file} SORT_ORDER=coordinate VALIDATION_STRINGENCY=SILENT\"\n",
    "        subprocess.check_call(cmd, shell=True)\n",
    "    except subprocess.CalledProcessError as e:\n",
    "        raise RuntimeError(\"command '{}' return with error (code {}): {}\".format(e.cmd, e.returncode, e.output))\n",
    "    return out_file"
   ]
  },
  {
   "cell_type": "code",
   "execution_count": null,
   "id": "welcome-catch",
   "metadata": {},
   "outputs": [],
   "source": [
    "def gatk_metrics(gatk_out):\n",
    "    gatk_file=gatk_out.split('.sam')[0]\n",
    "    out_file=gatk_file+'_marked.bam'\n",
    "    metrics_file=gatk_file+'_metrics.txt'\n",
    "    try:\n",
    "        cmd=f\"java -Xmx64G -jar {GATK_JAR}  MarkDuplicates INPUT={gatk_out} OUTPUT={out_file} METRICS_FILE={metrics_file} ASSUME_SORTED=true VALIDATION_STRINGENCY=SILENT\"\n",
    "        subprocess.check_call(cmd, shell=True)\n",
    "    except subprocess.CalledProcessError as e:\n",
    "        raise RuntimeError(\"command '{}' return with error (code {}): {}\".format(e.cmd, e.returncode, e.output))\n",
    "    return out_file"
   ]
  },
  {
   "cell_type": "code",
   "execution_count": null,
   "id": "welsh-development",
   "metadata": {},
   "outputs": [],
   "source": [
    "def index_bam(gatk_bam_file):\n",
    "    try:\n",
    "        cmd=f\"{SAMTOOLS_PATH}samtools index {gatk_bam_file}\"\n",
    "        subprocess.check_call(cmd, shell=True)\n",
    "    except subprocess.CalledProcessError as e:\n",
    "        raise RuntimeError(\"command '{}' return with error (code {}): {}\".format(e.cmd, e.returncode, e.output))"
   ]
  },
  {
   "cell_type": "code",
   "execution_count": null,
   "id": "seven-patient",
   "metadata": {},
   "outputs": [],
   "source": [
    "def run_fastp(in_1, in_2):\n",
    "    print('processing with fastp')\n",
    "    out_1=in_1.split('.fq')[0]+'_fastp.fq'\n",
    "    out_2=in_2.split('.fq')[0]+'_fastp.fq'\n",
    "    cmd = f\"fastp --in1 {in_1} --in2 {in_2} --out1 {out_1} --out2 {out_2}\"\n",
    "    subprocess.check_call(cmd, shell=True)\n",
    "    return out_1, out_2\n",
    "    "
   ]
  },
  {
   "cell_type": "code",
   "execution_count": null,
   "id": "canadian-natural",
   "metadata": {},
   "outputs": [],
   "source": [
    "def remove_file(file_to_del):\n",
    "    cmd = f\"rm {file_to_del}\"\n",
    "    subprocess.check_call(cmd, shell=True)\n",
    "    "
   ]
  },
  {
   "cell_type": "code",
   "execution_count": null,
   "id": "interior-gabriel",
   "metadata": {},
   "outputs": [],
   "source": [
    "def create_bed(fasta_file, bed_file):\n",
    "    cmd=f'faidx --transform bed {fasta_file} > {bed_file}'\n",
    "    subprocess.check_call(cmd, shell=True)"
   ]
  },
  {
   "cell_type": "code",
   "execution_count": null,
   "id": "entertaining-trouble",
   "metadata": {},
   "outputs": [],
   "source": [
    "def run_bamdst(bed_file, out_path, bam_in):\n",
    "    try:\n",
    "        cmd=f'{BAMDST_PATH}bamdst -p {bed_file} -o {out_path} {bam_in}'\n",
    "        subprocess.check_call(cmd, shell=True)\n",
    "    except subprocess.CalledProcessError as e:\n",
    "        print(\"command '{}' return with error (code {}): {}\".format(e.cmd, e.returncode, e.output))"
   ]
  },
  {
   "cell_type": "code",
   "execution_count": null,
   "id": "minute-lighter",
   "metadata": {},
   "outputs": [],
   "source": [
    "def run_bamstats(bam_file, stats_out):\n",
    "    try:\n",
    "        cmd=f'java -Xmx48g -Djava.awt.headless=true -jar ~/apps/BAMStats-1.25/BAMStats-1.25.jar -i {bam_file} -m -q -o {stats_out}'\n",
    "        subprocess.check_call(cmd, shell=True)\n",
    "    except subprocess.CalledProcessError as e:\n",
    "        print(\"command '{}' return with error (code {}): {}\".format(e.cmd, e.returncode, e.output))"
   ]
  },
  {
   "cell_type": "code",
   "execution_count": null,
   "id": "200952db",
   "metadata": {},
   "outputs": [],
   "source": [
    "def bam_to_bed(gatk_bam_file):\n",
    "    bed_file=gatk_bam_file.split('.bam')[0]+'.bed'\n",
    "    cmd=f'{BEDTOOLS_PATH}bedtools bamtobed -i {gatk_bam_file} >{bed_file}'\n",
    "    subprocess.check_call(cmd, shell=True)"
   ]
  },
  {
   "cell_type": "code",
   "execution_count": null,
   "id": "ecb5e526",
   "metadata": {},
   "outputs": [],
   "source": [
    "def run_samtools_stats(gatk_bam_file, ref_genome):\n",
    "    bam_path_root=gatk_bam_file.split('.bam')[0]\n",
    "    sam_out=bam_path_root+'_samtools_stats.txt'\n",
    "    cmd=f'{SAMTOOLS_PATH}samtools stats {gatk_bam_file} --reference {ref_genome} >{sam_out}'\n",
    "    subprocess.check_call(cmd, shell=True)"
   ]
  },
  {
   "cell_type": "code",
   "execution_count": null,
   "id": "e062794a",
   "metadata": {},
   "outputs": [],
   "source": [
    "def run_flagtools(gatk_bam_file):\n",
    "    bam_path_root=gatk_bam_file.split('.bam')[0]\n",
    "    flagstat_file=bam_path_root+'_flagtools.txt'\n",
    "    cmd=f'{SAMTOOLS_PATH}samtools flagstat {gatk_bam_file} >{flagstat_file}'\n",
    "    subprocess.check_call(cmd, shell=True)"
   ]
  },
  {
   "cell_type": "code",
   "execution_count": null,
   "id": "d7b6b963",
   "metadata": {},
   "outputs": [],
   "source": [
    "def run_idxstats(gatk_bam_file, flagstat_file):\n",
    "    cmd=f\"{SAMTOOLS_PATH}samtools idxstats {gatk_bam_file} >{flagstat_file}\"\n",
    "    try: \n",
    "        subprocess.check_call(cmd, shell=True)\n",
    "    except subprocess.CalledProcessError as e:\n",
    "        print(\"command '{}' return with error (code {}): {}\".format(e.cmd, e.returncode, e.output))"
   ]
  },
  {
   "cell_type": "code",
   "execution_count": null,
   "id": "ad4a50bf",
   "metadata": {},
   "outputs": [],
   "source": [
    "def samtools_sort(file_to_sort, out_type='BAM'):\n",
    "    out_file=file_to_sort.split('.sam')[0]\n",
    "    if out_type=='BAM':\n",
    "        out_file=out_file+'_sorted.bam'\n",
    "    else:\n",
    "        out_file=out_file+'_sorted.sam'\n",
    "    cmd=f'{SAMTOOLS_PATH}samtools sort -O {out_type} -o {out_file} {file_to_sort}'\n",
    "    try:\n",
    "        subprocess.check_call(cmd, shell=True)\n",
    "    except subprocess.CalledProcessError as e:\n",
    "        raise RuntimeError(\"command '{}' return with error (code {}): {}\".format(e.cmd, e.returncode, e.output))\n",
    "    return out_file"
   ]
  },
  {
   "cell_type": "code",
   "execution_count": null,
   "id": "142e94bd",
   "metadata": {},
   "outputs": [],
   "source": [
    "def samtoos_coverage(in_file):\n",
    "    out_file=in_file.split('.sam')[0]\n",
    "    out_file=out_file+'_coverage.txt'\n",
    "    cmd=f'{SAMTOOLS_PATH}samtools coverage {in_file} -o {out_file}'\n",
    "    try:\n",
    "        subprocess.check_call(cmd, shell=True)\n",
    "    except subprocess.CalledProcessError as e:\n",
    "        raise RuntimeError(\"command '{}' return with error (code {}): {}\".format(e.cmd, e.returncode, e.output))"
   ]
  },
  {
   "cell_type": "code",
   "execution_count": null,
   "id": "upper-confidence",
   "metadata": {},
   "outputs": [],
   "source": [
    "def prep_bed(create=True):\n",
    "    fasta_file=REF_PATH+REF_NAME\n",
    "    bed_file=REF_PATH+'bed/'+REF_NAME.split('.fa')[0]+'.bed'\n",
    "    pathlib.Path(REF_PATH+'bed/').mkdir(exist_ok=True)\n",
    "    if create:\n",
    "        create_bed(fasta_file, bed_file)\n",
    "    return bed_file"
   ]
  },
  {
   "cell_type": "code",
   "execution_count": null,
   "id": "f2dd9c61",
   "metadata": {},
   "outputs": [],
   "source": [
    "def bam_to_fastq():\n",
    "    ref=REF_NAME.split('.fa')[0]\n",
    "    for idx, sra in enumerate(SRAs):\n",
    "        alignment_path=PRJ_OUT_PATH+sra+'/minimap2/'\n",
    "        #SRR10168373_reads_mitochondria_mamals_1_local_G_298_0_minimap2_gatk_sorted_marked.bam\n",
    "        bam_file= f\"{alignment_path}{sra}_reads_{ref}_{ALIGN_OPTS_NAME}_minimap2_gatk_sorted_marked.bam\"\n",
    "        fastq_file= f\"{alignment_path}{sra}_reads_{ref}_{ALIGN_OPTS_NAME}_minimap2_gatk_sorted_marked_bedtools.fq\"\n",
    "        print(fastq_file)\n",
    "        cmd=f'{BEDTOOLS_PATH}bedtools bamtofastq -i {bam_file} -fq {fastq_file}'\n",
    "        subprocess.check_call(cmd, shell=True)"
   ]
  },
  {
   "cell_type": "code",
   "execution_count": null,
   "id": "aa4c5f04",
   "metadata": {},
   "outputs": [],
   "source": [
    "def align_idx_bamdst(idxstat_file, bamdst_report):\n",
    "    f_idx = open(idxstat_file, mode='r')\n",
    "    idx_lines = f_idx.readlines()\n",
    "    f_idx.close()\n",
    "    f_bamdst = open(bamdst_report, mode='r')\n",
    "    bamdst_lines = f_bamdst.readlines()\n",
    "    f_bamdst.close()\n",
    "    fixed_lines=[]\n",
    "    for count, b_line in enumerate(bamdst_lines):\n",
    "        b_words = b_line.split('\\t')\n",
    "        if count==0:\n",
    "            b_words[0]='Accession'\n",
    "            b_words.insert(1,'ref_length')\n",
    "            b_words.insert(2,'N')\n",
    "            new_line='\\t'.join(b_words)\n",
    "            fixed_lines.append(new_line)\n",
    "        else:\n",
    "            if float(b_words[1])>0.0 or float(b_words[4])>0.0:\n",
    "                for i_line in idx_lines:\n",
    "                    i_words = i_line.split('\\t')\n",
    "                    if b_words[0].strip() == i_words[0].strip():\n",
    "                        b_words.insert(1,i_words[1])\n",
    "                        b_words.insert(2,i_words[2])\n",
    "                new_line='\\t'.join(b_words)\n",
    "                fixed_lines.append(new_line)\n",
    "    new_report=bamdst_report.split('.txt')[0]+'_N.txt'\n",
    "    print(f'new_report: {new_report}')\n",
    "    f = open(new_report, \"w\")\n",
    "    f.writelines(fixed_lines)\n",
    "    f.close()\n",
    "    return new_report"
   ]
  },
  {
   "cell_type": "code",
   "execution_count": null,
   "id": "moral-victor",
   "metadata": {},
   "outputs": [],
   "source": [
    "def workflow_paired(sra_dir=False, bed_file=None):\n",
    "    if not os.path.isfile(PRJ_OUT_PATH):\n",
    "        pathlib.Path(PRJ_OUT_PATH).mkdir(exist_ok=True)\n",
    "    for idx, sra in enumerate(SRAs):\n",
    "        print(f'{sra}')\n",
    "        fastq1=FASTQ_FILES[2*idx]\n",
    "        fastq2=FASTQ_FILES[(2*idx)+1]\n",
    "        if sra_dir:\n",
    "            f1path=BASE_PATH+sra+'/'+fastq1\n",
    "            f2path=BASE_PATH+sra+'/'+fastq2\n",
    "        else:\n",
    "            f1path=BASE_PATH+fastq1\n",
    "            f2path=BASE_PATH+fastq2\n",
    "\n",
    "        alignment_path=PRJ_OUT_PATH+sra\n",
    "        if not os.path.isfile(alignment_path):\n",
    "            pathlib.Path(alignment_path).mkdir(exist_ok=True)\n",
    "        alignment_path=PRJ_OUT_PATH+sra+'/minimap2/'\n",
    "        if not os.path.isfile(alignment_path):\n",
    "            pathlib.Path(alignment_path).mkdir(exist_ok=True)\n",
    "\n",
    "        if not os.path.isfile(f1path):\n",
    "            if not CREATE_FASTP:\n",
    "                print(f'file doesnt exist but should: {f1path}')\n",
    "                raise Exception\n",
    "            f1path, f2path=run_fastp(f1path, f2path)\n",
    "            \n",
    "        if SORT_TOOL=='samtools':\n",
    "            bam_sorted=samtools_sort(sam_out, out_type='BAM')\n",
    "            remove_file(sam_out)\n",
    "        else:\n",
    "            sam_out=gatk_sort(sam_out)\n",
    "            bam_sorted=gatk_metrics(sam_out)\n",
    "        index_bam(bam_sorted)\n",
    "        \n",
    "        run_samtools_stats(bam_sorted, REF_PATH+REF_NAME)\n",
    "        run_flagtools(bam_sorted)\n",
    "\n",
    "        idxstat_file=bam_sorted.split(f'{BAM_POSTFIX}.bam')[0]+'idxstats.txt'\n",
    "        run_idxstats(bam_sorted, idxstat_file)\n",
    "        \n",
    "        out_path=alignment_path+f'bamstats_reads_{ALIGN_NAME}_{ALIGN_OPTS_NAME}/'\n",
    "        if not os.path.isfile(out_path):\n",
    "            pathlib.Path(out_path).mkdir(exist_ok=True)\n",
    "\n",
    "        #bamstats_file=gatk_bam_file.split('gatk_sorted_marked.bam')[0]+'bamstats.txt'\n",
    "        #print(f'bamstats_file: {bamstats_file}')\n",
    "        #if os.path.isfile(bamstats_file):\n",
    "        #    remove_file(bamstats_file)\n",
    "        #run_bamstats(gatk_bam_file, bamstats_file)\n",
    "        if bed_file:\n",
    "            out_path=alignment_path+f'bamdst_reads_{ALIGN_NAME}_{ALIGN_OPTS_NAME}/'\n",
    "            print(f'out_path: {out_path}')\n",
    "            if not os.path.isfile(out_path):\n",
    "                pathlib.Path(out_path).mkdir(exist_ok=True)\n",
    "            run_bamdst(bed_file, out_path, bam_sorted)\n",
    "            bamdst_data=out_path+'chromosomes.report'\n",
    "            aligned_file=align_idx_bamdst(idxstat_file, bamdst_data)"
   ]
  },
  {
   "cell_type": "code",
   "execution_count": null,
   "id": "imposed-destruction",
   "metadata": {},
   "outputs": [],
   "source": [
    "def workflow_single(sra_dir=False, bed_file=None, sra_r=None):\n",
    "    if not os.path.isfile(PRJ_OUT_PATH):\n",
    "        pathlib.Path(PRJ_OUT_PATH).mkdir(exist_ok=True)\n",
    "    for idx, sra in enumerate(SRAsingle):\n",
    "        print(f'{sra}') \n",
    "        fastq=FASTQ_SINGLE[idx]\n",
    "        if sra_dir:\n",
    "            f1path=BASE_PATH+sra+'/'+fastq\n",
    "        else:\n",
    "            f1path=BASE_PATH+fastq\n",
    "        alignment_path=PRJ_OUT_PATH+sra\n",
    "        if not os.path.isfile(alignment_path):\n",
    "            pathlib.Path(alignment_path).mkdir(exist_ok=True)\n",
    "        alignment_path=PRJ_OUT_PATH+sra+'/minimap2/'\n",
    "        if not os.path.isfile(alignment_path):\n",
    "            pathlib.Path(alignment_path).mkdir(exist_ok=True)\n",
    "\n",
    "        #if not os.path.isfile(f1path):\n",
    "            #if not CREATE_FASTP:\n",
    "                #print(f'file doesnt exist but should: {f1path}')\n",
    "                #raise Exception\n",
    "            #out_1=f1path.split('.fq')[0]+'_fastp.fq'\n",
    "            #cmd = f\"fastp --in1 {f1path} --out1 {out_1}\"\n",
    "            #subprocess.check_call(cmd, shell=True)\n",
    "        f2path=''\n",
    "        sam_out=run_minimap2(f1path, f2path, alignment_path, sra, sra_r)\n",
    "        if SORT_TOOL=='samtools':\n",
    "            bam_sorted=samtools_sort(sam_out, out_type='BAM')\n",
    "        else:\n",
    "            sam_out=gatk_sort(sam_out)\n",
    "            bam_sorted=gatk_metrics(sam_out)\n",
    "        index_bam(bam_sorted)\n",
    "\n",
    "        idxstat_file=bam_sorted.split(f'{BAM_POSTFIX}.bam')[0]+'idxstats.txt'\n",
    "        run_idxstats(bam_sorted, idxstat_file)\n",
    "        \n",
    "        #bamstats_file=gatk_bam_file.split('gatk_sorted_marked.bam')[0]+'bamstats.txt'\n",
    "        #print(f'bamstats_file: {bamstats_file}')\n",
    "        #if os.path.isfile(bamstats_file):\n",
    "        #    remove_file(bamstats_file)\n",
    "        #run_bamstats(gatk_bam_file, bamstats_file)\n",
    "        if bed_file:\n",
    "            out_path=alignment_path+f'bamdst_reads_{ALIGN_NAME}_{ALIGN_OPTS_NAME}_{sra_r}se/'\n",
    "            if not os.path.isfile(out_path):\n",
    "                pathlib.Path(out_path).mkdir(exist_ok=True)\n",
    "            run_bamdst(bed_file, out_path, bam_sorted)\n",
    "            bamdst_data=out_path+'chromosomes.report'\n",
    "            aligned_file=align_idx_bamdst(idxstat_file, bamdst_data)"
   ]
  },
  {
   "cell_type": "code",
   "execution_count": null,
   "id": "1a805e3c",
   "metadata": {},
   "outputs": [],
   "source": [
    "MINIMAP2_PATH='~/apps/minimap2-2.24_x64-linux/'\n",
    "SAMTOOLS_PATH=''\n",
    "BAMDST_PATH='/mnt/3TB_0/Data/Code/external/bamdst/'\n",
    "BEDTOOLS_PATH='~/apps/bedtools/'\n",
    "GATK_PATH='~/apps/gatk-4.1.9.0/'\n",
    "GATK_JAR=GATK_PATH+'gatk-package-4.1.9.0-local.jar'"
   ]
  },
  {
   "cell_type": "markdown",
   "id": "74ce89c2",
   "metadata": {},
   "source": [
    "### General Settings"
   ]
  },
  {
   "cell_type": "code",
   "execution_count": null,
   "id": "847867a0",
   "metadata": {},
   "outputs": [],
   "source": [
    "#REF_NAME='PRJNA901878_ncbi_subset.fa'\n",
    "#REF_PATH='/mnt/1TB_0/Data/fasta/combined/'\n",
    "#TAXA_TAB_DEL='PRJNA901878_ncbi_subset.taxa'\n",
    "TAXA_TAB_DEL=''\n",
    "REF_NAME='GCF_000003025.6_Sscrofa11.1_genomic.fna'\n",
    "REF_PATH='/mnt/1TB_0/Data/fasta/mammal_genomes/Sscrofa11_1/ncbi-genomes-2021-11-27/'\n",
    "ALIGN_NAME=REF_NAME.split('.fna')[0]\n",
    "\n",
    "NUM_THREADS=32\n",
    "LAYOUT='PAIRED'\n",
    "KEEP_UNALIGNED=False\n",
    "CREATE_FASTP=False\n",
    "ALIGNER='minimap2'\n",
    "\n",
    "#https://lh3.github.io/minimap2/minimap2.html#5 -2 for 2 IO threads\n",
    "#to overcome sam has no header usie -I\n",
    "MINIMAP_PARAMS=f'-MD -c -eqx -x sr -2 -t {NUM_THREADS} -I30g --sam-hit-only --secondary=no'\n",
    "ALIGN_OPTS_NAME='x_sr_secondary_no'\n",
    "\n",
    "SORT_TOOL='samtools' #gatk, samtools\n",
    "\n",
    "BAM_POSTFIX='sorted'\n",
    "BAMSTATS_POST=f'_{ALIGN_NAME}_{ALIGN_OPTS_NAME}_bamstats.txt'\n",
    "BAM_POST=f'_reads_{REF_NAME.split(\".fa\")[0]}_{ALIGN_OPTS_NAME}_{ALIGNER}_{SORT_TOOL}_sorted.bam'"
   ]
  },
  {
   "cell_type": "markdown",
   "id": "4895fa7c",
   "metadata": {},
   "source": [
    "#### bed file/reference indexing"
   ]
  },
  {
   "cell_type": "code",
   "execution_count": null,
   "id": "premier-placement",
   "metadata": {},
   "outputs": [],
   "source": [
    "#bed_file=prep_bed(create=True)"
   ]
  },
  {
   "cell_type": "markdown",
   "id": "fe6ec693",
   "metadata": {},
   "source": [
    "### BioProject specific"
   ]
  },
  {
   "cell_type": "code",
   "execution_count": null,
   "id": "ee6258bb",
   "metadata": {},
   "outputs": [],
   "source": [
    "PRJ='PRJNA901878'\n",
    "\n",
    "PRJ_OUT_PATH=f'/mnt/8TB_2/Data/Assembly/{PRJ}/'\n",
    "BASE_PATH=f'/mnt/8TB_0/Data/genbank/{PRJ}/'\n",
    "\n",
    "SRAs=['SRR22936497']\n",
    "\n",
    "\n",
    "FASTQ_FILES=[]\n",
    "for f in SRAs:\n",
    "    FASTQ_FILES.append(f+'_1_fastp.fastq')\n",
    "    FASTQ_FILES.append(f+'_2_fastp.fastq')\n",
    "    \n",
    "workflow_paired(sra_dir=False)"
   ]
  },
  {
   "cell_type": "markdown",
   "id": "4ed4ea40",
   "metadata": {},
   "source": [
    "### MJ"
   ]
  },
  {
   "cell_type": "code",
   "execution_count": null,
   "id": "08abf5ea",
   "metadata": {},
   "outputs": [],
   "source": [
    "#REF_NAME='PRJNA901878_ncbi_subset.fa'\n",
    "#REF_PATH='/mnt/1TB_0/Data/fasta/combined/'\n",
    "#TAXA_TAB_DEL='PRJNA901878_ncbi_subset.taxa'\n",
    "TAXA_TAB_DEL=''\n",
    "REF_NAME='GCF_014570535.1_YNU_ManJav_2.0_genomic.fna'\n",
    "REF_PATH='/mnt/3TB_0/Data/fasta/mammal_genomes/'\n",
    "ALIGN_NAME=REF_NAME.split('.fa')[0]\n",
    "\n",
    "NUM_THREADS=32\n",
    "LAYOUT='PAIRED'\n",
    "KEEP_UNALIGNED=False\n",
    "CREATE_FASTP=False\n",
    "\n",
    "#https://lh3.github.io/minimap2/minimap2.html#5 -2 for 2 IO threads\n",
    "MINIMAP_PARAMS=f'-MD -c -eqx -x sr -2 -t {NUM_THREADS} --sam-hit-only --secondary=no'\n",
    "ALIGN_OPTS_NAME='x_sr_secondary_no'\n",
    "ALIGNER='minimap2'\n",
    "\n",
    "BAM_POSTFIX='sorted'\n",
    "BAMSTATS_POST=f'_{ALIGN_NAME}_{ALIGN_OPTS_NAME}_bamstats.txt'\n",
    "BAM_POST=f'_reads_{REF_NAME.split(\".fa\")[0]}_{ALIGN_OPTS_NAME}_{ALIGNER}_sorted.bam'"
   ]
  },
  {
   "cell_type": "markdown",
   "id": "6faec8e1",
   "metadata": {},
   "source": [
    "#### bed file/reference indexing"
   ]
  },
  {
   "cell_type": "code",
   "execution_count": null,
   "id": "1a50f911",
   "metadata": {},
   "outputs": [],
   "source": [
    "#bed_file=prep_bed(create=True)"
   ]
  },
  {
   "cell_type": "markdown",
   "id": "f8bc8211",
   "metadata": {},
   "source": [
    "### MJ"
   ]
  },
  {
   "cell_type": "code",
   "execution_count": null,
   "id": "4a30e63c",
   "metadata": {},
   "outputs": [],
   "source": [
    "PRJ='PRJNA901878'\n",
    "\n",
    "PRJ_OUT_PATH=f'/mnt/4TB_1/Data/Assembly/{PRJ}/'\n",
    "BASE_PATH=f'/mnt/8TB_0/Data/genbank/{PRJ}/'\n",
    "\n",
    " \n",
    "#SRAs=['SRR22936420','SRR22936419','SRR22936773', 'SRR22936421', 'SRR22936770', 'SRR22936422','SRR22936541', 'SRR22936544']\n",
    "\n",
    "SRAs=['SRR22936541']\n",
    "\n",
    "FASTQ_FILES=[]\n",
    "for f in SRAs:\n",
    "    FASTQ_FILES.append(f+'_1_fastp.fastq')\n",
    "    FASTQ_FILES.append(f+'_2_fastp.fastq')\n",
    "    \n",
    "#workflow_paired(sra_dir=False)"
   ]
  },
  {
   "cell_type": "markdown",
   "id": "05a3c77a",
   "metadata": {},
   "source": [
    "### Concatref MJ, Sus, Human, Vero"
   ]
  },
  {
   "cell_type": "code",
   "execution_count": null,
   "id": "dde566fa",
   "metadata": {},
   "outputs": [],
   "source": [
    "#REF_NAME='PRJNA901878_ncbi_subset.fa'\n",
    "#REF_PATH='/mnt/1TB_0/Data/fasta/combined/'\n",
    "#TAXA_TAB_DEL='PRJNA901878_ncbi_subset.taxa'\n",
    "TAXA_TAB_DEL=''\n",
    "#REF_NAME='GCF_000003025.6_Sscrofa11.1_genomic.fna'\n",
    "REF_PATH='/mnt/3TB_0/Data/Code/code/PRJNA901878/'\n",
    "REF_NAME='sus_mj.fa'\n",
    "#REF_PATH='/mnt/3TB_0/Data/fasta/mammal_genomes/'\n",
    "ALIGN_NAME=REF_NAME.split('.fa')[0]\n",
    "ALIGNER='minimap2'\n",
    "\n",
    "NUM_THREADS=32\n",
    "LAYOUT='PAIRED'\n",
    "KEEP_UNALIGNED=False\n",
    "CREATE_FASTP=False\n",
    "\n",
    "#https://lh3.github.io/minimap2/minimap2.html#5 -2 for 2 IO threads\n",
    "MINIMAP_PARAMS=f'-MD -c -eqx -x sr -2 -t {NUM_THREADS} -I30g --sam-hit-only --secondary=no'\n",
    "ALIGN_OPTS_NAME='x_sr_secondary_no'\n",
    "\n",
    "BAM_POSTFIX='gatk_sorted_marked'\n",
    "BAMSTATS_POST=f'_{ALIGN_NAME}_{ALIGN_OPTS_NAME}_bamstats.txt'\n",
    "BAM_POST=f'_reads_{REF_NAME.split(\".fa\")[0]}_{ALIGN_OPTS_NAME}_{ALIGNER}_sorted.bam'"
   ]
  },
  {
   "cell_type": "code",
   "execution_count": null,
   "id": "8672b982",
   "metadata": {},
   "outputs": [],
   "source": [
    "PRJ='PRJNA901878'\n",
    "\n",
    "PRJ_OUT_PATH=f'/mnt/4TB_1/Data/Assembly/{PRJ}/'\n",
    "BASE_PATH=f'/mnt/8TB_0/Data/genbank/{PRJ}/'\n",
    "\n",
    "SRAs=['SRR22936420','SRR22936419','SRR22936773', 'SRR22936421', 'SRR22936770', 'SRR22936422','SRR22936541', 'SRR22936544','SRR22936497']\n",
    "\n",
    "FASTQ_FILES=[]\n",
    "for f in SRAs:\n",
    "    FASTQ_FILES.append(f+'_1_fastp.fastq')\n",
    "    FASTQ_FILES.append(f+'_2_fastp.fastq')\n",
    "    \n",
    "workflow_paired(sra_dir=False)"
   ]
  },
  {
   "cell_type": "code",
   "execution_count": null,
   "id": "d38fe857",
   "metadata": {},
   "outputs": [],
   "source": [
    "#REF_NAME='PRJNA901878_ncbi_subset.fa'\n",
    "#REF_PATH='/mnt/1TB_0/Data/fasta/combined/'\n",
    "#TAXA_TAB_DEL='PRJNA901878_ncbi_subset.taxa'\n",
    "TAXA_TAB_DEL=''\n",
    "#REF_NAME='GCF_000003025.6_Sscrofa11.1_genomic.fna'\n",
    "REF_PATH='/mnt/3TB_0/Data/Code/code/PRJNA901878/'\n",
    "REF_NAME='sus_vero_mj_hu.fa'\n",
    "#REF_PATH='/mnt/3TB_0/Data/fasta/mammal_genomes/'\n",
    "ALIGN_NAME=REF_NAME.split('.fa')[0]\n",
    "ALIGNER='minimap2'\n",
    "\n",
    "NUM_THREADS=32\n",
    "LAYOUT='PAIRED'\n",
    "KEEP_UNALIGNED=False\n",
    "CREATE_FASTP=False\n",
    "\n",
    "#https://lh3.github.io/minimap2/minimap2.html#5 -2 for 2 IO threads\n",
    "MINIMAP_PARAMS=f'-MD -c -eqx -x sr -2 -t {NUM_THREADS} -I30g --sam-hit-only --secondary=no'\n",
    "ALIGN_OPTS_NAME='x_sr_secondary_no'\n",
    "\n",
    "BAM_POSTFIX='gatk_sorted_marked'\n",
    "BAMSTATS_POST=f'_{ALIGN_NAME}_{ALIGN_OPTS_NAME}_bamstats.txt'\n",
    "BAM_POST=f'_reads_{REF_NAME.split(\".fa\")[0]}_{ALIGN_OPTS_NAME}_{ALIGNER}_sorted.bam'"
   ]
  },
  {
   "cell_type": "code",
   "execution_count": null,
   "id": "8b8023f0",
   "metadata": {},
   "outputs": [],
   "source": [
    "PRJ='PRJNA901878'\n",
    "\n",
    "PRJ_OUT_PATH=f'/mnt/4TB_1/Data/Assembly/{PRJ}/'\n",
    "BASE_PATH=f'/mnt/8TB_0/Data/genbank/{PRJ}/'\n",
    "#,'SRR22936497'\n",
    "SRAs=['SRR22936420','SRR22936419','SRR22936773', 'SRR22936421', 'SRR22936770', 'SRR22936422','SRR22936541', 'SRR22936544']\n",
    "\n",
    "FASTQ_FILES=[]\n",
    "for f in SRAs:\n",
    "    FASTQ_FILES.append(f+'_1_fastp.fastq')\n",
    "    FASTQ_FILES.append(f+'_2_fastp.fastq')\n",
    "    \n",
    "workflow_paired(sra_dir=False)"
   ]
  },
  {
   "cell_type": "markdown",
   "id": "aecf619d",
   "metadata": {},
   "source": [
    "### RhiPru_1.0 (TODO)"
   ]
  },
  {
   "cell_type": "code",
   "execution_count": null,
   "id": "19a8ed63",
   "metadata": {},
   "outputs": [],
   "source": [
    "#REF_NAME='PRJNA901878_ncbi_subset.fa'\n",
    "#REF_PATH='/mnt/1TB_0/Data/fasta/combined/'\n",
    "#TAXA_TAB_DEL='PRJNA901878_ncbi_subset.taxa'\n",
    "TAXA_TAB_DEL=''\n",
    "REF_NAME='sus_rhipru.fa'\n",
    "REF_PATH='/mnt/3TB_0/Data/Code/code/PRJNA901878/'\n",
    "ALIGN_NAME=REF_NAME.split('.fa')[0]\n",
    "ALIGNER='minimap2'\n",
    "\n",
    "NUM_THREADS=32\n",
    "LAYOUT='PAIRED'\n",
    "KEEP_UNALIGNED=False\n",
    "CREATE_FASTP=False\n",
    "\n",
    "#https://lh3.github.io/minimap2/minimap2.html#5 -2 for 2 IO threads\n",
    "MINIMAP_PARAMS=f'-MD -c -eqx -x sr -2 -t {NUM_THREADS} -I30g --sam-hit-only --secondary=no'\n",
    "ALIGN_OPTS_NAME='x_sr_secondary_no'\n",
    "\n",
    "BAM_POSTFIX='sorted_marked'\n",
    "BAMSTATS_POST=f'_{ALIGN_NAME}_{ALIGN_OPTS_NAME}_bamstats.txt'\n",
    "BAM_POST=f'_reads_{REF_NAME.split(\".fa\")[0]}_{ALIGN_OPTS_NAME}_{ALIGNER}_sorted.bam'"
   ]
  },
  {
   "cell_type": "code",
   "execution_count": null,
   "id": "bfd8a2f0",
   "metadata": {
    "scrolled": true
   },
   "outputs": [],
   "source": [
    "PRJ='PRJNA901878'\n",
    "\n",
    "PRJ_OUT_PATH=f'/mnt/4TB_1/Data/Assembly/{PRJ}/'\n",
    "BASE_PATH=f'/mnt/8TB_0/Data/genbank/{PRJ}/'\n",
    "\n",
    "\n",
    "SRAs=['SRR22936497']\n",
    "\n",
    "FASTQ_FILES=[]\n",
    "for f in SRAs:\n",
    "    FASTQ_FILES.append(f+'_1_fastp.fastq')\n",
    "    FASTQ_FILES.append(f+'_2_fastp.fastq')\n",
    "    \n",
    "workflow_paired(sra_dir=False)"
   ]
  },
  {
   "cell_type": "code",
   "execution_count": null,
   "id": "8583b809",
   "metadata": {},
   "outputs": [],
   "source": []
  },
  {
   "cell_type": "markdown",
   "id": "f6ccc5c0",
   "metadata": {},
   "source": [
    "### MJ, Vero, human - in series"
   ]
  },
  {
   "cell_type": "code",
   "execution_count": null,
   "id": "8247168f",
   "metadata": {},
   "outputs": [],
   "source": [
    "#REF_NAME='PRJNA901878_ncbi_subset.fa'\n",
    "#REF_PATH='/mnt/1TB_0/Data/fasta/combined/'\n",
    "#TAXA_TAB_DEL='PRJNA901878_ncbi_subset.taxa'\n",
    "#TAXA_TAB_DEL=''\n",
    "#REF_NAME='vero_mj_hu.fa'\n",
    "#REF_PATH='/mnt/3TB_0/Data/Code/code/PRJNA901878/'\n",
    "#ALIGN_NAME=REF_NAME.split('.fa')[0]\n",
    "#ALIGNER='minimap2'\n",
    "\n",
    "TAXA_TAB_DEL=''\n",
    "REF_NAME='YNU_ManJav_2.0.fna'\n",
    "REF_PATH='/mnt/3TB_0/Data/Code/code/PRJNA901878/'\n",
    "ALIGN_NAME=REF_NAME.split('.fna')[0]\n",
    "ALIGNER='minimap2'\n",
    "\n",
    "NUM_THREADS=40\n",
    "LAYOUT='PAIRED'\n",
    "KEEP_UNALIGNED=False\n",
    "CREATE_FASTP=False\n",
    "\n",
    "#https://lh3.github.io/minimap2/minimap2.html#5 -2 for 2 IO threads\n",
    "MINIMAP_PARAMS=f'-MD -c -eqx -x sr -2 -t {NUM_THREADS} --sam-hit-only --secondary=no'\n",
    "ALIGN_OPTS_NAME='x_sr_secondary_no'\n",
    "\n",
    "SORT_TOOL='gatk' #gatk, samtools\n",
    "\n",
    "BAM_POSTFIX='gatk_sorted_marked'\n",
    "BAMSTATS_POST=f'_{ALIGN_NAME}_{ALIGN_OPTS_NAME}_bamstats.txt'\n",
    "BAM_POST=f'_reads_{REF_NAME.split(\".fa\")[0]}_{ALIGN_OPTS_NAME}_{ALIGNER}_sorted.bam'"
   ]
  },
  {
   "cell_type": "code",
   "execution_count": null,
   "id": "87aa810a",
   "metadata": {
    "scrolled": true
   },
   "outputs": [],
   "source": [
    "PRJ='PRJCA002517'\n",
    "\n",
    "PRJ_OUT_PATH=f'/mnt/4TB_1/Data/Assembly/{PRJ}/'\n",
    "BASE_PATH=f'/mnt/8TB_0/Data/bigd/{PRJ}/'\n",
    "\n",
    "\n",
    "SRAs=['CRR477154','CRR477155','CRR477156','CRR477157']\n",
    "\n",
    "FASTQ_FILES=[]\n",
    "for f in SRAs:\n",
    "    FASTQ_FILES.append(f+'_f1_fastp.fq')\n",
    "    FASTQ_FILES.append(f+'_r2_fastp.fq')\n",
    "    \n",
    "workflow_paired(sra_dir=False)"
   ]
  },
  {
   "cell_type": "code",
   "execution_count": null,
   "id": "ca696dea",
   "metadata": {},
   "outputs": [],
   "source": [
    "#REF_NAME='PRJNA901878_ncbi_subset.fa'\n",
    "#REF_PATH='/mnt/1TB_0/Data/fasta/combined/'\n",
    "#TAXA_TAB_DEL='PRJNA901878_ncbi_subset.taxa'\n",
    "#TAXA_TAB_DEL=''\n",
    "#REF_NAME='vero_mj_hu.fa'\n",
    "#REF_PATH='/mnt/3TB_0/Data/Code/code/PRJNA901878/'\n",
    "#ALIGN_NAME=REF_NAME.split('.fa')[0]\n",
    "#ALIGNER='minimap2'\n",
    "\n",
    "TAXA_TAB_DEL=''\n",
    "REF_NAME='GRCh38.p13.fna'\n",
    "REF_PATH='/mnt/3TB_0/Data/Code/code/PRJNA901878/'\n",
    "ALIGN_NAME=REF_NAME.split('.fna')[0]\n",
    "ALIGNER='minimap2'\n",
    "\n",
    "NUM_THREADS=40\n",
    "LAYOUT='PAIRED'\n",
    "KEEP_UNALIGNED=False\n",
    "CREATE_FASTP=False\n",
    "\n",
    "#https://lh3.github.io/minimap2/minimap2.html#5 -2 for 2 IO threads\n",
    "MINIMAP_PARAMS=f'-MD -c -eqx -x sr -2 -t {NUM_THREADS} --sam-hit-only --secondary=no'\n",
    "ALIGN_OPTS_NAME='x_sr_secondary_no'\n",
    "\n",
    "SORT_TOOL='gatk' #gatk, samtools\n",
    "\n",
    "BAM_POSTFIX='gatk_sorted_marked'\n",
    "BAMSTATS_POST=f'_{ALIGN_NAME}_{ALIGN_OPTS_NAME}_bamstats.txt'\n",
    "BAM_POST=f'_reads_{REF_NAME.split(\".fa\")[0]}_{ALIGN_OPTS_NAME}_{ALIGNER}_sorted.bam'"
   ]
  },
  {
   "cell_type": "code",
   "execution_count": null,
   "id": "ee070794",
   "metadata": {
    "scrolled": true
   },
   "outputs": [],
   "source": [
    "PRJ='PRJCA002517'\n",
    "\n",
    "PRJ_OUT_PATH=f'/mnt/4TB_1/Data/Assembly/{PRJ}/'\n",
    "BASE_PATH=f'/mnt/8TB_0/Data/bigd/{PRJ}/'\n",
    "\n",
    "\n",
    "SRAs=['CRR477154','CRR477155','CRR477156','CRR477157']\n",
    "\n",
    "FASTQ_FILES=[]\n",
    "for f in SRAs:\n",
    "    FASTQ_FILES.append(f+'_f1_fastp.fq')\n",
    "    FASTQ_FILES.append(f+'_r2_fastp.fq')\n",
    "    \n",
    "workflow_paired(sra_dir=False)"
   ]
  },
  {
   "cell_type": "code",
   "execution_count": null,
   "id": "e0f2a2ce",
   "metadata": {},
   "outputs": [],
   "source": [
    "#REF_NAME='PRJNA901878_ncbi_subset.fa'\n",
    "#REF_PATH='/mnt/1TB_0/Data/fasta/combined/'\n",
    "#TAXA_TAB_DEL='PRJNA901878_ncbi_subset.taxa'\n",
    "#TAXA_TAB_DEL=''\n",
    "#REF_NAME='vero_mj_hu.fa'\n",
    "#REF_PATH='/mnt/3TB_0/Data/Code/code/PRJNA901878/'\n",
    "#ALIGN_NAME=REF_NAME.split('.fa')[0]\n",
    "#ALIGNER='minimap2'\n",
    "\n",
    "TAXA_TAB_DEL=''\n",
    "REF_NAME='Vero_WHO_p1.0.fna'\n",
    "REF_PATH='/mnt/3TB_0/Data/Code/code/PRJNA901878/'\n",
    "ALIGN_NAME=REF_NAME.split('.fna')[0]\n",
    "ALIGNER='minimap2'\n",
    "\n",
    "NUM_THREADS=40\n",
    "LAYOUT='PAIRED'\n",
    "KEEP_UNALIGNED=False\n",
    "CREATE_FASTP=False\n",
    "\n",
    "#https://lh3.github.io/minimap2/minimap2.html#5 -2 for 2 IO threads\n",
    "MINIMAP_PARAMS=f'-MD -c -eqx -x sr -2 -t {NUM_THREADS} --sam-hit-only --secondary=no'\n",
    "ALIGN_OPTS_NAME='x_sr_secondary_no'\n",
    "\n",
    "SORT_TOOL='gatk' #gatk, samtools\n",
    "\n",
    "BAM_POSTFIX='gatk_sorted_marked'\n",
    "BAMSTATS_POST=f'_{ALIGN_NAME}_{ALIGN_OPTS_NAME}_bamstats.txt'\n",
    "BAM_POST=f'_reads_{REF_NAME.split(\".fa\")[0]}_{ALIGN_OPTS_NAME}_{ALIGNER}_sorted.bam'"
   ]
  },
  {
   "cell_type": "code",
   "execution_count": null,
   "id": "8967ede6",
   "metadata": {
    "scrolled": true
   },
   "outputs": [],
   "source": [
    "PRJ='PRJCA002517'\n",
    "\n",
    "PRJ_OUT_PATH=f'/mnt/4TB_1/Data/Assembly/{PRJ}/'\n",
    "BASE_PATH=f'/mnt/8TB_0/Data/bigd/{PRJ}/'\n",
    "\n",
    "\n",
    "SRAs=['CRR477154','CRR477155','CRR477156','CRR477157']\n",
    "\n",
    "FASTQ_FILES=[]\n",
    "for f in SRAs:\n",
    "    FASTQ_FILES.append(f+'_f1_fastp.fq')\n",
    "    FASTQ_FILES.append(f+'_r2_fastp.fq')\n",
    "    \n",
    "workflow_paired(sra_dir=False)"
   ]
  },
  {
   "cell_type": "code",
   "execution_count": null,
   "id": "ec9e7aa4",
   "metadata": {},
   "outputs": [],
   "source": []
  },
  {
   "cell_type": "code",
   "execution_count": null,
   "id": "3ef2bea1",
   "metadata": {},
   "outputs": [],
   "source": [
    "### serial align"
   ]
  },
  {
   "cell_type": "code",
   "execution_count": null,
   "id": "c38c146d",
   "metadata": {},
   "outputs": [],
   "source": [
    "TAXA_TAB_DEL=''\n",
    "REF_NAME='GCF_000003025.6_Sscrofa11.1_genomic.fna'\n",
    "REF_PATH='/mnt/3TB_0/Data/fasta/mammal_genomes/'\n",
    "ALIGN_NAME=REF_NAME.split('.fna')[0]\n",
    "ALIGNER='minimap2'\n",
    "\n",
    "NUM_THREADS=40\n",
    "LAYOUT='PAIRED'\n",
    "KEEP_UNALIGNED=False\n",
    "CREATE_FASTP=False\n",
    "\n",
    "#https://lh3.github.io/minimap2/minimap2.html#5 -2 for 2 IO threads\n",
    "MINIMAP_PARAMS=f'-MD -c -eqx -x sr -2 -t {NUM_THREADS} -I30g --sam-hit-only --secondary=no'\n",
    "ALIGN_OPTS_NAME='x_sr_secondary_no'\n",
    "\n",
    "BAM_POSTFIX='gatk_sorted_marked'\n",
    "BAMSTATS_POST=f'_{ALIGN_NAME}_{ALIGN_OPTS_NAME}_bamstats.txt'\n",
    "BAM_POST=f'_reads_{REF_NAME.split(\".fa\")[0]}_{ALIGN_OPTS_NAME}_{ALIGNER}_sorted.bam'"
   ]
  },
  {
   "cell_type": "code",
   "execution_count": null,
   "id": "96169169",
   "metadata": {},
   "outputs": [],
   "source": [
    "PRJ='PRJNA901878'\n",
    "\n",
    "PRJ_OUT_PATH=f'/mnt/4TB_1/Data/Assembly/{PRJ}/'\n",
    "BASE_PATH=f'/mnt/8TB_0/Data/genbank/{PRJ}/'\n",
    "#,'SRR22936497'\n",
    "SRAs=['SRR22936420','SRR22936419','SRR22936773', 'SRR22936421', 'SRR22936770', 'SRR22936422','SRR22936541', 'SRR22936544']\n",
    "\n",
    "FASTQ_FILES=[]\n",
    "for f in SRAs:\n",
    "    FASTQ_FILES.append(f+'_1_fastp.fastq')\n",
    "    FASTQ_FILES.append(f+'_2_fastp.fastq')\n",
    "    \n",
    "workflow_paired(sra_dir=False)"
   ]
  },
  {
   "cell_type": "code",
   "execution_count": null,
   "id": "7492bb0c",
   "metadata": {},
   "outputs": [],
   "source": []
  },
  {
   "cell_type": "code",
   "execution_count": null,
   "id": "aaee813c",
   "metadata": {},
   "outputs": [],
   "source": [
    "TAXA_TAB_DEL=''\n",
    "REF_NAME='GCF_014570535.1_YNU_ManJav_2.0_genomic.fna'\n",
    "REF_PATH='/mnt/3TB_0/Data/fasta/mammal_genomes/'\n",
    "ALIGN_NAME=REF_NAME.split('.fna')[0]\n",
    "ALIGNER='minimap2'\n",
    "\n",
    "NUM_THREADS=40\n",
    "LAYOUT='PAIRED'\n",
    "KEEP_UNALIGNED=False\n",
    "CREATE_FASTP=False\n",
    "\n",
    "#https://lh3.github.io/minimap2/minimap2.html#5 -2 for 2 IO threads\n",
    "MINIMAP_PARAMS=f'-MD -c -eqx -x sr -2 -t {NUM_THREADS} -I30g --sam-hit-only --secondary=no'\n",
    "ALIGN_OPTS_NAME='x_sr_secondary_no'\n",
    "\n",
    "BAM_POSTFIX='gatk_sorted_marked'\n",
    "BAMSTATS_POST=f'_{ALIGN_NAME}_{ALIGN_OPTS_NAME}_bamstats.txt'\n",
    "BAM_POST=f'_reads_{REF_NAME.split(\".fa\")[0]}_{ALIGN_OPTS_NAME}_{ALIGNER}_sorted.bam'"
   ]
  },
  {
   "cell_type": "code",
   "execution_count": null,
   "id": "e023d9b2",
   "metadata": {},
   "outputs": [],
   "source": [
    "PRJ='PRJNA901878'\n",
    "\n",
    "PRJ_OUT_PATH=f'/mnt/4TB_1/Data/Assembly/{PRJ}/'\n",
    "BASE_PATH=f'/mnt/8TB_0/Data/genbank/{PRJ}/'\n",
    "#,'SRR22936497'\n",
    "SRAs=['SRR22936420','SRR22936419','SRR22936773', 'SRR22936421', 'SRR22936770', 'SRR22936422','SRR22936541', 'SRR22936544']\n",
    "\n",
    "FASTQ_FILES=[]\n",
    "for f in SRAs:\n",
    "    FASTQ_FILES.append(f+'_1_fastp.fastq')\n",
    "    FASTQ_FILES.append(f+'_2_fastp.fastq')\n",
    "    \n",
    "workflow_paired(sra_dir=False)"
   ]
  },
  {
   "cell_type": "markdown",
   "id": "2cc9e9fe",
   "metadata": {},
   "source": [
    "### RP"
   ]
  },
  {
   "cell_type": "code",
   "execution_count": null,
   "id": "75493f9e",
   "metadata": {},
   "outputs": [],
   "source": [
    "TAXA_TAB_DEL=''\n",
    "REF_NAME='GCA_009823505.1_RhiPru_1.0_genomic.fna'\n",
    "REF_PATH='/mnt/3TB_0/Data/fasta/mammal_genomes/'\n",
    "ALIGN_NAME=REF_NAME.split('.fna')[0]\n",
    "ALIGNER='minimap2'\n",
    "\n",
    "NUM_THREADS=40\n",
    "LAYOUT='PAIRED'\n",
    "KEEP_UNALIGNED=False\n",
    "CREATE_FASTP=False\n",
    "\n",
    "#https://lh3.github.io/minimap2/minimap2.html#5 -2 for 2 IO threads\n",
    "MINIMAP_PARAMS=f'-MD -c -eqx -x sr -2 -t {NUM_THREADS} -I30g --sam-hit-only --secondary=no'\n",
    "ALIGN_OPTS_NAME='x_sr_secondary_no'\n",
    "\n",
    "BAM_POSTFIX='gatk_sorted_marked'\n",
    "BAMSTATS_POST=f'_{ALIGN_NAME}_{ALIGN_OPTS_NAME}_bamstats.txt'\n",
    "BAM_POST=f'_reads_{REF_NAME.split(\".fa\")[0]}_{ALIGN_OPTS_NAME}_{ALIGNER}_sorted.bam'"
   ]
  },
  {
   "cell_type": "code",
   "execution_count": null,
   "id": "106d9c68",
   "metadata": {},
   "outputs": [],
   "source": [
    "PRJ='PRJNA901878'\n",
    "\n",
    "PRJ_OUT_PATH=f'/mnt/4TB_1/Data/Assembly/{PRJ}/'\n",
    "BASE_PATH=f'/mnt/8TB_0/Data/genbank/{PRJ}/'\n",
    "\n",
    "SRAs=['SRR22936497']\n",
    "\n",
    "FASTQ_FILES=[]\n",
    "for f in SRAs:\n",
    "    FASTQ_FILES.append(f+'_1_fastp.fastq')\n",
    "    FASTQ_FILES.append(f+'_2_fastp.fastq')\n",
    "    \n",
    "workflow_paired(sra_dir=False)"
   ]
  },
  {
   "cell_type": "code",
   "execution_count": null,
   "id": "fdc0067d",
   "metadata": {},
   "outputs": [],
   "source": [
    "TAXA_TAB_DEL=''\n",
    "REF_NAME='GCF_014570535.1_YNU_ManJav_2.0_genomic.fna'\n",
    "REF_PATH='/mnt/3TB_0/Data/fasta/mammal_genomes/'\n",
    "ALIGN_NAME=REF_NAME.split('.fna')[0]\n",
    "ALIGNER='minimap2'\n",
    "\n",
    "NUM_THREADS=40\n",
    "LAYOUT='PAIRED'\n",
    "KEEP_UNALIGNED=False\n",
    "CREATE_FASTP=False\n",
    "\n",
    "#https://lh3.github.io/minimap2/minimap2.html#5 -2 for 2 IO threads\n",
    "MINIMAP_PARAMS=f'-MD -c -eqx -x sr -2 -t {NUM_THREADS} -I30g --sam-hit-only --secondary=no'\n",
    "ALIGN_OPTS_NAME='x_sr_secondary_no'\n",
    "\n",
    "BAM_POSTFIX='gatk_sorted_marked'\n",
    "BAMSTATS_POST=f'_{ALIGN_NAME}_{ALIGN_OPTS_NAME}_bamstats.txt'\n",
    "BAM_POST=f'_reads_{REF_NAME.split(\".fa\")[0]}_{ALIGN_OPTS_NAME}_{ALIGNER}_sorted.bam'"
   ]
  },
  {
   "cell_type": "code",
   "execution_count": null,
   "id": "2e5e2b2b",
   "metadata": {},
   "outputs": [],
   "source": [
    "PRJ='PRJNA901878'\n",
    "\n",
    "PRJ_OUT_PATH=f'/mnt/4TB_1/Data/Assembly/{PRJ}/'\n",
    "BASE_PATH=f'/mnt/8TB_0/Data/genbank/{PRJ}/'\n",
    "\n",
    "SRAs=['SRR22936497']\n",
    "\n",
    "FASTQ_FILES=[]\n",
    "for f in SRAs:\n",
    "    FASTQ_FILES.append(f+'_1_fastp.fastq')\n",
    "    FASTQ_FILES.append(f+'_2_fastp.fastq')\n",
    "    \n",
    "workflow_paired(sra_dir=False)"
   ]
  },
  {
   "cell_type": "code",
   "execution_count": null,
   "id": "1d148f2a",
   "metadata": {},
   "outputs": [],
   "source": []
  }
 ],
 "metadata": {
  "kernelspec": {
   "display_name": "Python 3",
   "language": "python",
   "name": "python3"
  },
  "language_info": {
   "codemirror_mode": {
    "name": "ipython",
    "version": 3
   },
   "file_extension": ".py",
   "mimetype": "text/x-python",
   "name": "python",
   "nbconvert_exporter": "python",
   "pygments_lexer": "ipython3",
   "version": "3.6.15"
  }
 },
 "nbformat": 4,
 "nbformat_minor": 5
}
