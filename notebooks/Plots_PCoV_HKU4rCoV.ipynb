{
 "cells": [
  {
   "cell_type": "code",
   "execution_count": 1,
   "id": "lesbian-moral",
   "metadata": {},
   "outputs": [],
   "source": [
    "import pathlib\n",
    "import pylab as plt\n",
    "from datetime import datetime\n",
    "#from matplotlib import pyplot as plt\n",
    "import numpy as np\n",
    "from numpy import unique\n",
    "from numpy import where\n",
    "import pandas as pd\n",
    "import matplotlib\n",
    "import seaborn as sns\n",
    "import warnings\n",
    "warnings.filterwarnings('ignore')\n"
   ]
  },
  {
   "cell_type": "code",
   "execution_count": 2,
   "id": "initial-audit",
   "metadata": {},
   "outputs": [],
   "source": [
    "sns.set_style('white')"
   ]
  },
  {
   "cell_type": "code",
   "execution_count": 3,
   "id": "scenic-preparation",
   "metadata": {},
   "outputs": [],
   "source": [
    "PRJ='PRJNA747757'\n",
    "BASE_PATH='/mnt/8TB_2/Data/Assembly/'\n",
    "DATA_PATH=f'{BASE_PATH}{PRJ}/'\n",
    "PLOT_PATH=DATA_PATH+'general_plots/'\n",
    "PLOT_DATA_FILE='Pangolin_CoVs_updated.csv'\n",
    "ITERATION=0\n",
    "PARAMS=''\n",
    "#PARAMS='default'"
   ]
  },
  {
   "cell_type": "code",
   "execution_count": 4,
   "id": "indie-while",
   "metadata": {},
   "outputs": [],
   "source": [
    "#df_accessions=pd.read_csv(PLOT_PATH+'accessions_kraken2.csv')"
   ]
  },
  {
   "cell_type": "code",
   "execution_count": 5,
   "id": "corporate-vegetation",
   "metadata": {},
   "outputs": [],
   "source": [
    "#df_accessions.head()"
   ]
  },
  {
   "cell_type": "markdown",
   "id": "8ec55643",
   "metadata": {},
   "source": [
    "### CoVs"
   ]
  },
  {
   "cell_type": "code",
   "execution_count": 6,
   "id": "7f6131c5",
   "metadata": {},
   "outputs": [],
   "source": [
    "df_cov=pd.read_csv(PLOT_PATH+PLOT_DATA_FILE)"
   ]
  },
  {
   "cell_type": "code",
   "execution_count": 7,
   "id": "30a1598c",
   "metadata": {},
   "outputs": [
    {
     "data": {
      "text/html": [
       "<div>\n",
       "<style scoped>\n",
       "    .dataframe tbody tr th:only-of-type {\n",
       "        vertical-align: middle;\n",
       "    }\n",
       "\n",
       "    .dataframe tbody tr th {\n",
       "        vertical-align: top;\n",
       "    }\n",
       "\n",
       "    .dataframe thead th {\n",
       "        text-align: right;\n",
       "    }\n",
       "</style>\n",
       "<table border=\"1\" class=\"dataframe\">\n",
       "  <thead>\n",
       "    <tr style=\"text-align: right;\">\n",
       "      <th></th>\n",
       "      <th>Virus name</th>\n",
       "      <th>Abbreviation</th>\n",
       "      <th>Passage details/history</th>\n",
       "      <th>GISAID Accession ID</th>\n",
       "      <th>NCBI Accession</th>\n",
       "      <th>Sample Collection date</th>\n",
       "      <th>Sequencing Date</th>\n",
       "      <th>Sequence Submission Date</th>\n",
       "      <th>Length</th>\n",
       "      <th>Host</th>\n",
       "      <th>...</th>\n",
       "      <th>Originating lab</th>\n",
       "      <th>Submitting lab</th>\n",
       "      <th>Authors</th>\n",
       "      <th>Submitter</th>\n",
       "      <th>Reference</th>\n",
       "      <th>BioProject</th>\n",
       "      <th>SRA datasets</th>\n",
       "      <th>RNA-Seq dataset notes</th>\n",
       "      <th>Hosted on</th>\n",
       "      <th>Reference.1</th>\n",
       "    </tr>\n",
       "  </thead>\n",
       "  <tbody>\n",
       "    <tr>\n",
       "      <th>0</th>\n",
       "      <td>hCoV-19/pangolin/Guangxi/P4L/2017</td>\n",
       "      <td>P4L</td>\n",
       "      <td>Original</td>\n",
       "      <td>EPI_ISL_410538</td>\n",
       "      <td>MT040333.1</td>\n",
       "      <td>2017</td>\n",
       "      <td>NaN</td>\n",
       "      <td>2020-02-17</td>\n",
       "      <td>29,806</td>\n",
       "      <td>Manis javanica</td>\n",
       "      <td>...</td>\n",
       "      <td>Beijing Institute of Microbiology and Epidemio...</td>\n",
       "      <td>Beijing Institute of Microbiology and Epidemio...</td>\n",
       "      <td>Wu-Chun Cao; Tommy Tsan-Yuk Lam; Na Jia; Ya-We...</td>\n",
       "      <td>Lam, Tsan Yuk</td>\n",
       "      <td>Lam et al. (2020)</td>\n",
       "      <td>PRJNA606875</td>\n",
       "      <td>NaN</td>\n",
       "      <td>Filtered</td>\n",
       "      <td>GISAID</td>\n",
       "      <td>NaN</td>\n",
       "    </tr>\n",
       "    <tr>\n",
       "      <th>1</th>\n",
       "      <td>hCoV-19/pangolin/Guangxi/P1E/2017</td>\n",
       "      <td>P1E</td>\n",
       "      <td>Original</td>\n",
       "      <td>EPI_ISL_410539</td>\n",
       "      <td>MT040334.1</td>\n",
       "      <td>2017</td>\n",
       "      <td>NaN</td>\n",
       "      <td>2020-02-17</td>\n",
       "      <td>29,801</td>\n",
       "      <td>Manis javanica</td>\n",
       "      <td>...</td>\n",
       "      <td>Beijing Institute of Microbiology and Epidemio...</td>\n",
       "      <td>Beijing Institute of Microbiology and Epidemio...</td>\n",
       "      <td>Wu-Chun Cao; Tommy Tsan-Yuk Lam; Na Jia; Ya-We...</td>\n",
       "      <td>Lam, Tsan Yuk</td>\n",
       "      <td>Lam et al. (2020)</td>\n",
       "      <td>PRJNA606875</td>\n",
       "      <td>NaN</td>\n",
       "      <td>Filtered</td>\n",
       "      <td>GISAID</td>\n",
       "      <td>NaN</td>\n",
       "    </tr>\n",
       "  </tbody>\n",
       "</table>\n",
       "<p>2 rows × 25 columns</p>\n",
       "</div>"
      ],
      "text/plain": [
       "                          Virus name Abbreviation Passage details/history  \\\n",
       "0  hCoV-19/pangolin/Guangxi/P4L/2017          P4L                Original   \n",
       "1  hCoV-19/pangolin/Guangxi/P1E/2017          P1E                Original   \n",
       "\n",
       "  GISAID Accession ID NCBI Accession Sample Collection date  Sequencing Date  \\\n",
       "0      EPI_ISL_410538     MT040333.1                   2017              NaN   \n",
       "1      EPI_ISL_410539     MT040334.1                   2017              NaN   \n",
       "\n",
       "  Sequence Submission Date  Length            Host  ...  \\\n",
       "0               2020-02-17  29,806  Manis javanica  ...   \n",
       "1               2020-02-17  29,801  Manis javanica  ...   \n",
       "\n",
       "                                     Originating lab  \\\n",
       "0  Beijing Institute of Microbiology and Epidemio...   \n",
       "1  Beijing Institute of Microbiology and Epidemio...   \n",
       "\n",
       "                                      Submitting lab  \\\n",
       "0  Beijing Institute of Microbiology and Epidemio...   \n",
       "1  Beijing Institute of Microbiology and Epidemio...   \n",
       "\n",
       "                                             Authors      Submitter  \\\n",
       "0  Wu-Chun Cao; Tommy Tsan-Yuk Lam; Na Jia; Ya-We...  Lam, Tsan Yuk   \n",
       "1  Wu-Chun Cao; Tommy Tsan-Yuk Lam; Na Jia; Ya-We...  Lam, Tsan Yuk   \n",
       "\n",
       "           Reference   BioProject SRA datasets RNA-Seq dataset notes  \\\n",
       "0  Lam et al. (2020)  PRJNA606875          NaN              Filtered   \n",
       "1  Lam et al. (2020)  PRJNA606875          NaN              Filtered   \n",
       "\n",
       "  Hosted on Reference.1  \n",
       "0    GISAID         NaN  \n",
       "1    GISAID         NaN  \n",
       "\n",
       "[2 rows x 25 columns]"
      ]
     },
     "execution_count": 7,
     "metadata": {},
     "output_type": "execute_result"
    }
   ],
   "source": [
    "df_cov.head(n=2)"
   ]
  },
  {
   "cell_type": "code",
   "execution_count": 8,
   "id": "4b47ae21",
   "metadata": {},
   "outputs": [
    {
     "data": {
      "text/plain": [
       "Virus name                                 object\n",
       "Abbreviation                               object\n",
       "Passage details/history                    object\n",
       "GISAID Accession ID                        object\n",
       "NCBI Accession                             object\n",
       "Sample Collection date                     object\n",
       "Sequencing Date                           float64\n",
       "Sequence Submission Date                   object\n",
       "Length                                     object\n",
       "Host                                       object\n",
       "Additional location information            object\n",
       "Specimen source                            object\n",
       "CoV homology                               object\n",
       "Genome region                              object\n",
       "Location                                   object\n",
       "Originating lab                            object\n",
       "Submitting lab                             object\n",
       "Authors                                    object\n",
       "Submitter                                  object\n",
       "Reference                                  object\n",
       "BioProject                                 object\n",
       "SRA datasets                               object\n",
       "RNA-Seq dataset notes                      object\n",
       "Hosted on                                  object\n",
       "Reference.1                                object\n",
       "Submission_Date                    datetime64[ns]\n",
       "dtype: object"
      ]
     },
     "execution_count": 8,
     "metadata": {},
     "output_type": "execute_result"
    }
   ],
   "source": [
    "df_cov['Submission_Date'] = pd.to_datetime(df_cov['Sequence Submission Date'], format='%Y-%m-%d', errors='coerce')\n",
    "df_cov.dtypes"
   ]
  },
  {
   "cell_type": "code",
   "execution_count": 9,
   "id": "94bd202b",
   "metadata": {},
   "outputs": [],
   "source": [
    "df_GD=df_cov[df_cov[\"CoV homology\"].isin([\"GD\"])]\n",
    "df_GX=df_cov[df_cov[\"CoV homology\"].isin([\"GX\"])]\n",
    "df_HKU4=df_cov[df_cov[\"CoV homology\"].isin([\"HKU4r-CoV\"])]\n",
    "#need for start of time series\n",
    "df_Liu=df_cov[df_cov[\"CoV homology\"].isin([\"GD_PRJNA\"])]\n",
    "df_Chen=df_cov[df_cov[\"CoV homology\"].isin([\"HKU4r-CoV_PRJNA\"])]\n",
    "#df_ZC45=df_cov[df_cov[\"CoV homology\"].isin([\"GX_PRJNA\"])]\n",
    "df_EOF=df_cov[df_cov[\"CoV homology\"].isin([\"EOF\"])]\n",
    "df_GD=df_Liu.append(df_GD)\n",
    "df_HKU4=df_Chen.append(df_HKU4)\n",
    "df_GD= df_GD.append(df_EOF)"
   ]
  },
  {
   "cell_type": "code",
   "execution_count": 10,
   "id": "8ba23cb7",
   "metadata": {},
   "outputs": [],
   "source": [
    "df_gd_count = df_GD['Submission_Date'].value_counts().reset_index(name='counts')"
   ]
  },
  {
   "cell_type": "code",
   "execution_count": 11,
   "id": "9dd5f7fe",
   "metadata": {},
   "outputs": [],
   "source": [
    "df_gd_count.columns=['Submission_Date','counts']"
   ]
  },
  {
   "cell_type": "code",
   "execution_count": 12,
   "id": "6d2b6491",
   "metadata": {},
   "outputs": [],
   "source": [
    "df_gd_count = df_gd_count.sort_values(by='Submission_Date') \n",
    "df_gd_count=df_gd_count.drop_duplicates('Submission_Date').set_index('Submission_Date').asfreq('D',fill_value=0)"
   ]
  },
  {
   "cell_type": "code",
   "execution_count": 13,
   "id": "29620e46",
   "metadata": {},
   "outputs": [],
   "source": [
    "df2=df_GD[df_GD.duplicated('Submission_Date')].set_index('Submission_Date')\n",
    "\n",
    "new_df=df_GD.drop_duplicates('Submission_Date').set_index('Submission_Date').asfreq('D',fill_value=0)\n",
    "\n",
    "#new_df=new_df.append(df2).sort_index().reset_index()\n",
    "new_df['v_place']=[0]*len(new_df)\n",
    "new_df['v_bin'] = np.where(new_df['Sequence Submission Date'] != 0,1, 0)"
   ]
  },
  {
   "cell_type": "code",
   "execution_count": 14,
   "id": "19350c01",
   "metadata": {},
   "outputs": [],
   "source": [
    "new_df['Sequence Submission Date'] = pd.to_datetime(new_df['Sequence Submission Date'], format='%Y-%m-%d', errors='coerce')"
   ]
  },
  {
   "cell_type": "code",
   "execution_count": 15,
   "id": "8a21ca02",
   "metadata": {},
   "outputs": [],
   "source": [
    "df_gd_count['Sequence Submission Date'] = df_gd_count.index"
   ]
  },
  {
   "cell_type": "code",
   "execution_count": 16,
   "id": "077dba28",
   "metadata": {},
   "outputs": [],
   "source": [
    "df_m_gd=pd.merge(new_df, df_gd_count, on='Sequence Submission Date')"
   ]
  },
  {
   "cell_type": "code",
   "execution_count": 17,
   "id": "95634da7",
   "metadata": {},
   "outputs": [],
   "source": [
    "df_m_gd=df_m_gd.drop_duplicates('Sequence Submission Date').set_index('Sequence Submission Date').asfreq('D',fill_value=0)"
   ]
  },
  {
   "cell_type": "code",
   "execution_count": 18,
   "id": "861013f9",
   "metadata": {},
   "outputs": [],
   "source": [
    "df_m_gd['Sequence Submission Date'] = df_m_gd.index\n",
    "df_m_gd.loc[df_m_gd['Sequence Submission Date'].eq('2023-04-01'), 'counts'] = 0\n",
    "df_m_gd.loc[df_m_gd['Sequence Submission Date'].eq('2019-10-24'), 'counts'] = 0"
   ]
  },
  {
   "cell_type": "code",
   "execution_count": 19,
   "id": "9cfd6835",
   "metadata": {},
   "outputs": [],
   "source": [
    "df_gx_count = df_GX['Submission_Date'].value_counts().reset_index(name='counts')\n",
    "df_gx_count.columns=['Submission_Date','counts']\n",
    "df_gx_count = df_gx_count.sort_values(by='Submission_Date') \n",
    "df_gx_count=df_gx_count.drop_duplicates('Submission_Date').set_index('Submission_Date').asfreq('D',fill_value=0)\n",
    "\n",
    "new_df_gx=df_GX.drop_duplicates('Submission_Date').set_index('Submission_Date').asfreq('D',fill_value=0)\n",
    "new_df_gx['v_place']=[0]*len(new_df_gx)\n",
    "new_df_gx['v_bin'] = np.where(new_df_gx['Sequence Submission Date'] != 0,1, 0)\n",
    "new_df_gx['Sequence Submission Date'] = pd.to_datetime(new_df_gx['Sequence Submission Date'], format='%Y-%m-%d', errors='coerce')\n",
    "\n",
    "df_gx_count['Sequence Submission Date'] = df_gx_count.index\n",
    "df_m_gx=pd.merge(new_df_gx, df_gx_count, on='Sequence Submission Date')\n",
    "df_m_gx=df_m_gx.drop_duplicates('Sequence Submission Date').set_index('Sequence Submission Date').asfreq('D',fill_value=0)\n",
    "df_m_gx['Sequence Submission Date'] = df_m_gx.index\n",
    "df_m_gx.loc[df_m_gx['Sequence Submission Date'].eq('2023-04-01'), 'counts'] = 0\n",
    "df_m_gx.loc[df_m_gx['Sequence Submission Date'].eq('2019-10-24'), 'counts'] = 0"
   ]
  },
  {
   "cell_type": "code",
   "execution_count": 20,
   "id": "78100ba9",
   "metadata": {},
   "outputs": [],
   "source": [
    "df_hk_count = df_HKU4['Submission_Date'].value_counts().reset_index(name='counts')\n",
    "df_hk_count.columns=['Submission_Date','counts']\n",
    "df_hk_count = df_hk_count.sort_values(by='Submission_Date') \n",
    "df_hk_count=df_hk_count.drop_duplicates('Submission_Date').set_index('Submission_Date').asfreq('D',fill_value=0)\n",
    "\n",
    "new_df_hk=df_HKU4.drop_duplicates('Submission_Date').set_index('Submission_Date').asfreq('D',fill_value=0)\n",
    "new_df_hk['v_place']=[0]*len(new_df_hk)\n",
    "new_df_hk['v_bin'] = np.where(new_df_hk['Sequence Submission Date'] != 0,1, 0)\n",
    "new_df_hk['Sequence Submission Date'] = pd.to_datetime(new_df_hk['Sequence Submission Date'], format='%Y-%m-%d', errors='coerce')\n",
    "\n",
    "df_hk_count['Sequence Submission Date'] = df_hk_count.index\n",
    "df_m_hk=pd.merge(new_df_hk, df_hk_count, on='Sequence Submission Date')\n",
    "df_m_hk=df_m_hk.drop_duplicates('Sequence Submission Date').set_index('Sequence Submission Date').asfreq('D',fill_value=0)\n",
    "df_m_hk['Sequence Submission Date'] = df_m_hk.index\n",
    "df_m_hk.loc[df_m_hk['Sequence Submission Date'].eq('2023-04-01'), 'counts'] = 0\n",
    "df_m_hk.loc[df_m_hk['Sequence Submission Date'].eq('2019-10-24'), 'counts'] = 0"
   ]
  },
  {
   "cell_type": "code",
   "execution_count": 21,
   "id": "a223fc09",
   "metadata": {
    "scrolled": true
   },
   "outputs": [],
   "source": [
    "df_m_liu=df_m_gd.copy()\n",
    "df_m_liu=df_m_gd.loc[df_m_gd['Sequence Submission Date'].eq('2019-10-24')]\n",
    "df_m_liu['counts']=1"
   ]
  },
  {
   "cell_type": "code",
   "execution_count": 22,
   "id": "1fd4577d",
   "metadata": {},
   "outputs": [],
   "source": [
    "df_m_chen=df_m_hk.copy()\n",
    "df_m_chen=df_m_hk.loc[df_m_hk['Sequence Submission Date'].eq('2021-07-22')]\n",
    "df_m_chen['counts']=1"
   ]
  },
  {
   "cell_type": "code",
   "execution_count": 23,
   "id": "fe1f28b4",
   "metadata": {},
   "outputs": [],
   "source": [
    "df_m_zc45=df_m_gx.copy()\n",
    "df_m_zc45=df_m_gx.loc[df_m_gx['Sequence Submission Date'].eq('2022-01-09')]\n",
    "df_m_zc45['counts']=1"
   ]
  },
  {
   "cell_type": "code",
   "execution_count": 24,
   "id": "24134934",
   "metadata": {},
   "outputs": [
    {
     "data": {
      "image/png": "[encoded data removed]",
      "text/plain": [
       "<Figure size 576x288 with 1 Axes>"
      ]
     },
     "metadata": {},
     "output_type": "display_data"
    }
   ],
   "source": [
    "\n",
    "\n",
    "\n",
    "plt.rcParams[\"figure.figsize\"] = (8,4)\n",
    "plt.scatter(df_m_gd['Sequence Submission Date'],df_m_gd['counts'],color='b')\n",
    "plt.scatter(df_m_gx['Sequence Submission Date'],df_m_gx['counts'],color='y')\n",
    "plt.scatter(df_m_hk['Sequence Submission Date'],df_m_hk['counts'],color='r')\n",
    "plt.scatter(df_m_liu['Sequence Submission Date'],df_m_liu['counts'],color='k', marker=\"x\")\n",
    "plt.scatter(df_m_chen['Sequence Submission Date'],df_m_chen['counts'],color='k', marker=\"D\")\n",
    "#plt.scatter(df_m_zc45['Sequence Submission Date'],df_m_zc45['counts'],color='k', marker=\"O\")\n",
    "plt.ylim(0.5, 12)\n",
    "plt.xticks(rotation=90)\n",
    "plt.ylabel('count')\n",
    "plt.xlabel('submission date')\n",
    "plt.legend(['GD', 'GX', 'HKU4','Liu et al. GD', 'Chen et al. HKU4'])\n",
    "plt.tight_layout()\n",
    "#plt.savefig(PLOT_PATH+'pcov_time_series.png', dpi=300)"
   ]
  },
  {
   "cell_type": "code",
   "execution_count": 25,
   "id": "1f5be0a3",
   "metadata": {},
   "outputs": [],
   "source": [
    "sns.axes_style(\"whitegrid\")\n",
    "sns.set(rc={\"figure.figsize\":(10, 6)})\n"
   ]
  },
  {
   "cell_type": "code",
   "execution_count": 26,
   "id": "2ef0d5f3",
   "metadata": {},
   "outputs": [
    {
     "data": {
      "image/png": "[encoded data removed]",
      "text/plain": [
       "<Figure size 720x432 with 1 Axes>"
      ]
     },
     "metadata": {},
     "output_type": "display_data"
    }
   ],
   "source": [
    "\n",
    "scatter=sns.scatterplot(data=df_m_gd, x='Sequence Submission Date', y='counts', s=180, color='b')\n",
    "scatter=sns.scatterplot(data=df_m_gx, x='Sequence Submission Date', y='counts', s=180, color='y')\n",
    "scatter=sns.scatterplot(data=df_m_hk, x='Sequence Submission Date', y='counts', s=180, color='r', marker=\"^\")\n",
    "scatter=sns.scatterplot(data=df_m_liu, x='Sequence Submission Date', y='counts', s=180, color='k', marker=\"x\")\n",
    "scatter=sns.scatterplot(data=df_m_chen, x='Sequence Submission Date', y='counts', s=180, color='k', marker=\"D\")\n",
    "\n",
    "\n",
    "\n",
    "plt.ylim(0.5, 12)\n",
    "plt.xticks(rotation=90)\n",
    "plt.ylabel('count')\n",
    "plt.xlabel('submission date')\n",
    "plt.legend(['GD', 'GX', 'HKU4','Liu et al. GD', 'Chen et al. HKU4'])\n",
    "plt.tight_layout()\n",
    "#plt.savefig(PLOT_PATH+'pcov_time_series_sns.png', dpi=300)"
   ]
  },
  {
   "cell_type": "code",
   "execution_count": null,
   "id": "c2294ee9",
   "metadata": {},
   "outputs": [],
   "source": []
  }
 ],
 "metadata": {
  "kernelspec": {
   "display_name": "Python 3",
   "language": "python",
   "name": "python3"
  },
  "language_info": {
   "codemirror_mode": {
    "name": "ipython",
    "version": 3
   },
   "file_extension": ".py",
   "mimetype": "text/x-python",
   "name": "python",
   "nbconvert_exporter": "python",
   "pygments_lexer": "ipython3",
   "version": "3.6.15"
  }
 },
 "nbformat": 4,
 "nbformat_minor": 5
}
