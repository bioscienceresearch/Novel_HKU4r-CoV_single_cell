{
 "cells": [
  {
   "cell_type": "code",
   "execution_count": 1,
   "id": "controversial-conviction",
   "metadata": {},
   "outputs": [],
   "source": [
    "import os\n",
    "import time\n",
    "import pandas as pd\n",
    "import numpy as np\n",
    "import pathlib\n",
    "from io import StringIO\n",
    "from Bio import SeqIO\n",
    "from Bio.Cluster import distancematrix\n",
    "from Bio.Blast.Applications import NcbiblastnCommandline\n",
    "from Bio.Blast import NCBIWWW\n",
    "from Bio.Blast import NCBIXML\n",
    "import subprocess"
   ]
  },
  {
   "cell_type": "markdown",
   "id": "individual-values",
   "metadata": {},
   "source": [
    "Make sure blast is on path\n",
    "\n",
    "in .bashrc add\n",
    "\n",
    "export PATH=\"$PATH:~/somefolder/ncbi-blast-2.11.0+/bin\"\n",
    "\n",
    "before running this notebook run:\n",
    "\n",
    "export BLASTDB=/somepath/database_directory\n",
    "\n",
    "eg\n",
    "\n",
    "export BLASTDB=/mnt/255GB_ssd/Data/BLAST/blastdb"
   ]
  },
  {
   "cell_type": "markdown",
   "id": "labeled-boxing",
   "metadata": {},
   "source": [
    "concatenated all reads to one fastq: for i in `ls *.fastq`; do cat $i >> ICU10G_S4_L001_R1R2.fastq; echo \"Completed\"; done"
   ]
  },
  {
   "cell_type": "code",
   "execution_count": 2,
   "id": "hydraulic-blood",
   "metadata": {},
   "outputs": [],
   "source": [
    "PRJ='PRJCA002517'\n",
    "\n",
    "DATA_PATH=f'/mnt/8TB_2/Data/Assembly/{PRJ}/'\n",
    "\n",
    "\n",
    "DB='nt'\n",
    "#DB='gsa_bsl_nt_db'\n",
    "\n",
    "KMER='final'\n",
    "#MEGAHIT_POSTFIX=f'megahit_default/{KMER}.contigs.fa'\n",
    "MEGAHIT_POSTFIX=f'metaxa2/megahit_default/final.contigs.fa'\n",
    "#OUT_FILE_UID='megahit'\n",
    "OUT_FILE_UID='megahit_nt'\n",
    "SRA_PATH_EXTENSION=''\n",
    "\n",
    "#percentage identity 95%\n",
    "PER_ID = 95\n",
    "#PER_ID = 80\n",
    "#Expect value (E) for saving hits\n",
    "#E_VAL=0.001\n",
    "E_VAL=0.05\n",
    "NUM_THREADS=6\n",
    "MAX_TGT_SEQS=5\n",
    "#Maximum number of HSPs (alignments) to keep for any single query-subject pair.\n",
    "#If this option is not set (None), BLAST shows all HSPs meeting the expect value criteria.\n",
    "MAX_HSPS=1\n",
    "RUN_CODE=f'seq{MAX_TGT_SEQS}_hsps{MAX_HSPS}'"
   ]
  },
  {
   "cell_type": "code",
   "execution_count": 3,
   "id": "optical-tribune",
   "metadata": {},
   "outputs": [],
   "source": [
    "def get_contigs(contigs_file):\n",
    "    contigs={}\n",
    "    filec = open(contigs_file, 'r')\n",
    "    lines = filec.readlines()\n",
    "    prev_line = None\n",
    "    for line in lines:\n",
    "        line = line.strip('\\n')\n",
    "        contig_id=line.split(' ')[0]\n",
    "        if not line.startswith('>'):\n",
    "            if prev_line==None:\n",
    "                prev_line=contig_id\n",
    "            contigs[prev_line]=line\n",
    "        prev_line=contig_id\n",
    "    return contigs\n",
    "    "
   ]
  },
  {
   "cell_type": "markdown",
   "id": "civil-spencer",
   "metadata": {},
   "source": [
    "### Local Blast"
   ]
  },
  {
   "cell_type": "code",
   "execution_count": 4,
   "id": "dying-channels",
   "metadata": {},
   "outputs": [],
   "source": [
    "#local BLAST\n",
    "#see https://www.biostars.org/p/332113/\n",
    "def search(idx, query_string, database_path, alfile, hspfile):\n",
    "    start_time=time.time()\n",
    "\n",
    "    per_id = PER_ID\n",
    "    e_val=E_VAL\n",
    "    max_tgt_seqs=MAX_TGT_SEQS\n",
    "    max_hsps=MAX_HSPS\n",
    "    blastn_cline = NcbiblastnCommandline(\n",
    "                                         db=database_path, \n",
    "                                         evalue=e_val,\n",
    "                                         outfmt=5, \n",
    "                                         perc_identity=per_id,\n",
    "                                         max_target_seqs=max_tgt_seqs, \n",
    "                                         max_hsps=max_hsps,\n",
    "                                         num_threads=NUM_THREADS\n",
    "                                        )\n",
    "    out, err = blastn_cline(stdin=query_string)\n",
    "    io_result = StringIO(out)\n",
    "    blast_records = list(NCBIXML.parse(io_result))\n",
    "    for blast_record in blast_records:\n",
    "        for alignment in blast_record.alignments:\n",
    "            title = alignment.title\n",
    "            query_length = blast_record.query_letters\n",
    "            alfile.write(f\"id: {idx}, title: {title}, accession: {alignment.accession}\\n\")\n",
    "            for hsp in alignment.hsps:\n",
    "                    hspfile.write(f\"id: {idx}, title: {title}, accession: {alignment.accession}, \\\n",
    "                    hit_id: {alignment.hit_id}, length: {alignment.length}, query_length {blast_record.query_letters}, \\\n",
    "                    score: {hsp.score}, expect: {hsp.expect}, align_length: {hsp.align_length}, bits: {hsp.bits}, \\\n",
    "                    query: {hsp.query}, sbjct: {hsp.sbjct}, query_start: {hsp.query_start}, query_end: {hsp.query_end}, sbjct_start: {hsp.sbjct_start}, sbjct_end: {hsp.sbjct_end}\\n\")\n",
    "    return "
   ]
  },
  {
   "cell_type": "code",
   "execution_count": 5,
   "id": "large-whale",
   "metadata": {},
   "outputs": [],
   "source": [
    "def run_blast(sra):\n",
    "    loop_time=time.time()\n",
    "    print(sra)\n",
    "    sra_path=DATA_PATH+sra+'/'+SRA_PATH_EXTENSION\n",
    "    blast_path=sra_path+'blast/'\n",
    "    pathlib.Path(blast_path).mkdir(exist_ok=True)\n",
    "    contigs_file=sra_path+MEGAHIT_POSTFIX\n",
    "    contigs = get_contigs(contigs_file)\n",
    "    \n",
    "    result_file=f'{blast_path}{sra}_{OUT_FILE_UID}_{KMER}_blast_{DB}_{RUN_CODE}_PCT{PER_ID}_E{E_VAL}.csv'\n",
    "    hsp_file=f'{blast_path}{sra}_{OUT_FILE_UID}_{KMER}_blast_{DB}_{RUN_CODE}_PCT{PER_ID}_E{E_VAL}_hsps.txt'\n",
    "    hit_data=[]\n",
    "    #open file first and write as we go\n",
    "    resultf= open(result_file,\"a\")\n",
    "    hspf= open(hsp_file,\"a\")\n",
    "    i=0\n",
    "    for k,v in contigs.items():\n",
    "        if (i % 10000==0) and i>0:\n",
    "            print(f'Blasting contig: {i} index: {k} elapsed: {time.time()-start_time}')\n",
    "        if (i % 100==0):\n",
    "            resultf.flush()\n",
    "            hspf.flush()\n",
    "        #idx, query_string, database_path, outfile\n",
    "        hit_data.append(search(k, str(v), DB, resultf, hspf))\n",
    "        i+=1\n",
    "    resultf.close()\n",
    "    hspf.close()\n",
    "    print(f'{sra} completed, in: {time.time()-loop_time}')"
   ]
  },
  {
   "cell_type": "code",
   "execution_count": 6,
   "id": "capital-flight",
   "metadata": {},
   "outputs": [],
   "source": [
    "SRAs=['CRR477154','CRR477155','CRR477156', 'CRR477157']"
   ]
  },
  {
   "cell_type": "code",
   "execution_count": 7,
   "id": "exact-antique",
   "metadata": {},
   "outputs": [
    {
     "name": "stdout",
     "output_type": "stream",
     "text": [
      "CRR477154\n",
      "CRR477154 completed, in: 3331.1874067783356\n",
      "CRR477155\n",
      "CRR477155 completed, in: 1040.0253834724426\n",
      "CRR477156\n",
      "CRR477156 completed, in: 939.9331240653992\n",
      "CRR477157\n",
      "CRR477157 completed, in: 1269.0101263523102\n",
      "Total leapsed: 6580.1628885269165\n"
     ]
    }
   ],
   "source": [
    "start_time=time.time()\n",
    "for sra in SRAs:\n",
    "    run_blast(sra)\n",
    "print(f'Total leapsed: {time.time()-start_time}')"
   ]
  }
 ],
 "metadata": {
  "kernelspec": {
   "display_name": "Python 3",
   "language": "python",
   "name": "python3"
  },
  "language_info": {
   "codemirror_mode": {
    "name": "ipython",
    "version": 3
   },
   "file_extension": ".py",
   "mimetype": "text/x-python",
   "name": "python",
   "nbconvert_exporter": "python",
   "pygments_lexer": "ipython3",
   "version": "3.6.15"
  }
 },
 "nbformat": 4,
 "nbformat_minor": 5
}
